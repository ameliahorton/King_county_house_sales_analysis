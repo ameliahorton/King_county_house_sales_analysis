{
 "cells": [
  {
   "cell_type": "markdown",
   "id": "baf63946",
   "metadata": {},
   "source": [
    "# House Sales in King County, USA\n",
    "----"
   ]
  },
  {
   "cell_type": "markdown",
   "id": "e180c3e7",
   "metadata": {},
   "source": [
    "This dataset contains house sale prices for King County, which includes Seattle. It includes homes sold between May 2014 and May 2015.\n",
    "\n",
    "**id** :a notation for a house\n",
    "\n",
    "**date**: Date house was sold\n",
    "\n",
    "**price**: Price is prediction target\n",
    "\n",
    "**bedrooms**: Number of Bedrooms/House\n",
    "\n",
    "**bathrooms**: Number of bathrooms/bedrooms\n",
    "\n",
    "**sqft_living**: square footage of the home\n",
    "\n",
    "**sqft_lot**: square footage of the lot\n",
    "\n",
    "**floors** :Total floors (levels) in house\n",
    "\n",
    "**waterfront** :House which has a view to a waterfront\n",
    "\n",
    "**view**: Has been viewed\n",
    "\n",
    "**condition** :How good the condition is Overall\n",
    "\n",
    "**grade**: overall grade given to the housing unit, based on King County grading system\n",
    "\n",
    "**sqft_above** :square footage of house apart from basement\n",
    "\n",
    "**sqft_basement**: square footage of the basement\n",
    "\n",
    "**yr_built** :Built Year\n",
    "\n",
    "**yr_renovated** :Year when house was renovated\n",
    "\n",
    "**zipcode**:zip code\n",
    "\n",
    "**lat**: Latitude coordinate\n",
    "\n",
    "**long**: Longitude coordinate\n",
    "\n",
    "**sqft_living15** :Living room area in 2015(implies-- some renovations) This might or might not have affected the lotsize area\n",
    "\n",
    "**sqft_lot15** :lotSize area in 2015(implies-- some renovations)"
   ]
  },
  {
   "cell_type": "code",
   "execution_count": 1,
   "id": "956dd1cf",
   "metadata": {},
   "outputs": [],
   "source": [
    "# Dependencies and Setup\n",
    "import pandas as pd\n",
    "import matplotlib.pyplot as plt\n",
    "import numpy as np\n",
    "from scipy.stats import linregress\n",
    "import gmaps\n",
    "import os"
   ]
  },
  {
   "cell_type": "markdown",
   "id": "676fb051",
   "metadata": {},
   "source": [
    "# Importing Data\n",
    "\n",
    "- Load and read csv file"
   ]
  },
  {
   "cell_type": "code",
   "execution_count": 2,
   "id": "6ce9af05",
   "metadata": {
    "scrolled": true
   },
   "outputs": [
    {
     "data": {
      "text/html": [
       "<div>\n",
       "<style scoped>\n",
       "    .dataframe tbody tr th:only-of-type {\n",
       "        vertical-align: middle;\n",
       "    }\n",
       "\n",
       "    .dataframe tbody tr th {\n",
       "        vertical-align: top;\n",
       "    }\n",
       "\n",
       "    .dataframe thead th {\n",
       "        text-align: right;\n",
       "    }\n",
       "</style>\n",
       "<table border=\"1\" class=\"dataframe\">\n",
       "  <thead>\n",
       "    <tr style=\"text-align: right;\">\n",
       "      <th></th>\n",
       "      <th>id</th>\n",
       "      <th>date</th>\n",
       "      <th>price</th>\n",
       "      <th>bedrooms</th>\n",
       "      <th>bathrooms</th>\n",
       "      <th>sqft_living</th>\n",
       "      <th>sqft_lot</th>\n",
       "      <th>floors</th>\n",
       "      <th>waterfront</th>\n",
       "      <th>view</th>\n",
       "      <th>...</th>\n",
       "      <th>grade</th>\n",
       "      <th>sqft_above</th>\n",
       "      <th>sqft_basement</th>\n",
       "      <th>yr_built</th>\n",
       "      <th>yr_renovated</th>\n",
       "      <th>zipcode</th>\n",
       "      <th>lat</th>\n",
       "      <th>long</th>\n",
       "      <th>sqft_living15</th>\n",
       "      <th>sqft_lot15</th>\n",
       "    </tr>\n",
       "  </thead>\n",
       "  <tbody>\n",
       "    <tr>\n",
       "      <th>0</th>\n",
       "      <td>7129300520</td>\n",
       "      <td>20141013T000000</td>\n",
       "      <td>221900.0</td>\n",
       "      <td>3</td>\n",
       "      <td>1.00</td>\n",
       "      <td>1180</td>\n",
       "      <td>5650</td>\n",
       "      <td>1.0</td>\n",
       "      <td>0</td>\n",
       "      <td>0</td>\n",
       "      <td>...</td>\n",
       "      <td>7</td>\n",
       "      <td>1180</td>\n",
       "      <td>0</td>\n",
       "      <td>1955</td>\n",
       "      <td>0</td>\n",
       "      <td>98178</td>\n",
       "      <td>47.5112</td>\n",
       "      <td>-122.257</td>\n",
       "      <td>1340</td>\n",
       "      <td>5650</td>\n",
       "    </tr>\n",
       "    <tr>\n",
       "      <th>1</th>\n",
       "      <td>6414100192</td>\n",
       "      <td>20141209T000000</td>\n",
       "      <td>538000.0</td>\n",
       "      <td>3</td>\n",
       "      <td>2.25</td>\n",
       "      <td>2570</td>\n",
       "      <td>7242</td>\n",
       "      <td>2.0</td>\n",
       "      <td>0</td>\n",
       "      <td>0</td>\n",
       "      <td>...</td>\n",
       "      <td>7</td>\n",
       "      <td>2170</td>\n",
       "      <td>400</td>\n",
       "      <td>1951</td>\n",
       "      <td>1991</td>\n",
       "      <td>98125</td>\n",
       "      <td>47.7210</td>\n",
       "      <td>-122.319</td>\n",
       "      <td>1690</td>\n",
       "      <td>7639</td>\n",
       "    </tr>\n",
       "    <tr>\n",
       "      <th>2</th>\n",
       "      <td>5631500400</td>\n",
       "      <td>20150225T000000</td>\n",
       "      <td>180000.0</td>\n",
       "      <td>2</td>\n",
       "      <td>1.00</td>\n",
       "      <td>770</td>\n",
       "      <td>10000</td>\n",
       "      <td>1.0</td>\n",
       "      <td>0</td>\n",
       "      <td>0</td>\n",
       "      <td>...</td>\n",
       "      <td>6</td>\n",
       "      <td>770</td>\n",
       "      <td>0</td>\n",
       "      <td>1933</td>\n",
       "      <td>0</td>\n",
       "      <td>98028</td>\n",
       "      <td>47.7379</td>\n",
       "      <td>-122.233</td>\n",
       "      <td>2720</td>\n",
       "      <td>8062</td>\n",
       "    </tr>\n",
       "    <tr>\n",
       "      <th>3</th>\n",
       "      <td>2487200875</td>\n",
       "      <td>20141209T000000</td>\n",
       "      <td>604000.0</td>\n",
       "      <td>4</td>\n",
       "      <td>3.00</td>\n",
       "      <td>1960</td>\n",
       "      <td>5000</td>\n",
       "      <td>1.0</td>\n",
       "      <td>0</td>\n",
       "      <td>0</td>\n",
       "      <td>...</td>\n",
       "      <td>7</td>\n",
       "      <td>1050</td>\n",
       "      <td>910</td>\n",
       "      <td>1965</td>\n",
       "      <td>0</td>\n",
       "      <td>98136</td>\n",
       "      <td>47.5208</td>\n",
       "      <td>-122.393</td>\n",
       "      <td>1360</td>\n",
       "      <td>5000</td>\n",
       "    </tr>\n",
       "    <tr>\n",
       "      <th>4</th>\n",
       "      <td>1954400510</td>\n",
       "      <td>20150218T000000</td>\n",
       "      <td>510000.0</td>\n",
       "      <td>3</td>\n",
       "      <td>2.00</td>\n",
       "      <td>1680</td>\n",
       "      <td>8080</td>\n",
       "      <td>1.0</td>\n",
       "      <td>0</td>\n",
       "      <td>0</td>\n",
       "      <td>...</td>\n",
       "      <td>8</td>\n",
       "      <td>1680</td>\n",
       "      <td>0</td>\n",
       "      <td>1987</td>\n",
       "      <td>0</td>\n",
       "      <td>98074</td>\n",
       "      <td>47.6168</td>\n",
       "      <td>-122.045</td>\n",
       "      <td>1800</td>\n",
       "      <td>7503</td>\n",
       "    </tr>\n",
       "  </tbody>\n",
       "</table>\n",
       "<p>5 rows × 21 columns</p>\n",
       "</div>"
      ],
      "text/plain": [
       "           id             date     price  bedrooms  bathrooms  sqft_living  \\\n",
       "0  7129300520  20141013T000000  221900.0         3       1.00         1180   \n",
       "1  6414100192  20141209T000000  538000.0         3       2.25         2570   \n",
       "2  5631500400  20150225T000000  180000.0         2       1.00          770   \n",
       "3  2487200875  20141209T000000  604000.0         4       3.00         1960   \n",
       "4  1954400510  20150218T000000  510000.0         3       2.00         1680   \n",
       "\n",
       "   sqft_lot  floors  waterfront  view  ...  grade  sqft_above  sqft_basement  \\\n",
       "0      5650     1.0           0     0  ...      7        1180              0   \n",
       "1      7242     2.0           0     0  ...      7        2170            400   \n",
       "2     10000     1.0           0     0  ...      6         770              0   \n",
       "3      5000     1.0           0     0  ...      7        1050            910   \n",
       "4      8080     1.0           0     0  ...      8        1680              0   \n",
       "\n",
       "   yr_built  yr_renovated  zipcode      lat     long  sqft_living15  \\\n",
       "0      1955             0    98178  47.5112 -122.257           1340   \n",
       "1      1951          1991    98125  47.7210 -122.319           1690   \n",
       "2      1933             0    98028  47.7379 -122.233           2720   \n",
       "3      1965             0    98136  47.5208 -122.393           1360   \n",
       "4      1987             0    98074  47.6168 -122.045           1800   \n",
       "\n",
       "   sqft_lot15  \n",
       "0        5650  \n",
       "1        7639  \n",
       "2        8062  \n",
       "3        5000  \n",
       "4        7503  \n",
       "\n",
       "[5 rows x 21 columns]"
      ]
     },
     "execution_count": 2,
     "metadata": {},
     "output_type": "execute_result"
    }
   ],
   "source": [
    "# File to Load:\n",
    "file_to_load='kc_house_data.csv' \n",
    "\n",
    "# Read kc_house_data csv file and store into data frame:\n",
    "kc_house_data_df=pd.read_csv(file_to_load)\n",
    "kc_house_data_df.head()"
   ]
  },
  {
   "cell_type": "markdown",
   "id": "b612a1c5",
   "metadata": {},
   "source": [
    "# Slicing Data\n",
    "- Only display in dataframe columns: 'id', 'price', 'bedrooms', 'bathrooms', 'sqft_living', 'waterfront', 'yr_built', 'zipcode', 'lat', 'long'"
   ]
  },
  {
   "cell_type": "code",
   "execution_count": 3,
   "id": "e3ce560f",
   "metadata": {},
   "outputs": [
    {
     "data": {
      "text/html": [
       "<div>\n",
       "<style scoped>\n",
       "    .dataframe tbody tr th:only-of-type {\n",
       "        vertical-align: middle;\n",
       "    }\n",
       "\n",
       "    .dataframe tbody tr th {\n",
       "        vertical-align: top;\n",
       "    }\n",
       "\n",
       "    .dataframe thead th {\n",
       "        text-align: right;\n",
       "    }\n",
       "</style>\n",
       "<table border=\"1\" class=\"dataframe\">\n",
       "  <thead>\n",
       "    <tr style=\"text-align: right;\">\n",
       "      <th></th>\n",
       "      <th>id</th>\n",
       "      <th>price</th>\n",
       "      <th>bedrooms</th>\n",
       "      <th>bathrooms</th>\n",
       "      <th>sqft_living</th>\n",
       "      <th>waterfront</th>\n",
       "      <th>yr_built</th>\n",
       "      <th>zipcode</th>\n",
       "      <th>lat</th>\n",
       "      <th>long</th>\n",
       "    </tr>\n",
       "  </thead>\n",
       "  <tbody>\n",
       "    <tr>\n",
       "      <th>0</th>\n",
       "      <td>7129300520</td>\n",
       "      <td>221900.0</td>\n",
       "      <td>3</td>\n",
       "      <td>1.00</td>\n",
       "      <td>1180</td>\n",
       "      <td>0</td>\n",
       "      <td>1955</td>\n",
       "      <td>98178</td>\n",
       "      <td>47.5112</td>\n",
       "      <td>-122.257</td>\n",
       "    </tr>\n",
       "    <tr>\n",
       "      <th>1</th>\n",
       "      <td>6414100192</td>\n",
       "      <td>538000.0</td>\n",
       "      <td>3</td>\n",
       "      <td>2.25</td>\n",
       "      <td>2570</td>\n",
       "      <td>0</td>\n",
       "      <td>1951</td>\n",
       "      <td>98125</td>\n",
       "      <td>47.7210</td>\n",
       "      <td>-122.319</td>\n",
       "    </tr>\n",
       "    <tr>\n",
       "      <th>2</th>\n",
       "      <td>5631500400</td>\n",
       "      <td>180000.0</td>\n",
       "      <td>2</td>\n",
       "      <td>1.00</td>\n",
       "      <td>770</td>\n",
       "      <td>0</td>\n",
       "      <td>1933</td>\n",
       "      <td>98028</td>\n",
       "      <td>47.7379</td>\n",
       "      <td>-122.233</td>\n",
       "    </tr>\n",
       "    <tr>\n",
       "      <th>3</th>\n",
       "      <td>2487200875</td>\n",
       "      <td>604000.0</td>\n",
       "      <td>4</td>\n",
       "      <td>3.00</td>\n",
       "      <td>1960</td>\n",
       "      <td>0</td>\n",
       "      <td>1965</td>\n",
       "      <td>98136</td>\n",
       "      <td>47.5208</td>\n",
       "      <td>-122.393</td>\n",
       "    </tr>\n",
       "    <tr>\n",
       "      <th>4</th>\n",
       "      <td>1954400510</td>\n",
       "      <td>510000.0</td>\n",
       "      <td>3</td>\n",
       "      <td>2.00</td>\n",
       "      <td>1680</td>\n",
       "      <td>0</td>\n",
       "      <td>1987</td>\n",
       "      <td>98074</td>\n",
       "      <td>47.6168</td>\n",
       "      <td>-122.045</td>\n",
       "    </tr>\n",
       "  </tbody>\n",
       "</table>\n",
       "</div>"
      ],
      "text/plain": [
       "           id     price  bedrooms  bathrooms  sqft_living  waterfront  \\\n",
       "0  7129300520  221900.0         3       1.00         1180           0   \n",
       "1  6414100192  538000.0         3       2.25         2570           0   \n",
       "2  5631500400  180000.0         2       1.00          770           0   \n",
       "3  2487200875  604000.0         4       3.00         1960           0   \n",
       "4  1954400510  510000.0         3       2.00         1680           0   \n",
       "\n",
       "   yr_built  zipcode      lat     long  \n",
       "0      1955    98178  47.5112 -122.257  \n",
       "1      1951    98125  47.7210 -122.319  \n",
       "2      1933    98028  47.7379 -122.233  \n",
       "3      1965    98136  47.5208 -122.393  \n",
       "4      1987    98074  47.6168 -122.045  "
      ]
     },
     "execution_count": 3,
     "metadata": {},
     "output_type": "execute_result"
    }
   ],
   "source": [
    "# Columns to display\n",
    "house_data_df = kc_house_data_df[['id', 'price', 'bedrooms', 'bathrooms', 'sqft_living', \n",
    "                                  'waterfront', 'yr_built', 'zipcode', 'lat', 'long']]\n",
    "\n",
    "# Formatting\n",
    "#house_data_df.style.format({\"price\": \"${:,.2f}\", \"bathrooms\":\"{:.2f}\"})\n",
    "\n",
    "house_data_df.head()\n",
    "\n"
   ]
  },
  {
   "cell_type": "markdown",
   "id": "28562f78",
   "metadata": {},
   "source": [
    "# Statiscal Summary\n",
    "- Obtain statiscal summary of dataframe"
   ]
  },
  {
   "cell_type": "code",
   "execution_count": 4,
   "id": "abfdc8fe",
   "metadata": {},
   "outputs": [
    {
     "data": {
      "text/html": [
       "<div>\n",
       "<style scoped>\n",
       "    .dataframe tbody tr th:only-of-type {\n",
       "        vertical-align: middle;\n",
       "    }\n",
       "\n",
       "    .dataframe tbody tr th {\n",
       "        vertical-align: top;\n",
       "    }\n",
       "\n",
       "    .dataframe thead th {\n",
       "        text-align: right;\n",
       "    }\n",
       "</style>\n",
       "<table border=\"1\" class=\"dataframe\">\n",
       "  <thead>\n",
       "    <tr style=\"text-align: right;\">\n",
       "      <th></th>\n",
       "      <th>id</th>\n",
       "      <th>price</th>\n",
       "      <th>bedrooms</th>\n",
       "      <th>bathrooms</th>\n",
       "      <th>sqft_living</th>\n",
       "      <th>waterfront</th>\n",
       "      <th>yr_built</th>\n",
       "      <th>zipcode</th>\n",
       "      <th>lat</th>\n",
       "      <th>long</th>\n",
       "    </tr>\n",
       "  </thead>\n",
       "  <tbody>\n",
       "    <tr>\n",
       "      <th>count</th>\n",
       "      <td>2.161300e+04</td>\n",
       "      <td>2.161300e+04</td>\n",
       "      <td>21613.000000</td>\n",
       "      <td>21613.000000</td>\n",
       "      <td>21613.000000</td>\n",
       "      <td>21613.000000</td>\n",
       "      <td>21613.000000</td>\n",
       "      <td>21613.000000</td>\n",
       "      <td>21613.000000</td>\n",
       "      <td>21613.000000</td>\n",
       "    </tr>\n",
       "    <tr>\n",
       "      <th>mean</th>\n",
       "      <td>4.580302e+09</td>\n",
       "      <td>5.401822e+05</td>\n",
       "      <td>3.370842</td>\n",
       "      <td>2.114757</td>\n",
       "      <td>2079.899736</td>\n",
       "      <td>0.007542</td>\n",
       "      <td>1971.005136</td>\n",
       "      <td>98077.939805</td>\n",
       "      <td>47.560053</td>\n",
       "      <td>-122.213896</td>\n",
       "    </tr>\n",
       "    <tr>\n",
       "      <th>std</th>\n",
       "      <td>2.876566e+09</td>\n",
       "      <td>3.673622e+05</td>\n",
       "      <td>0.930062</td>\n",
       "      <td>0.770163</td>\n",
       "      <td>918.440897</td>\n",
       "      <td>0.086517</td>\n",
       "      <td>29.373411</td>\n",
       "      <td>53.505026</td>\n",
       "      <td>0.138564</td>\n",
       "      <td>0.140828</td>\n",
       "    </tr>\n",
       "    <tr>\n",
       "      <th>min</th>\n",
       "      <td>1.000102e+06</td>\n",
       "      <td>7.500000e+04</td>\n",
       "      <td>0.000000</td>\n",
       "      <td>0.000000</td>\n",
       "      <td>290.000000</td>\n",
       "      <td>0.000000</td>\n",
       "      <td>1900.000000</td>\n",
       "      <td>98001.000000</td>\n",
       "      <td>47.155900</td>\n",
       "      <td>-122.519000</td>\n",
       "    </tr>\n",
       "    <tr>\n",
       "      <th>25%</th>\n",
       "      <td>2.123049e+09</td>\n",
       "      <td>3.219500e+05</td>\n",
       "      <td>3.000000</td>\n",
       "      <td>1.750000</td>\n",
       "      <td>1427.000000</td>\n",
       "      <td>0.000000</td>\n",
       "      <td>1951.000000</td>\n",
       "      <td>98033.000000</td>\n",
       "      <td>47.471000</td>\n",
       "      <td>-122.328000</td>\n",
       "    </tr>\n",
       "    <tr>\n",
       "      <th>50%</th>\n",
       "      <td>3.904930e+09</td>\n",
       "      <td>4.500000e+05</td>\n",
       "      <td>3.000000</td>\n",
       "      <td>2.250000</td>\n",
       "      <td>1910.000000</td>\n",
       "      <td>0.000000</td>\n",
       "      <td>1975.000000</td>\n",
       "      <td>98065.000000</td>\n",
       "      <td>47.571800</td>\n",
       "      <td>-122.230000</td>\n",
       "    </tr>\n",
       "    <tr>\n",
       "      <th>75%</th>\n",
       "      <td>7.308900e+09</td>\n",
       "      <td>6.450000e+05</td>\n",
       "      <td>4.000000</td>\n",
       "      <td>2.500000</td>\n",
       "      <td>2550.000000</td>\n",
       "      <td>0.000000</td>\n",
       "      <td>1997.000000</td>\n",
       "      <td>98118.000000</td>\n",
       "      <td>47.678000</td>\n",
       "      <td>-122.125000</td>\n",
       "    </tr>\n",
       "    <tr>\n",
       "      <th>max</th>\n",
       "      <td>9.900000e+09</td>\n",
       "      <td>7.700000e+06</td>\n",
       "      <td>33.000000</td>\n",
       "      <td>8.000000</td>\n",
       "      <td>13540.000000</td>\n",
       "      <td>1.000000</td>\n",
       "      <td>2015.000000</td>\n",
       "      <td>98199.000000</td>\n",
       "      <td>47.777600</td>\n",
       "      <td>-121.315000</td>\n",
       "    </tr>\n",
       "  </tbody>\n",
       "</table>\n",
       "</div>"
      ],
      "text/plain": [
       "                 id         price      bedrooms     bathrooms   sqft_living  \\\n",
       "count  2.161300e+04  2.161300e+04  21613.000000  21613.000000  21613.000000   \n",
       "mean   4.580302e+09  5.401822e+05      3.370842      2.114757   2079.899736   \n",
       "std    2.876566e+09  3.673622e+05      0.930062      0.770163    918.440897   \n",
       "min    1.000102e+06  7.500000e+04      0.000000      0.000000    290.000000   \n",
       "25%    2.123049e+09  3.219500e+05      3.000000      1.750000   1427.000000   \n",
       "50%    3.904930e+09  4.500000e+05      3.000000      2.250000   1910.000000   \n",
       "75%    7.308900e+09  6.450000e+05      4.000000      2.500000   2550.000000   \n",
       "max    9.900000e+09  7.700000e+06     33.000000      8.000000  13540.000000   \n",
       "\n",
       "         waterfront      yr_built       zipcode           lat          long  \n",
       "count  21613.000000  21613.000000  21613.000000  21613.000000  21613.000000  \n",
       "mean       0.007542   1971.005136  98077.939805     47.560053   -122.213896  \n",
       "std        0.086517     29.373411     53.505026      0.138564      0.140828  \n",
       "min        0.000000   1900.000000  98001.000000     47.155900   -122.519000  \n",
       "25%        0.000000   1951.000000  98033.000000     47.471000   -122.328000  \n",
       "50%        0.000000   1975.000000  98065.000000     47.571800   -122.230000  \n",
       "75%        0.000000   1997.000000  98118.000000     47.678000   -122.125000  \n",
       "max        1.000000   2015.000000  98199.000000     47.777600   -121.315000  "
      ]
     },
     "execution_count": 4,
     "metadata": {},
     "output_type": "execute_result"
    }
   ],
   "source": [
    "house_data_df.describe()"
   ]
  },
  {
   "cell_type": "code",
   "execution_count": 5,
   "id": "7075823a",
   "metadata": {
    "scrolled": true
   },
   "outputs": [
    {
     "data": {
      "text/plain": [
       "id               int64\n",
       "price          float64\n",
       "bedrooms         int64\n",
       "bathrooms      float64\n",
       "sqft_living      int64\n",
       "waterfront       int64\n",
       "yr_built         int64\n",
       "zipcode          int64\n",
       "lat            float64\n",
       "long           float64\n",
       "dtype: object"
      ]
     },
     "execution_count": 5,
     "metadata": {},
     "output_type": "execute_result"
    }
   ],
   "source": [
    "house_data_df.dtypes"
   ]
  },
  {
   "cell_type": "markdown",
   "id": "086e2a65",
   "metadata": {},
   "source": [
    "# 1. What’s the average amount of bedrooms and bathrooms in a house and is the price higher when the house has more bedrooms or bathrooms?"
   ]
  },
  {
   "cell_type": "code",
   "execution_count": 6,
   "id": "f6f91b56",
   "metadata": {},
   "outputs": [
    {
     "name": "stdout",
     "output_type": "stream",
     "text": [
      " The average amount of bedrooms in a house is 3.0\n",
      " The average amount of bathrooms in a house is 2.11\n"
     ]
    }
   ],
   "source": [
    "# Calculate average amount of bedrooms\n",
    "avg_bedroom = house_data_df['bedrooms'].mean()\n",
    "print(f\" The average amount of bedrooms in a house is {round(avg_bedroom,0)}\")\n",
    "\n",
    "\n",
    "# Calculate average amount of bathrooms\n",
    "avg_bathroom = house_data_df['bathrooms'].mean()\n",
    "print(f\" The average amount of bathrooms in a house is {round(avg_bathroom,2)}\")"
   ]
  },
  {
   "cell_type": "markdown",
   "id": "936e0e16",
   "metadata": {},
   "source": [
    "Scatter plots with linear regression and r-squared value (bedrooms vs. price and bathrooms vs. price) "
   ]
  },
  {
   "cell_type": "code",
   "execution_count": 7,
   "id": "cbc5c2e3",
   "metadata": {
    "scrolled": true
   },
   "outputs": [
    {
     "name": "stdout",
     "output_type": "stream",
     "text": [
      "The r-squared is: 0.30833836868809666\n"
     ]
    },
    {
     "data": {
      "image/png": "[encoded data removed]",
      "text/plain": [
       "<Figure size 648x432 with 1 Axes>"
      ]
     },
     "metadata": {
      "needs_background": "light"
     },
     "output_type": "display_data"
    }
   ],
   "source": [
    "# Build scatter plot for each data type:\n",
    "plt.figure(figsize=(9,6))\n",
    "x_values = house_data_df['bedrooms']\n",
    "y_values = house_data_df['price']\n",
    "\n",
    "# Perform a linear regression on wind speed vs. latitude:\n",
    "(slope, intercept, rvalue, pvalue, stderr) = linregress(x_values, y_values)\n",
    "\n",
    "# Get regression values:\n",
    "regress_values = x_values * slope + intercept\n",
    "\n",
    "# Create line equation string:\n",
    "line_eq = 'y = ' + str(round(slope,2)) + 'x + ' + str(round(intercept,2))\n",
    "\n",
    "# Create plot:\n",
    "plt.scatter(x_values,y_values, marker='o', color='royalblue', s=[70], edgecolors='black')\n",
    "plt.plot(x_values,regress_values,'darkred', linewidth=2)\n",
    "\n",
    "# Incorporate the other graph properties:\n",
    "plt.title('bedrooms vs. price', fontsize=20)\n",
    "plt.ylabel('price (in millions)', fontsize=16, color='black')\n",
    "plt.xlabel('bedrooms', fontsize=16, color='black')\n",
    "plt.annotate(line_eq,(15,8.000000e+04), fontsize=18, color='darkred')\n",
    "#plt.grid(False)\n",
    "\n",
    "\n",
    "# Print r-squared value:\n",
    "print(f'The r-squared is: {rvalue}')\n",
    "\n",
    "# Save the figure:\n",
    "# plt.savefig('output_data/Bedrooms vs. Price.png')\n",
    "\n",
    "# Show plot:\n",
    "plt.show()"
   ]
  },
  {
   "cell_type": "code",
   "execution_count": 8,
   "id": "687cc3fd",
   "metadata": {},
   "outputs": [
    {
     "name": "stdout",
     "output_type": "stream",
     "text": [
      "The r-squared is: 0.5251340727456004\n"
     ]
    },
    {
     "data": {
      "image/png": "[encoded data removed]",
      "text/plain": [
       "<Figure size 648x432 with 1 Axes>"
      ]
     },
     "metadata": {
      "needs_background": "light"
     },
     "output_type": "display_data"
    }
   ],
   "source": [
    "# Build scatter plot for each data type:\n",
    "plt.figure(figsize=(9,6))\n",
    "x_values = house_data_df['bathrooms']\n",
    "y_values = house_data_df['price']\n",
    "\n",
    "# Perform a linear regression on wind speed vs. latitude:\n",
    "(slope, intercept, rvalue, pvalue, stderr) = linregress(x_values, y_values)\n",
    "\n",
    "# Get regression values:\n",
    "regress_values = x_values * slope + intercept\n",
    "\n",
    "# Create line equation string:\n",
    "line_eq = 'y = ' + str(round(slope,2)) + 'x + ' + str(round(intercept,2))\n",
    "\n",
    "# Create plot:\n",
    "plt.scatter(x_values,y_values, marker='o', color='royalblue', s=[70], edgecolors='black')\n",
    "plt.plot(x_values,regress_values,'darkred', linewidth=2)\n",
    "\n",
    "# Incorporate the other graph properties:\n",
    "plt.title('bathrooms vs. price', fontsize=20)\n",
    "plt.ylabel('price (in millions)', fontsize=16, color='black')\n",
    "plt.xlabel('bathrooms', fontsize=16, color='black')\n",
    "plt.annotate(line_eq,(2,7.000000e+06), fontsize=18, color='darkred')\n",
    "#plt.grid(False)\n",
    "\n",
    "\n",
    "# Print r-squared value:\n",
    "print(f'The r-squared is: {rvalue}')\n",
    "\n",
    "# Save the figure:\n",
    "# plt.savefig('output_data/Bathrooms vs. Price.png')\n",
    "\n",
    "# Show plot:\n",
    "plt.show()"
   ]
  },
  {
   "cell_type": "markdown",
   "id": "0889e1b9",
   "metadata": {},
   "source": [
    "# 2. What’s the correlation between sqft_living and pricing and do larger sqft_living greater than 6,000 sqft with a waterfront view cost more or less than those without a waterfront view?"
   ]
  },
  {
   "cell_type": "markdown",
   "id": "fadeb751",
   "metadata": {},
   "source": [
    "Scatter plot with linear regression and r-squared value (sqft_living vs. price)"
   ]
  },
  {
   "cell_type": "code",
   "execution_count": null,
   "id": "1b822a0c",
   "metadata": {},
   "outputs": [],
   "source": []
  },
  {
   "cell_type": "markdown",
   "id": "37677433",
   "metadata": {},
   "source": [
    "Dataframe for larger sqft_living greater than 6,000 sqft with waterfront view and without waterfront view price columns"
   ]
  },
  {
   "cell_type": "code",
   "execution_count": null,
   "id": "df3deaf9",
   "metadata": {},
   "outputs": [],
   "source": []
  },
  {
   "cell_type": "markdown",
   "id": "763e0cca",
   "metadata": {},
   "source": [
    "Scatter plots with linear regression and r-squared value (larger sqft_living greater than 6,000 sqft with waterfront view and without waterfront view vs. price)"
   ]
  },
  {
   "cell_type": "code",
   "execution_count": null,
   "id": "9ad1dc21",
   "metadata": {},
   "outputs": [],
   "source": []
  },
  {
   "cell_type": "markdown",
   "id": "531da404",
   "metadata": {},
   "source": [
    "# 3. Are house sale prices higher in higher income neighborhoods?"
   ]
  },
  {
   "cell_type": "markdown",
   "id": "3d1a8f84",
   "metadata": {},
   "source": [
    "Scatter plot with linear regression and r-squared value (zipcode vs. price) "
   ]
  },
  {
   "cell_type": "code",
   "execution_count": null,
   "id": "78e8acec",
   "metadata": {},
   "outputs": [],
   "source": []
  },
  {
   "cell_type": "markdown",
   "id": "06f18810",
   "metadata": {},
   "source": [
    "Dataframe for 10 most expensive houses by neighborhood zipcode include lat, lng, House ID, Price, and zipcode columns"
   ]
  },
  {
   "cell_type": "code",
   "execution_count": null,
   "id": "b621bfb5",
   "metadata": {},
   "outputs": [],
   "source": []
  },
  {
   "cell_type": "markdown",
   "id": "ccde8762",
   "metadata": {},
   "source": [
    "Plot markers for top 10 most expensive houses by neighborhood zipcode or lat and lng on a map with pins containing House ID, Price, and zipcode"
   ]
  },
  {
   "cell_type": "code",
   "execution_count": null,
   "id": "84e69a63",
   "metadata": {},
   "outputs": [],
   "source": []
  },
  {
   "cell_type": "markdown",
   "id": "1e086c57",
   "metadata": {},
   "source": [
    "# 4. Do houses with a waterfront view or without a waterfront view have more price outliers?"
   ]
  },
  {
   "cell_type": "markdown",
   "id": "43aec1d7",
   "metadata": {},
   "source": [
    "Waterfront vs. Non_waterfront house prices analysis using pie and bar chart "
   ]
  },
  {
   "cell_type": "code",
   "execution_count": 9,
   "id": "7bf93ecb",
   "metadata": {},
   "outputs": [
    {
     "data": {
      "text/plain": [
       "21450"
      ]
     },
     "execution_count": 9,
     "metadata": {},
     "output_type": "execute_result"
    }
   ],
   "source": [
    "# Non_waterfront only\n",
    "non_wf=house_data_df.loc[house_data_df[\"waterfront\"]==0]\n",
    "non_wf\n",
    "non_wf.count()[\"id\"]\n"
   ]
  },
  {
   "cell_type": "code",
   "execution_count": 10,
   "id": "bd5b3925",
   "metadata": {
    "scrolled": true
   },
   "outputs": [
    {
     "data": {
      "text/plain": [
       "163"
      ]
     },
     "execution_count": 10,
     "metadata": {},
     "output_type": "execute_result"
    }
   ],
   "source": [
    "# waterfront properties only\n",
    "wf=house_data_df.loc[house_data_df[\"waterfront\"]==1]\n",
    "wf\n",
    "wf.count()[\"id\"]"
   ]
  },
  {
   "cell_type": "markdown",
   "id": "17f20a7a",
   "metadata": {},
   "source": [
    "Pie chart to show waterfront vs non-waterfront properties"
   ]
  },
  {
   "cell_type": "code",
   "execution_count": 11,
   "id": "33843baf",
   "metadata": {},
   "outputs": [
    {
     "data": {
      "image/png": "[encoded data removed]",
      "text/plain": [
       "<Figure size 432x288 with 1 Axes>"
      ]
     },
     "metadata": {},
     "output_type": "display_data"
    }
   ],
   "source": [
    "labels = [\"Waterfront\", \"Non-waterfront\"]\n",
    "\n",
    "# The values of each section of the pie chart - from waterfront and non waterfront properties count\n",
    "sizes = [163, 21450]\n",
    "\n",
    "# The colors of each section of the pie chart\n",
    "colors = [\"red\", \"lightblue\"]\n",
    "\n",
    "\n",
    "explode = (0.5, 0)\n",
    "\n",
    "plt.pie(sizes, explode=explode, labels=labels, colors=colors,\n",
    "        autopct=\"%1.1f%%\", shadow=True, startangle=150)\n",
    "plt.savefig('output_data/ waterfront vs nonwaterfront piechart.png')\n",
    "plt.show()"
   ]
  },
  {
   "cell_type": "code",
   "execution_count": 12,
   "id": "94e0caad",
   "metadata": {
    "scrolled": true
   },
   "outputs": [
    {
     "data": {
      "text/plain": [
       "49     2000-3000\n",
       "230    1000-2000\n",
       "246    3000-4000\n",
       "264        <1000\n",
       "300    4000-5000\n",
       "Name: sqft_living, dtype: category\n",
       "Categories (7, object): ['<1000' < '1000-2000' < '2000-3000' < '3000-4000' < '4000-5000' < '5000-6000' < '>6000']"
      ]
     },
     "execution_count": 12,
     "metadata": {},
     "output_type": "execute_result"
    }
   ],
   "source": [
    "bins = [0,1000,2000,3000,4000,5000,6000,7000]\n",
    "group_label=[\"<1000\", \"1000-2000\", \"2000-3000\", \"3000-4000\",\"4000-5000\",\"5000-6000\",\">6000\"]\n",
    "pd.cut(wf[\"sqft_living\"], bins, labels=group_label).head()"
   ]
  },
  {
   "cell_type": "code",
   "execution_count": 13,
   "id": "c514d851",
   "metadata": {},
   "outputs": [
    {
     "name": "stdout",
     "output_type": "stream",
     "text": [
      "                       price  bedrooms  bathrooms\n",
      "living_sqft_range                                \n",
      "<1000               528000.0       2.0       0.75\n",
      "1000-2000           656500.0       2.0       1.75\n",
      "2000-3000          1190000.0       3.0       2.50\n",
      "3000-4000          1925000.0       3.0       2.75\n",
      "4000-5000          2700000.0       4.0       3.75\n",
      "5000-6000          2560000.0       4.0       3.50\n",
      ">6000              3290000.0       4.5       4.00\n"
     ]
    },
    {
     "name": "stderr",
     "output_type": "stream",
     "text": [
      "/var/folders/53/8v7yl9_11zqgtgh__mhvy_5w0000gn/T/ipykernel_9483/1552949952.py:1: SettingWithCopyWarning: \n",
      "A value is trying to be set on a copy of a slice from a DataFrame.\n",
      "Try using .loc[row_indexer,col_indexer] = value instead\n",
      "\n",
      "See the caveats in the documentation: https://pandas.pydata.org/pandas-docs/stable/user_guide/indexing.html#returning-a-view-versus-a-copy\n",
      "  wf[\"living_sqft_range\"]=pd.cut(wf[\"sqft_living\"], bins, labels=group_label)\n",
      "/var/folders/53/8v7yl9_11zqgtgh__mhvy_5w0000gn/T/ipykernel_9483/1552949952.py:3: FutureWarning: Indexing with multiple keys (implicitly converted to a tuple of keys) will be deprecated, use a list instead.\n",
      "  wfrange_df=wfrange['price','bedrooms','bathrooms'].median()\n"
     ]
    }
   ],
   "source": [
    "wf[\"living_sqft_range\"]=pd.cut(wf[\"sqft_living\"], bins, labels=group_label)\n",
    "wfrange=wf.groupby([\"living_sqft_range\"])\n",
    "wfrange_df=wfrange['price','bedrooms','bathrooms'].median()\n",
    "print(wfrange_df)"
   ]
  },
  {
   "cell_type": "code",
   "execution_count": 14,
   "id": "cf9bb125",
   "metadata": {},
   "outputs": [
    {
     "data": {
      "text/plain": [
       "0    1000-2000\n",
       "1    2000-3000\n",
       "2        <1000\n",
       "3    1000-2000\n",
       "4    1000-2000\n",
       "Name: sqft_living, dtype: category\n",
       "Categories (7, object): ['<1000' < '1000-2000' < '2000-3000' < '3000-4000' < '4000-5000' < '5000-6000' < '>6000']"
      ]
     },
     "execution_count": 14,
     "metadata": {},
     "output_type": "execute_result"
    }
   ],
   "source": [
    "bins = [0,1000,2000,3000,4000,5000,6000,7000]\n",
    "group_label=[\"<1000\", \"1000-2000\", \"2000-3000\", \"3000-4000\",\"4000-5000\",\"5000-6000\",\">6000\"]\n",
    "pd.cut(non_wf[\"sqft_living\"], bins, labels=group_label).head()"
   ]
  },
  {
   "cell_type": "code",
   "execution_count": 15,
   "id": "f46a0602",
   "metadata": {},
   "outputs": [
    {
     "name": "stdout",
     "output_type": "stream",
     "text": [
      "                       price  bedrooms  bathrooms\n",
      "living_sqft_range                                \n",
      "<1000               285000.0       2.0       1.00\n",
      "1000-2000           375000.0       3.0       1.75\n",
      "2000-3000           540000.0       4.0       2.50\n",
      "3000-4000           795000.0       4.0       2.75\n",
      "4000-5000          1150000.0       4.0       3.50\n",
      "5000-6000          1545000.0       4.0       4.00\n",
      ">6000              1810000.0       5.0       4.50\n"
     ]
    },
    {
     "name": "stderr",
     "output_type": "stream",
     "text": [
      "/var/folders/53/8v7yl9_11zqgtgh__mhvy_5w0000gn/T/ipykernel_9483/104118738.py:1: SettingWithCopyWarning: \n",
      "A value is trying to be set on a copy of a slice from a DataFrame.\n",
      "Try using .loc[row_indexer,col_indexer] = value instead\n",
      "\n",
      "See the caveats in the documentation: https://pandas.pydata.org/pandas-docs/stable/user_guide/indexing.html#returning-a-view-versus-a-copy\n",
      "  non_wf[\"living_sqft_range\"]=pd.cut(non_wf[\"sqft_living\"], bins, labels=group_label)\n",
      "/var/folders/53/8v7yl9_11zqgtgh__mhvy_5w0000gn/T/ipykernel_9483/104118738.py:3: FutureWarning: Indexing with multiple keys (implicitly converted to a tuple of keys) will be deprecated, use a list instead.\n",
      "  non_wfrange_df=non_wfrange['price','bedrooms','bathrooms'].median()\n"
     ]
    }
   ],
   "source": [
    "non_wf[\"living_sqft_range\"]=pd.cut(non_wf[\"sqft_living\"], bins, labels=group_label)\n",
    "non_wfrange=non_wf.groupby([\"living_sqft_range\"])\n",
    "non_wfrange_df=non_wfrange['price','bedrooms','bathrooms'].median()\n",
    "print(non_wfrange_df)"
   ]
  },
  {
   "cell_type": "code",
   "execution_count": 16,
   "id": "44786ac4",
   "metadata": {},
   "outputs": [
    {
     "data": {
      "text/html": [
       "<div>\n",
       "<style scoped>\n",
       "    .dataframe tbody tr th:only-of-type {\n",
       "        vertical-align: middle;\n",
       "    }\n",
       "\n",
       "    .dataframe tbody tr th {\n",
       "        vertical-align: top;\n",
       "    }\n",
       "\n",
       "    .dataframe thead th {\n",
       "        text-align: right;\n",
       "    }\n",
       "</style>\n",
       "<table border=\"1\" class=\"dataframe\">\n",
       "  <thead>\n",
       "    <tr style=\"text-align: right;\">\n",
       "      <th></th>\n",
       "      <th>price_wf</th>\n",
       "      <th>bedrooms_wf</th>\n",
       "      <th>bathrooms_wf</th>\n",
       "      <th>price_nonwf</th>\n",
       "      <th>bedrooms_nonwf</th>\n",
       "      <th>bathrooms_nonwf</th>\n",
       "    </tr>\n",
       "    <tr>\n",
       "      <th>living_sqft_range</th>\n",
       "      <th></th>\n",
       "      <th></th>\n",
       "      <th></th>\n",
       "      <th></th>\n",
       "      <th></th>\n",
       "      <th></th>\n",
       "    </tr>\n",
       "  </thead>\n",
       "  <tbody>\n",
       "    <tr>\n",
       "      <th>&lt;1000</th>\n",
       "      <td>528000.0</td>\n",
       "      <td>2.0</td>\n",
       "      <td>0.75</td>\n",
       "      <td>285000.0</td>\n",
       "      <td>2.0</td>\n",
       "      <td>1.00</td>\n",
       "    </tr>\n",
       "    <tr>\n",
       "      <th>1000-2000</th>\n",
       "      <td>656500.0</td>\n",
       "      <td>2.0</td>\n",
       "      <td>1.75</td>\n",
       "      <td>375000.0</td>\n",
       "      <td>3.0</td>\n",
       "      <td>1.75</td>\n",
       "    </tr>\n",
       "    <tr>\n",
       "      <th>2000-3000</th>\n",
       "      <td>1190000.0</td>\n",
       "      <td>3.0</td>\n",
       "      <td>2.50</td>\n",
       "      <td>540000.0</td>\n",
       "      <td>4.0</td>\n",
       "      <td>2.50</td>\n",
       "    </tr>\n",
       "    <tr>\n",
       "      <th>3000-4000</th>\n",
       "      <td>1925000.0</td>\n",
       "      <td>3.0</td>\n",
       "      <td>2.75</td>\n",
       "      <td>795000.0</td>\n",
       "      <td>4.0</td>\n",
       "      <td>2.75</td>\n",
       "    </tr>\n",
       "    <tr>\n",
       "      <th>4000-5000</th>\n",
       "      <td>2700000.0</td>\n",
       "      <td>4.0</td>\n",
       "      <td>3.75</td>\n",
       "      <td>1150000.0</td>\n",
       "      <td>4.0</td>\n",
       "      <td>3.50</td>\n",
       "    </tr>\n",
       "    <tr>\n",
       "      <th>5000-6000</th>\n",
       "      <td>2560000.0</td>\n",
       "      <td>4.0</td>\n",
       "      <td>3.50</td>\n",
       "      <td>1545000.0</td>\n",
       "      <td>4.0</td>\n",
       "      <td>4.00</td>\n",
       "    </tr>\n",
       "    <tr>\n",
       "      <th>&gt;6000</th>\n",
       "      <td>3290000.0</td>\n",
       "      <td>4.5</td>\n",
       "      <td>4.00</td>\n",
       "      <td>1810000.0</td>\n",
       "      <td>5.0</td>\n",
       "      <td>4.50</td>\n",
       "    </tr>\n",
       "  </tbody>\n",
       "</table>\n",
       "</div>"
      ],
      "text/plain": [
       "                    price_wf  bedrooms_wf  bathrooms_wf  price_nonwf  \\\n",
       "living_sqft_range                                                      \n",
       "<1000               528000.0          2.0          0.75     285000.0   \n",
       "1000-2000           656500.0          2.0          1.75     375000.0   \n",
       "2000-3000          1190000.0          3.0          2.50     540000.0   \n",
       "3000-4000          1925000.0          3.0          2.75     795000.0   \n",
       "4000-5000          2700000.0          4.0          3.75    1150000.0   \n",
       "5000-6000          2560000.0          4.0          3.50    1545000.0   \n",
       ">6000              3290000.0          4.5          4.00    1810000.0   \n",
       "\n",
       "                   bedrooms_nonwf  bathrooms_nonwf  \n",
       "living_sqft_range                                   \n",
       "<1000                         2.0             1.00  \n",
       "1000-2000                     3.0             1.75  \n",
       "2000-3000                     4.0             2.50  \n",
       "3000-4000                     4.0             2.75  \n",
       "4000-5000                     4.0             3.50  \n",
       "5000-6000                     4.0             4.00  \n",
       ">6000                         5.0             4.50  "
      ]
     },
     "execution_count": 16,
     "metadata": {},
     "output_type": "execute_result"
    }
   ],
   "source": [
    "wf_vs_non=pd.merge(wfrange_df,non_wfrange_df, how=\"left\", on = [\"living_sqft_range\"])\n",
    "\n",
    "wfnon_df = wf_vs_non.rename(columns={\"price_x\":\"price_wf\",\n",
    "                                    \"bedrooms_x\":\"bedrooms_wf\",\n",
    "                                    \"bathrooms_x\":\"bathrooms_wf\",\n",
    "                                    \"price_y\":\"price_nonwf\",\n",
    "                                    \"bedrooms_y\":\"bedrooms_nonwf\",\n",
    "                                    \"bathrooms_y\": \"bathrooms_nonwf\"})\n",
    "\n",
    "wfnon_df"
   ]
  },
  {
   "cell_type": "code",
   "execution_count": 17,
   "id": "d62ef569",
   "metadata": {
    "scrolled": true
   },
   "outputs": [],
   "source": [
    "wfnon_df=wfnon_df.reset_index(level=0)"
   ]
  },
  {
   "cell_type": "code",
   "execution_count": 18,
   "id": "c40e0a8a",
   "metadata": {},
   "outputs": [
    {
     "data": {
      "text/html": [
       "<div>\n",
       "<style scoped>\n",
       "    .dataframe tbody tr th:only-of-type {\n",
       "        vertical-align: middle;\n",
       "    }\n",
       "\n",
       "    .dataframe tbody tr th {\n",
       "        vertical-align: top;\n",
       "    }\n",
       "\n",
       "    .dataframe thead th {\n",
       "        text-align: right;\n",
       "    }\n",
       "</style>\n",
       "<table border=\"1\" class=\"dataframe\">\n",
       "  <thead>\n",
       "    <tr style=\"text-align: right;\">\n",
       "      <th></th>\n",
       "      <th>living_sqft_range</th>\n",
       "      <th>price_wf</th>\n",
       "      <th>bedrooms_wf</th>\n",
       "      <th>bathrooms_wf</th>\n",
       "      <th>price_nonwf</th>\n",
       "      <th>bedrooms_nonwf</th>\n",
       "      <th>bathrooms_nonwf</th>\n",
       "    </tr>\n",
       "  </thead>\n",
       "  <tbody>\n",
       "    <tr>\n",
       "      <th>0</th>\n",
       "      <td>&lt;1000</td>\n",
       "      <td>528000.0</td>\n",
       "      <td>2.0</td>\n",
       "      <td>0.75</td>\n",
       "      <td>285000.0</td>\n",
       "      <td>2.0</td>\n",
       "      <td>1.00</td>\n",
       "    </tr>\n",
       "    <tr>\n",
       "      <th>1</th>\n",
       "      <td>1000-2000</td>\n",
       "      <td>656500.0</td>\n",
       "      <td>2.0</td>\n",
       "      <td>1.75</td>\n",
       "      <td>375000.0</td>\n",
       "      <td>3.0</td>\n",
       "      <td>1.75</td>\n",
       "    </tr>\n",
       "    <tr>\n",
       "      <th>2</th>\n",
       "      <td>2000-3000</td>\n",
       "      <td>1190000.0</td>\n",
       "      <td>3.0</td>\n",
       "      <td>2.50</td>\n",
       "      <td>540000.0</td>\n",
       "      <td>4.0</td>\n",
       "      <td>2.50</td>\n",
       "    </tr>\n",
       "    <tr>\n",
       "      <th>3</th>\n",
       "      <td>3000-4000</td>\n",
       "      <td>1925000.0</td>\n",
       "      <td>3.0</td>\n",
       "      <td>2.75</td>\n",
       "      <td>795000.0</td>\n",
       "      <td>4.0</td>\n",
       "      <td>2.75</td>\n",
       "    </tr>\n",
       "    <tr>\n",
       "      <th>4</th>\n",
       "      <td>4000-5000</td>\n",
       "      <td>2700000.0</td>\n",
       "      <td>4.0</td>\n",
       "      <td>3.75</td>\n",
       "      <td>1150000.0</td>\n",
       "      <td>4.0</td>\n",
       "      <td>3.50</td>\n",
       "    </tr>\n",
       "    <tr>\n",
       "      <th>5</th>\n",
       "      <td>5000-6000</td>\n",
       "      <td>2560000.0</td>\n",
       "      <td>4.0</td>\n",
       "      <td>3.50</td>\n",
       "      <td>1545000.0</td>\n",
       "      <td>4.0</td>\n",
       "      <td>4.00</td>\n",
       "    </tr>\n",
       "    <tr>\n",
       "      <th>6</th>\n",
       "      <td>&gt;6000</td>\n",
       "      <td>3290000.0</td>\n",
       "      <td>4.5</td>\n",
       "      <td>4.00</td>\n",
       "      <td>1810000.0</td>\n",
       "      <td>5.0</td>\n",
       "      <td>4.50</td>\n",
       "    </tr>\n",
       "  </tbody>\n",
       "</table>\n",
       "</div>"
      ],
      "text/plain": [
       "  living_sqft_range   price_wf  bedrooms_wf  bathrooms_wf  price_nonwf  \\\n",
       "0             <1000   528000.0          2.0          0.75     285000.0   \n",
       "1         1000-2000   656500.0          2.0          1.75     375000.0   \n",
       "2         2000-3000  1190000.0          3.0          2.50     540000.0   \n",
       "3         3000-4000  1925000.0          3.0          2.75     795000.0   \n",
       "4         4000-5000  2700000.0          4.0          3.75    1150000.0   \n",
       "5         5000-6000  2560000.0          4.0          3.50    1545000.0   \n",
       "6             >6000  3290000.0          4.5          4.00    1810000.0   \n",
       "\n",
       "   bedrooms_nonwf  bathrooms_nonwf  \n",
       "0             2.0             1.00  \n",
       "1             3.0             1.75  \n",
       "2             4.0             2.50  \n",
       "3             4.0             2.75  \n",
       "4             4.0             3.50  \n",
       "5             4.0             4.00  \n",
       "6             5.0             4.50  "
      ]
     },
     "execution_count": 18,
     "metadata": {},
     "output_type": "execute_result"
    }
   ],
   "source": [
    "wfnon_df"
   ]
  },
  {
   "cell_type": "code",
   "execution_count": 19,
   "id": "37956264",
   "metadata": {},
   "outputs": [
    {
     "data": {
      "image/png": "[encoded data removed]",
      "text/plain": [
       "<Figure size 432x288 with 1 Axes>"
      ]
     },
     "metadata": {
      "needs_background": "light"
     },
     "output_type": "display_data"
    }
   ],
   "source": [
    "pandas_bar=wfnon_df\n",
    "pandas_bar.plot(kind=\"bar\",x=\"living_sqft_range\", y=[\"price_wf\",\"price_nonwf\"],rot=45)\n",
    "\n",
    "plt.xlabel(\"Living Sqft Range\")\n",
    "plt.ylabel(\"Prices (Millions)\")\n",
    "plt.title(\"Waterfront vs. Non-Waterfront\")\n",
    "plt.savefig('output_data/ waterfront vs nonwf price barchart.png')\n",
    "plt.show()"
   ]
  },
  {
   "cell_type": "markdown",
   "id": "703a27d6",
   "metadata": {},
   "source": [
    "Scatter plot with linear regression and r-squared value (waterfront bedrooms vs. price) "
   ]
  },
  {
   "cell_type": "code",
   "execution_count": 38,
   "id": "bb5fe622",
   "metadata": {},
   "outputs": [
    {
     "name": "stdout",
     "output_type": "stream",
     "text": [
      "The r-squared is: 0.5199270910829966\n"
     ]
    },
    {
     "data": {
      "image/png": "[encoded data removed]",
      "text/plain": [
       "<Figure size 648x432 with 1 Axes>"
      ]
     },
     "metadata": {
      "needs_background": "light"
     },
     "output_type": "display_data"
    }
   ],
   "source": [
    "# Build scatter plot for each data type:\n",
    "plt.figure(figsize=(9,6))\n",
    "x_values = wf['bedrooms']\n",
    "y_values = wf['price']\n",
    "\n",
    "x = non_wf[\"bedrooms\"]\n",
    "y = non_wf[\"price\"]\n",
    "\n",
    "# Perform a linear regression \n",
    "# waterfront\n",
    "(slope, intercept, rvalue, pvalue, stderr) = linregress(x_values, y_values)\n",
    "# non-waterfront\n",
    "(slope1, intercept1, rvalue1, pvalue1, stderr1) = linregress(x, y)\n",
    "# Get regression values:\n",
    "regress_values = x_values * slope + intercept\n",
    "regress_values1 = x * slope1 + intercept1\n",
    "\n",
    "# Create line equation string:\n",
    "line_eq = 'y = ' + str(round(slope,2)) + 'x + ' + str(round(intercept,2))\n",
    "\n",
    "\n",
    "# Create plot:\n",
    "# waterfront\n",
    "plt.scatter(x_values,y_values, marker='o', color='red', s=[70], edgecolors='black')\n",
    "plt.plot(x_values,regress_values,'red', linewidth=2)\n",
    "# non-waterfront\n",
    "plt.scatter(x,y, marker='o', color='royalblue', s=[70], edgecolors='black')\n",
    "plt.plot(x,regress_values1,'royalblue', linewidth=2)\n",
    "\n",
    "# Incorporate the other graph properties:\n",
    "plt.title('Bedrooms vs. Prices', fontsize=20)\n",
    "plt.ylabel('price (in millions)', fontsize=16, color='black')\n",
    "plt.ylim([0,5000000])\n",
    "plt.xlim([0,10])\n",
    "plt.xlabel('bedrooms', fontsize=16, color='black')\n",
    "plt.annotate(line_eq,(3,4000000), fontsize=18, color='red')\n",
    "#plt.grid(False)\n",
    "\n",
    "\n",
    "# Print r-squared value:\n",
    "print(f'The r-squared is: {rvalue}')\n",
    "\n",
    "# Save the figure:\n",
    "# plt.savefig('output_data/Bedrooms vs. Prices.png')\n",
    "\n",
    "# Show plot:\n",
    "plt.show()"
   ]
  },
  {
   "cell_type": "code",
   "execution_count": null,
   "id": "0819b40b",
   "metadata": {},
   "outputs": [],
   "source": []
  },
  {
   "cell_type": "markdown",
   "id": "a3875732",
   "metadata": {},
   "source": [
    "Boxplot (waterfront & price)"
   ]
  },
  {
   "cell_type": "code",
   "execution_count": 42,
   "id": "8c22117b",
   "metadata": {},
   "outputs": [
    {
     "ename": "ValueError",
     "evalue": "The truth value of a DataFrame is ambiguous. Use a.empty, a.bool(), a.item(), a.any() or a.all().",
     "output_type": "error",
     "traceback": [
      "\u001b[0;31m---------------------------------------------------------------------------\u001b[0m",
      "\u001b[0;31mValueError\u001b[0m                                Traceback (most recent call last)",
      "\u001b[0;32m/var/folders/53/8v7yl9_11zqgtgh__mhvy_5w0000gn/T/ipykernel_9483/1204685386.py\u001b[0m in \u001b[0;36m<module>\u001b[0;34m\u001b[0m\n\u001b[1;32m      5\u001b[0m \u001b[0mflierprops\u001b[0m \u001b[0;34m=\u001b[0m \u001b[0mdict\u001b[0m\u001b[0;34m(\u001b[0m\u001b[0mmarker\u001b[0m\u001b[0;34m=\u001b[0m\u001b[0;34m'o'\u001b[0m\u001b[0;34m,\u001b[0m \u001b[0mmarkerfacecolor\u001b[0m\u001b[0;34m=\u001b[0m\u001b[0;34m'r'\u001b[0m\u001b[0;34m,\u001b[0m \u001b[0mmarkersize\u001b[0m\u001b[0;34m=\u001b[0m\u001b[0;36m8\u001b[0m\u001b[0;34m,\u001b[0m \u001b[0mmarkeredgecolor\u001b[0m\u001b[0;34m=\u001b[0m\u001b[0;34m'black'\u001b[0m\u001b[0;34m)\u001b[0m\u001b[0;34m\u001b[0m\u001b[0;34m\u001b[0m\u001b[0m\n\u001b[1;32m      6\u001b[0m \u001b[0;34m\u001b[0m\u001b[0m\n\u001b[0;32m----> 7\u001b[0;31m \u001b[0mbp1\u001b[0m \u001b[0;34m=\u001b[0m \u001b[0mplt\u001b[0m\u001b[0;34m.\u001b[0m\u001b[0mboxplot\u001b[0m\u001b[0;34m(\u001b[0m\u001b[0mdata1\u001b[0m\u001b[0;34m,\u001b[0m \u001b[0mdata2\u001b[0m\u001b[0;34m,\u001b[0m \u001b[0mflierprops\u001b[0m\u001b[0;34m=\u001b[0m\u001b[0mflierprops\u001b[0m\u001b[0;34m)\u001b[0m\u001b[0;34m\u001b[0m\u001b[0;34m\u001b[0m\u001b[0m\n\u001b[0m\u001b[1;32m      8\u001b[0m \u001b[0;31m# bp2 = plt.boxplot(data2, flierprops=flierprops )\u001b[0m\u001b[0;34m\u001b[0m\u001b[0;34m\u001b[0m\u001b[0;34m\u001b[0m\u001b[0m\n\u001b[1;32m      9\u001b[0m \u001b[0;34m\u001b[0m\u001b[0m\n",
      "\u001b[0;32m/opt/anaconda3/envs/PythonData38/lib/python3.8/site-packages/matplotlib/pyplot.py\u001b[0m in \u001b[0;36mboxplot\u001b[0;34m(x, notch, sym, vert, whis, positions, widths, patch_artist, bootstrap, usermedians, conf_intervals, meanline, showmeans, showcaps, showbox, showfliers, boxprops, labels, flierprops, medianprops, meanprops, capprops, whiskerprops, manage_ticks, autorange, zorder, data)\u001b[0m\n\u001b[1;32m   2689\u001b[0m         \u001b[0mwhiskerprops\u001b[0m\u001b[0;34m=\u001b[0m\u001b[0;32mNone\u001b[0m\u001b[0;34m,\u001b[0m \u001b[0mmanage_ticks\u001b[0m\u001b[0;34m=\u001b[0m\u001b[0;32mTrue\u001b[0m\u001b[0;34m,\u001b[0m \u001b[0mautorange\u001b[0m\u001b[0;34m=\u001b[0m\u001b[0;32mFalse\u001b[0m\u001b[0;34m,\u001b[0m\u001b[0;34m\u001b[0m\u001b[0;34m\u001b[0m\u001b[0m\n\u001b[1;32m   2690\u001b[0m         zorder=None, *, data=None):\n\u001b[0;32m-> 2691\u001b[0;31m     return gca().boxplot(\n\u001b[0m\u001b[1;32m   2692\u001b[0m         \u001b[0mx\u001b[0m\u001b[0;34m,\u001b[0m \u001b[0mnotch\u001b[0m\u001b[0;34m=\u001b[0m\u001b[0mnotch\u001b[0m\u001b[0;34m,\u001b[0m \u001b[0msym\u001b[0m\u001b[0;34m=\u001b[0m\u001b[0msym\u001b[0m\u001b[0;34m,\u001b[0m \u001b[0mvert\u001b[0m\u001b[0;34m=\u001b[0m\u001b[0mvert\u001b[0m\u001b[0;34m,\u001b[0m \u001b[0mwhis\u001b[0m\u001b[0;34m=\u001b[0m\u001b[0mwhis\u001b[0m\u001b[0;34m,\u001b[0m\u001b[0;34m\u001b[0m\u001b[0;34m\u001b[0m\u001b[0m\n\u001b[1;32m   2693\u001b[0m         \u001b[0mpositions\u001b[0m\u001b[0;34m=\u001b[0m\u001b[0mpositions\u001b[0m\u001b[0;34m,\u001b[0m \u001b[0mwidths\u001b[0m\u001b[0;34m=\u001b[0m\u001b[0mwidths\u001b[0m\u001b[0;34m,\u001b[0m \u001b[0mpatch_artist\u001b[0m\u001b[0;34m=\u001b[0m\u001b[0mpatch_artist\u001b[0m\u001b[0;34m,\u001b[0m\u001b[0;34m\u001b[0m\u001b[0;34m\u001b[0m\u001b[0m\n",
      "\u001b[0;32m/opt/anaconda3/envs/PythonData38/lib/python3.8/site-packages/matplotlib/__init__.py\u001b[0m in \u001b[0;36minner\u001b[0;34m(ax, data, *args, **kwargs)\u001b[0m\n\u001b[1;32m   1359\u001b[0m     \u001b[0;32mdef\u001b[0m \u001b[0minner\u001b[0m\u001b[0;34m(\u001b[0m\u001b[0max\u001b[0m\u001b[0;34m,\u001b[0m \u001b[0;34m*\u001b[0m\u001b[0margs\u001b[0m\u001b[0;34m,\u001b[0m \u001b[0mdata\u001b[0m\u001b[0;34m=\u001b[0m\u001b[0;32mNone\u001b[0m\u001b[0;34m,\u001b[0m \u001b[0;34m**\u001b[0m\u001b[0mkwargs\u001b[0m\u001b[0;34m)\u001b[0m\u001b[0;34m:\u001b[0m\u001b[0;34m\u001b[0m\u001b[0;34m\u001b[0m\u001b[0m\n\u001b[1;32m   1360\u001b[0m         \u001b[0;32mif\u001b[0m \u001b[0mdata\u001b[0m \u001b[0;32mis\u001b[0m \u001b[0;32mNone\u001b[0m\u001b[0;34m:\u001b[0m\u001b[0;34m\u001b[0m\u001b[0;34m\u001b[0m\u001b[0m\n\u001b[0;32m-> 1361\u001b[0;31m             \u001b[0;32mreturn\u001b[0m \u001b[0mfunc\u001b[0m\u001b[0;34m(\u001b[0m\u001b[0max\u001b[0m\u001b[0;34m,\u001b[0m \u001b[0;34m*\u001b[0m\u001b[0mmap\u001b[0m\u001b[0;34m(\u001b[0m\u001b[0msanitize_sequence\u001b[0m\u001b[0;34m,\u001b[0m \u001b[0margs\u001b[0m\u001b[0;34m)\u001b[0m\u001b[0;34m,\u001b[0m \u001b[0;34m**\u001b[0m\u001b[0mkwargs\u001b[0m\u001b[0;34m)\u001b[0m\u001b[0;34m\u001b[0m\u001b[0;34m\u001b[0m\u001b[0m\n\u001b[0m\u001b[1;32m   1362\u001b[0m \u001b[0;34m\u001b[0m\u001b[0m\n\u001b[1;32m   1363\u001b[0m         \u001b[0mbound\u001b[0m \u001b[0;34m=\u001b[0m \u001b[0mnew_sig\u001b[0m\u001b[0;34m.\u001b[0m\u001b[0mbind\u001b[0m\u001b[0;34m(\u001b[0m\u001b[0max\u001b[0m\u001b[0;34m,\u001b[0m \u001b[0;34m*\u001b[0m\u001b[0margs\u001b[0m\u001b[0;34m,\u001b[0m \u001b[0;34m**\u001b[0m\u001b[0mkwargs\u001b[0m\u001b[0;34m)\u001b[0m\u001b[0;34m\u001b[0m\u001b[0;34m\u001b[0m\u001b[0m\n",
      "\u001b[0;32m/opt/anaconda3/envs/PythonData38/lib/python3.8/site-packages/matplotlib/axes/_axes.py\u001b[0m in \u001b[0;36mboxplot\u001b[0;34m(self, x, notch, sym, vert, whis, positions, widths, patch_artist, bootstrap, usermedians, conf_intervals, meanline, showmeans, showcaps, showbox, showfliers, boxprops, labels, flierprops, medianprops, meanprops, capprops, whiskerprops, manage_ticks, autorange, zorder)\u001b[0m\n\u001b[1;32m   3839\u001b[0m                                 \u001b[0mstats\u001b[0m\u001b[0;34m[\u001b[0m\u001b[0;34m'cihi'\u001b[0m\u001b[0;34m]\u001b[0m \u001b[0;34m=\u001b[0m \u001b[0mci\u001b[0m\u001b[0;34m[\u001b[0m\u001b[0;36m1\u001b[0m\u001b[0;34m]\u001b[0m\u001b[0;34m\u001b[0m\u001b[0;34m\u001b[0m\u001b[0m\n\u001b[1;32m   3840\u001b[0m \u001b[0;34m\u001b[0m\u001b[0m\n\u001b[0;32m-> 3841\u001b[0;31m         artists = self.bxp(bxpstats, positions=positions, widths=widths,\n\u001b[0m\u001b[1;32m   3842\u001b[0m                            \u001b[0mvert\u001b[0m\u001b[0;34m=\u001b[0m\u001b[0mvert\u001b[0m\u001b[0;34m,\u001b[0m \u001b[0mpatch_artist\u001b[0m\u001b[0;34m=\u001b[0m\u001b[0mpatch_artist\u001b[0m\u001b[0;34m,\u001b[0m\u001b[0;34m\u001b[0m\u001b[0;34m\u001b[0m\u001b[0m\n\u001b[1;32m   3843\u001b[0m                            \u001b[0mshownotches\u001b[0m\u001b[0;34m=\u001b[0m\u001b[0mnotch\u001b[0m\u001b[0;34m,\u001b[0m \u001b[0mshowmeans\u001b[0m\u001b[0;34m=\u001b[0m\u001b[0mshowmeans\u001b[0m\u001b[0;34m,\u001b[0m\u001b[0;34m\u001b[0m\u001b[0;34m\u001b[0m\u001b[0m\n",
      "\u001b[0;32m/opt/anaconda3/envs/PythonData38/lib/python3.8/site-packages/matplotlib/axes/_axes.py\u001b[0m in \u001b[0;36mbxp\u001b[0;34m(self, bxpstats, positions, widths, vert, patch_artist, shownotches, showmeans, showcaps, showbox, showfliers, boxprops, whiskerprops, flierprops, medianprops, capprops, meanprops, meanline, manage_ticks, zorder)\u001b[0m\n\u001b[1;32m   4121\u001b[0m \u001b[0;34m\u001b[0m\u001b[0m\n\u001b[1;32m   4122\u001b[0m             \u001b[0;31m# notched boxes\u001b[0m\u001b[0;34m\u001b[0m\u001b[0;34m\u001b[0m\u001b[0;34m\u001b[0m\u001b[0m\n\u001b[0;32m-> 4123\u001b[0;31m             \u001b[0;32mif\u001b[0m \u001b[0mshownotches\u001b[0m\u001b[0;34m:\u001b[0m\u001b[0;34m\u001b[0m\u001b[0;34m\u001b[0m\u001b[0m\n\u001b[0m\u001b[1;32m   4124\u001b[0m                 box_x = [box_left, box_right, box_right, cap_right, box_right,\n\u001b[1;32m   4125\u001b[0m                          \u001b[0mbox_right\u001b[0m\u001b[0;34m,\u001b[0m \u001b[0mbox_left\u001b[0m\u001b[0;34m,\u001b[0m \u001b[0mbox_left\u001b[0m\u001b[0;34m,\u001b[0m \u001b[0mcap_left\u001b[0m\u001b[0;34m,\u001b[0m \u001b[0mbox_left\u001b[0m\u001b[0;34m,\u001b[0m\u001b[0;34m\u001b[0m\u001b[0;34m\u001b[0m\u001b[0m\n",
      "\u001b[0;32m/opt/anaconda3/envs/PythonData38/lib/python3.8/site-packages/pandas/core/generic.py\u001b[0m in \u001b[0;36m__nonzero__\u001b[0;34m(self)\u001b[0m\n\u001b[1;32m   1535\u001b[0m     \u001b[0;34m@\u001b[0m\u001b[0mfinal\u001b[0m\u001b[0;34m\u001b[0m\u001b[0;34m\u001b[0m\u001b[0m\n\u001b[1;32m   1536\u001b[0m     \u001b[0;32mdef\u001b[0m \u001b[0m__nonzero__\u001b[0m\u001b[0;34m(\u001b[0m\u001b[0mself\u001b[0m\u001b[0;34m)\u001b[0m\u001b[0;34m:\u001b[0m\u001b[0;34m\u001b[0m\u001b[0;34m\u001b[0m\u001b[0m\n\u001b[0;32m-> 1537\u001b[0;31m         raise ValueError(\n\u001b[0m\u001b[1;32m   1538\u001b[0m             \u001b[0;34mf\"The truth value of a {type(self).__name__} is ambiguous. \"\u001b[0m\u001b[0;34m\u001b[0m\u001b[0;34m\u001b[0m\u001b[0m\n\u001b[1;32m   1539\u001b[0m             \u001b[0;34m\"Use a.empty, a.bool(), a.item(), a.any() or a.all().\"\u001b[0m\u001b[0;34m\u001b[0m\u001b[0;34m\u001b[0m\u001b[0m\n",
      "\u001b[0;31mValueError\u001b[0m: The truth value of a DataFrame is ambiguous. Use a.empty, a.bool(), a.item(), a.any() or a.all()."
     ]
    },
    {
     "data": {
      "image/png": "[encoded data removed]",
      "text/plain": [
       "<Figure size 432x288 with 1 Axes>"
      ]
     },
     "metadata": {
      "needs_background": "light"
     },
     "output_type": "display_data"
    }
   ],
   "source": [
    "view_df=wf[[\"price\"]]\n",
    "nonview_df=non_wf[[\"price\"]]\n",
    "data1 = view_df\n",
    "data2 = nonview_df\n",
    "flierprops = dict(marker='o', markerfacecolor='r', markersize=8, markeredgecolor='black')\n",
    "\n",
    "bp1 = plt.boxplot([data1, data2], flierprops=flierprops)\n",
    "# bp2 = plt.boxplot(data2, flierprops=flierprops )\n",
    "\n",
    "# view_df.boxplot(flierprops=flierprops)\n",
    "# nonview_df.boxplot(flierprops=flierprops)\n",
    "\n",
    "plt.ylabel(\"Price (in Millions)\")\n",
    "\n",
    "\n",
    "plt.xticks([1,2],['waterfront','non-waterfront'])\n",
    "plt.ylim([0,5000000])\n",
    "# plt.savefig('output_data/ Waterfront vs. Price boxplot.png')\n",
    "plt.show()"
   ]
  },
  {
   "cell_type": "code",
   "execution_count": 32,
   "id": "685f8a08",
   "metadata": {
    "scrolled": true
   },
   "outputs": [
    {
     "data": {
      "image/png": "[encoded data removed]",
      "text/plain": [
       "<Figure size 432x288 with 1 Axes>"
      ]
     },
     "metadata": {
      "needs_background": "light"
     },
     "output_type": "display_data"
    }
   ],
   "source": [
    "def color_boxplot(data, color, pos=[0], ax=None):\n",
    "    ax = ax or plt.gca()\n",
    "    bp = ax.boxplot(data, patch_artist=True,  showmeans=True, positions=pos)\n",
    "    for item in ['boxes', 'whiskers', 'fliers', 'medians', 'caps']:\n",
    "        plt.setp(bp[item], color=color)\n",
    "        \n",
    "view_df=wf[[\"price\"]]\n",
    "nonview_df=non_wf[[\"price\"]]\n",
    "\n",
    "data1 = view_df\n",
    "data2 = nonview_df\n",
    "fig, ax = plt.subplots()\n",
    "bp1 = color_boxplot(data1, 'green', [1])\n",
    "bp2 = color_boxplot(data2, 'red', [2])\n",
    "ax.autoscale()\n",
    "ax.set(xticks=[1,2], xticklabels=[\"wafterfront\",\"non-waterfront\"])\n",
    "plt.ylabel(\"Price (in Millions)\")\n",
    "plt.ylim([0,5000000])\n",
    "plt.show()"
   ]
  },
  {
   "cell_type": "code",
   "execution_count": 43,
   "id": "cff0a575",
   "metadata": {},
   "outputs": [
    {
     "data": {
      "image/png": "[encoded data removed]",
      "text/plain": [
       "<Figure size 432x288 with 1 Axes>"
      ]
     },
     "metadata": {
      "needs_background": "light"
     },
     "output_type": "display_data"
    }
   ],
   "source": [
    "def color_boxplot(data, color, pos=[0], ax=None):\n",
    "    ax = ax or plt.gca()\n",
    "    bp = ax.boxplot(data, patch_artist=True,  showmeans=True, positions=pos)\n",
    "    for item in ['boxes', 'whiskers', 'fliers', 'medians', 'caps']:\n",
    "        plt.setp(bp[item], color=color)\n",
    "        \n",
    "view_df=wf[[\"price\"]]\n",
    "nonview_df=non_wf[[\"price\"]]\n",
    "\n",
    "data1 = view_df\n",
    "data2 = nonview_df\n",
    "fig, ax = plt.subplots()\n",
    "bp1 = color_boxplot(data1, 'red', [1])\n",
    "bp2 = color_boxplot(data2, 'royalblue', [2])\n",
    "ax.autoscale()\n",
    "ax.set(xticks=[1,2], xticklabels=[\"wafterfront\",\"non-waterfront\"])\n",
    "plt.ylabel(\"Price (in Millions)\")\n",
    "plt.ylim([0,5000000])\n",
    "plt.show()"
   ]
  },
  {
   "cell_type": "markdown",
   "id": "e23b6af2",
   "metadata": {},
   "source": [
    "# 5. Do newly built homes cost more than older built homes and where/ which zipcodes are the majority of the newly built homes located at?"
   ]
  },
  {
   "cell_type": "markdown",
   "id": "d52ce7e8",
   "metadata": {},
   "source": [
    "Scatter plot with linear regression and r-squared value (yr_built vs. price) "
   ]
  },
  {
   "cell_type": "code",
   "execution_count": null,
   "id": "f03e662d",
   "metadata": {},
   "outputs": [],
   "source": []
  },
  {
   "cell_type": "markdown",
   "id": "f94bc760",
   "metadata": {},
   "source": [
    "Dataframe for top 6 most newly built houses include lat, lng, House ID, Price, and yr_built columns"
   ]
  },
  {
   "cell_type": "code",
   "execution_count": null,
   "id": "40b4833e",
   "metadata": {},
   "outputs": [],
   "source": []
  },
  {
   "cell_type": "markdown",
   "id": "d4a26b2d",
   "metadata": {},
   "source": [
    "Plot markers for the top 6 most newly built houses using lat and lng on a map with pins containing House ID, Price, and yr_built"
   ]
  },
  {
   "cell_type": "code",
   "execution_count": null,
   "id": "10828cc6",
   "metadata": {},
   "outputs": [],
   "source": []
  }
 ],
 "metadata": {
  "kernelspec": {
   "display_name": "Python [conda env:PythonData38] *",
   "language": "python",
   "name": "conda-env-PythonData38-py"
  },
  "language_info": {
   "codemirror_mode": {
    "name": "ipython",
    "version": 3
   },
   "file_extension": ".py",
   "mimetype": "text/x-python",
   "name": "python",
   "nbconvert_exporter": "python",
   "pygments_lexer": "ipython3",
   "version": "3.8.12"
  }
 },
 "nbformat": 4,
 "nbformat_minor": 5
}
