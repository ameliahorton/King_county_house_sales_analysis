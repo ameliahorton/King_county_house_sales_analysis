{
 "cells": [
  {
   "cell_type": "markdown",
   "id": "baf63946",
   "metadata": {},
   "source": [
    "# House Sales in King County, USA\n",
    "----"
   ]
  },
  {
   "cell_type": "markdown",
   "id": "e180c3e7",
   "metadata": {},
   "source": [
    "This dataset contains house sale prices for King County, which includes Seattle. It includes homes sold between May 2014 and May 2015.\n",
    "\n",
    "**id** :a notation for a house\n",
    "\n",
    "**date**: Date house was sold\n",
    "\n",
    "**price**: Price is prediction target\n",
    "\n",
    "**bedrooms**: Number of Bedrooms/House\n",
    "\n",
    "**bathrooms**: Number of bathrooms/bedrooms\n",
    "\n",
    "**sqft_living**: square footage of the home\n",
    "\n",
    "**sqft_lot**: square footage of the lot\n",
    "\n",
    "**floors** :Total floors (levels) in house\n",
    "\n",
    "**waterfront** :House which has a view to a waterfront\n",
    "\n",
    "**view**: Has been viewed\n",
    "\n",
    "**condition** :How good the condition is Overall\n",
    "\n",
    "**grade**: overall grade given to the housing unit, based on King County grading system\n",
    "\n",
    "**sqft_above** :square footage of house apart from basement\n",
    "\n",
    "**sqft_basement**: square footage of the basement\n",
    "\n",
    "**yr_built** :Built Year\n",
    "\n",
    "**yr_renovated** :Year when house was renovated\n",
    "\n",
    "**zipcode**:zip code\n",
    "\n",
    "**lat**: Latitude coordinate\n",
    "\n",
    "**long**: Longitude coordinate\n",
    "\n",
    "**sqft_living15** :Living room area in 2015(implies-- some renovations) This might or might not have affected the lotsize area\n",
    "\n",
    "**sqft_lot15** :lotSize area in 2015(implies-- some renovations)"
   ]
  },
  {
   "cell_type": "code",
   "execution_count": 1,
   "id": "956dd1cf",
   "metadata": {},
   "outputs": [],
   "source": [
    "# Dependencies and Setup\n",
    "import pandas as pd\n",
    "import matplotlib.pyplot as plt\n",
    "import numpy as np\n",
    "from scipy.stats import linregress\n",
    "import gmaps\n",
    "import os"
   ]
  },
  {
   "cell_type": "markdown",
   "id": "676fb051",
   "metadata": {},
   "source": [
    "# Importing Data\n",
    "\n",
    "- Load and read csv file"
   ]
  },
  {
   "cell_type": "code",
   "execution_count": 2,
   "id": "6ce9af05",
   "metadata": {
    "scrolled": true
   },
   "outputs": [
    {
     "data": {
      "text/html": [
       "<div>\n",
       "<style scoped>\n",
       "    .dataframe tbody tr th:only-of-type {\n",
       "        vertical-align: middle;\n",
       "    }\n",
       "\n",
       "    .dataframe tbody tr th {\n",
       "        vertical-align: top;\n",
       "    }\n",
       "\n",
       "    .dataframe thead th {\n",
       "        text-align: right;\n",
       "    }\n",
       "</style>\n",
       "<table border=\"1\" class=\"dataframe\">\n",
       "  <thead>\n",
       "    <tr style=\"text-align: right;\">\n",
       "      <th></th>\n",
       "      <th>id</th>\n",
       "      <th>date</th>\n",
       "      <th>price</th>\n",
       "      <th>bedrooms</th>\n",
       "      <th>bathrooms</th>\n",
       "      <th>sqft_living</th>\n",
       "      <th>sqft_lot</th>\n",
       "      <th>floors</th>\n",
       "      <th>waterfront</th>\n",
       "      <th>view</th>\n",
       "      <th>...</th>\n",
       "      <th>grade</th>\n",
       "      <th>sqft_above</th>\n",
       "      <th>sqft_basement</th>\n",
       "      <th>yr_built</th>\n",
       "      <th>yr_renovated</th>\n",
       "      <th>zipcode</th>\n",
       "      <th>lat</th>\n",
       "      <th>long</th>\n",
       "      <th>sqft_living15</th>\n",
       "      <th>sqft_lot15</th>\n",
       "    </tr>\n",
       "  </thead>\n",
       "  <tbody>\n",
       "    <tr>\n",
       "      <th>0</th>\n",
       "      <td>7129300520</td>\n",
       "      <td>20141013T000000</td>\n",
       "      <td>221900.0</td>\n",
       "      <td>3</td>\n",
       "      <td>1.00</td>\n",
       "      <td>1180</td>\n",
       "      <td>5650</td>\n",
       "      <td>1.0</td>\n",
       "      <td>0</td>\n",
       "      <td>0</td>\n",
       "      <td>...</td>\n",
       "      <td>7</td>\n",
       "      <td>1180</td>\n",
       "      <td>0</td>\n",
       "      <td>1955</td>\n",
       "      <td>0</td>\n",
       "      <td>98178</td>\n",
       "      <td>47.5112</td>\n",
       "      <td>-122.257</td>\n",
       "      <td>1340</td>\n",
       "      <td>5650</td>\n",
       "    </tr>\n",
       "    <tr>\n",
       "      <th>1</th>\n",
       "      <td>6414100192</td>\n",
       "      <td>20141209T000000</td>\n",
       "      <td>538000.0</td>\n",
       "      <td>3</td>\n",
       "      <td>2.25</td>\n",
       "      <td>2570</td>\n",
       "      <td>7242</td>\n",
       "      <td>2.0</td>\n",
       "      <td>0</td>\n",
       "      <td>0</td>\n",
       "      <td>...</td>\n",
       "      <td>7</td>\n",
       "      <td>2170</td>\n",
       "      <td>400</td>\n",
       "      <td>1951</td>\n",
       "      <td>1991</td>\n",
       "      <td>98125</td>\n",
       "      <td>47.7210</td>\n",
       "      <td>-122.319</td>\n",
       "      <td>1690</td>\n",
       "      <td>7639</td>\n",
       "    </tr>\n",
       "    <tr>\n",
       "      <th>2</th>\n",
       "      <td>5631500400</td>\n",
       "      <td>20150225T000000</td>\n",
       "      <td>180000.0</td>\n",
       "      <td>2</td>\n",
       "      <td>1.00</td>\n",
       "      <td>770</td>\n",
       "      <td>10000</td>\n",
       "      <td>1.0</td>\n",
       "      <td>0</td>\n",
       "      <td>0</td>\n",
       "      <td>...</td>\n",
       "      <td>6</td>\n",
       "      <td>770</td>\n",
       "      <td>0</td>\n",
       "      <td>1933</td>\n",
       "      <td>0</td>\n",
       "      <td>98028</td>\n",
       "      <td>47.7379</td>\n",
       "      <td>-122.233</td>\n",
       "      <td>2720</td>\n",
       "      <td>8062</td>\n",
       "    </tr>\n",
       "    <tr>\n",
       "      <th>3</th>\n",
       "      <td>2487200875</td>\n",
       "      <td>20141209T000000</td>\n",
       "      <td>604000.0</td>\n",
       "      <td>4</td>\n",
       "      <td>3.00</td>\n",
       "      <td>1960</td>\n",
       "      <td>5000</td>\n",
       "      <td>1.0</td>\n",
       "      <td>0</td>\n",
       "      <td>0</td>\n",
       "      <td>...</td>\n",
       "      <td>7</td>\n",
       "      <td>1050</td>\n",
       "      <td>910</td>\n",
       "      <td>1965</td>\n",
       "      <td>0</td>\n",
       "      <td>98136</td>\n",
       "      <td>47.5208</td>\n",
       "      <td>-122.393</td>\n",
       "      <td>1360</td>\n",
       "      <td>5000</td>\n",
       "    </tr>\n",
       "    <tr>\n",
       "      <th>4</th>\n",
       "      <td>1954400510</td>\n",
       "      <td>20150218T000000</td>\n",
       "      <td>510000.0</td>\n",
       "      <td>3</td>\n",
       "      <td>2.00</td>\n",
       "      <td>1680</td>\n",
       "      <td>8080</td>\n",
       "      <td>1.0</td>\n",
       "      <td>0</td>\n",
       "      <td>0</td>\n",
       "      <td>...</td>\n",
       "      <td>8</td>\n",
       "      <td>1680</td>\n",
       "      <td>0</td>\n",
       "      <td>1987</td>\n",
       "      <td>0</td>\n",
       "      <td>98074</td>\n",
       "      <td>47.6168</td>\n",
       "      <td>-122.045</td>\n",
       "      <td>1800</td>\n",
       "      <td>7503</td>\n",
       "    </tr>\n",
       "  </tbody>\n",
       "</table>\n",
       "<p>5 rows × 21 columns</p>\n",
       "</div>"
      ],
      "text/plain": [
       "           id             date     price  bedrooms  bathrooms  sqft_living  \\\n",
       "0  7129300520  20141013T000000  221900.0         3       1.00         1180   \n",
       "1  6414100192  20141209T000000  538000.0         3       2.25         2570   \n",
       "2  5631500400  20150225T000000  180000.0         2       1.00          770   \n",
       "3  2487200875  20141209T000000  604000.0         4       3.00         1960   \n",
       "4  1954400510  20150218T000000  510000.0         3       2.00         1680   \n",
       "\n",
       "   sqft_lot  floors  waterfront  view  ...  grade  sqft_above  sqft_basement  \\\n",
       "0      5650     1.0           0     0  ...      7        1180              0   \n",
       "1      7242     2.0           0     0  ...      7        2170            400   \n",
       "2     10000     1.0           0     0  ...      6         770              0   \n",
       "3      5000     1.0           0     0  ...      7        1050            910   \n",
       "4      8080     1.0           0     0  ...      8        1680              0   \n",
       "\n",
       "   yr_built  yr_renovated  zipcode      lat     long  sqft_living15  \\\n",
       "0      1955             0    98178  47.5112 -122.257           1340   \n",
       "1      1951          1991    98125  47.7210 -122.319           1690   \n",
       "2      1933             0    98028  47.7379 -122.233           2720   \n",
       "3      1965             0    98136  47.5208 -122.393           1360   \n",
       "4      1987             0    98074  47.6168 -122.045           1800   \n",
       "\n",
       "   sqft_lot15  \n",
       "0        5650  \n",
       "1        7639  \n",
       "2        8062  \n",
       "3        5000  \n",
       "4        7503  \n",
       "\n",
       "[5 rows x 21 columns]"
      ]
     },
     "execution_count": 2,
     "metadata": {},
     "output_type": "execute_result"
    }
   ],
   "source": [
    "# File to Load:\n",
    "file_to_load='kc_house_data.csv' \n",
    "\n",
    "# Read kc_house_data csv file and store into data frame:\n",
    "kc_house_data_df=pd.read_csv(file_to_load)\n",
    "kc_house_data_df.head()"
   ]
  },
  {
   "cell_type": "markdown",
   "id": "b612a1c5",
   "metadata": {},
   "source": [
    "# Slicing Data\n",
    "- Only display in dataframe columns: 'id', 'price', 'bedrooms', 'bathrooms', 'sqft_living', 'waterfront', 'yr_built', 'zipcode', 'lat', 'long'"
   ]
  },
  {
   "cell_type": "code",
   "execution_count": 3,
   "id": "e3ce560f",
   "metadata": {},
   "outputs": [
    {
     "data": {
      "text/html": [
       "<div>\n",
       "<style scoped>\n",
       "    .dataframe tbody tr th:only-of-type {\n",
       "        vertical-align: middle;\n",
       "    }\n",
       "\n",
       "    .dataframe tbody tr th {\n",
       "        vertical-align: top;\n",
       "    }\n",
       "\n",
       "    .dataframe thead th {\n",
       "        text-align: right;\n",
       "    }\n",
       "</style>\n",
       "<table border=\"1\" class=\"dataframe\">\n",
       "  <thead>\n",
       "    <tr style=\"text-align: right;\">\n",
       "      <th></th>\n",
       "      <th>id</th>\n",
       "      <th>price</th>\n",
       "      <th>bedrooms</th>\n",
       "      <th>bathrooms</th>\n",
       "      <th>sqft_living</th>\n",
       "      <th>waterfront</th>\n",
       "      <th>yr_built</th>\n",
       "      <th>zipcode</th>\n",
       "      <th>lat</th>\n",
       "      <th>long</th>\n",
       "    </tr>\n",
       "  </thead>\n",
       "  <tbody>\n",
       "    <tr>\n",
       "      <th>0</th>\n",
       "      <td>7129300520</td>\n",
       "      <td>221900.0</td>\n",
       "      <td>3</td>\n",
       "      <td>1.00</td>\n",
       "      <td>1180</td>\n",
       "      <td>0</td>\n",
       "      <td>1955</td>\n",
       "      <td>98178</td>\n",
       "      <td>47.5112</td>\n",
       "      <td>-122.257</td>\n",
       "    </tr>\n",
       "    <tr>\n",
       "      <th>1</th>\n",
       "      <td>6414100192</td>\n",
       "      <td>538000.0</td>\n",
       "      <td>3</td>\n",
       "      <td>2.25</td>\n",
       "      <td>2570</td>\n",
       "      <td>0</td>\n",
       "      <td>1951</td>\n",
       "      <td>98125</td>\n",
       "      <td>47.7210</td>\n",
       "      <td>-122.319</td>\n",
       "    </tr>\n",
       "    <tr>\n",
       "      <th>2</th>\n",
       "      <td>5631500400</td>\n",
       "      <td>180000.0</td>\n",
       "      <td>2</td>\n",
       "      <td>1.00</td>\n",
       "      <td>770</td>\n",
       "      <td>0</td>\n",
       "      <td>1933</td>\n",
       "      <td>98028</td>\n",
       "      <td>47.7379</td>\n",
       "      <td>-122.233</td>\n",
       "    </tr>\n",
       "    <tr>\n",
       "      <th>3</th>\n",
       "      <td>2487200875</td>\n",
       "      <td>604000.0</td>\n",
       "      <td>4</td>\n",
       "      <td>3.00</td>\n",
       "      <td>1960</td>\n",
       "      <td>0</td>\n",
       "      <td>1965</td>\n",
       "      <td>98136</td>\n",
       "      <td>47.5208</td>\n",
       "      <td>-122.393</td>\n",
       "    </tr>\n",
       "    <tr>\n",
       "      <th>4</th>\n",
       "      <td>1954400510</td>\n",
       "      <td>510000.0</td>\n",
       "      <td>3</td>\n",
       "      <td>2.00</td>\n",
       "      <td>1680</td>\n",
       "      <td>0</td>\n",
       "      <td>1987</td>\n",
       "      <td>98074</td>\n",
       "      <td>47.6168</td>\n",
       "      <td>-122.045</td>\n",
       "    </tr>\n",
       "  </tbody>\n",
       "</table>\n",
       "</div>"
      ],
      "text/plain": [
       "           id     price  bedrooms  bathrooms  sqft_living  waterfront  \\\n",
       "0  7129300520  221900.0         3       1.00         1180           0   \n",
       "1  6414100192  538000.0         3       2.25         2570           0   \n",
       "2  5631500400  180000.0         2       1.00          770           0   \n",
       "3  2487200875  604000.0         4       3.00         1960           0   \n",
       "4  1954400510  510000.0         3       2.00         1680           0   \n",
       "\n",
       "   yr_built  zipcode      lat     long  \n",
       "0      1955    98178  47.5112 -122.257  \n",
       "1      1951    98125  47.7210 -122.319  \n",
       "2      1933    98028  47.7379 -122.233  \n",
       "3      1965    98136  47.5208 -122.393  \n",
       "4      1987    98074  47.6168 -122.045  "
      ]
     },
     "execution_count": 3,
     "metadata": {},
     "output_type": "execute_result"
    }
   ],
   "source": [
    "# Columns to display\n",
    "house_data_df = kc_house_data_df[['id', 'price', 'bedrooms', 'bathrooms', 'sqft_living', \n",
    "                                  'waterfront', 'yr_built', 'zipcode', 'lat', 'long']]\n",
    "\n",
    "# Formatting\n",
    "#house_data_df.style.format({\"price\": \"${:,.2f}\", \"bathrooms\":\"{:.2f}\"})\n",
    "\n",
    "house_data_df.head()\n",
    "\n"
   ]
  },
  {
   "cell_type": "markdown",
   "id": "28562f78",
   "metadata": {},
   "source": [
    "# Statiscal Summary\n",
    "- Obtain statiscal summary of dataframe"
   ]
  },
  {
   "cell_type": "code",
   "execution_count": null,
   "id": "abfdc8fe",
   "metadata": {},
   "outputs": [],
   "source": [
    "house_data_df.describe()"
   ]
  },
  {
   "cell_type": "code",
   "execution_count": null,
   "id": "7075823a",
   "metadata": {
    "scrolled": true
   },
   "outputs": [],
   "source": [
    "house_data_df.dtypes"
   ]
  },
  {
   "cell_type": "markdown",
   "id": "086e2a65",
   "metadata": {},
   "source": [
    "# 1. What’s the average amount of bedrooms and bathrooms in a house and is the price higher when the house has more bedrooms or bathrooms?"
   ]
  },
  {
   "cell_type": "code",
   "execution_count": null,
   "id": "f6f91b56",
   "metadata": {},
   "outputs": [],
   "source": [
    "# Calculate average amount of bedrooms\n",
    "avg_bedroom = house_data_df['bedrooms'].mean()\n",
    "print(f\" The average amount of bedrooms in a house is {round(avg_bedroom,0)}\")\n",
    "\n",
    "\n",
    "# Calculate average amount of bathrooms\n",
    "avg_bathroom = house_data_df['bathrooms'].mean()\n",
    "print(f\" The average amount of bathrooms in a house is {round(avg_bathroom,2)}\")"
   ]
  },
  {
   "cell_type": "markdown",
   "id": "936e0e16",
   "metadata": {},
   "source": [
    "Scatter plots with linear regression and r-squared value (bedrooms vs. price and bathrooms vs. price) "
   ]
  },
  {
   "cell_type": "code",
   "execution_count": null,
   "id": "cbc5c2e3",
   "metadata": {
    "scrolled": true
   },
   "outputs": [],
   "source": [
    "# Build scatter plot for each data type:\n",
    "plt.figure(figsize=(9,6))\n",
    "x_values = house_data_df['bedrooms']\n",
    "y_values = house_data_df['price']\n",
    "\n",
    "# Perform a linear regression on wind speed vs. latitude:\n",
    "(slope, intercept, rvalue, pvalue, stderr) = linregress(x_values, y_values)\n",
    "\n",
    "# Get regression values:\n",
    "regress_values = x_values * slope + intercept\n",
    "\n",
    "# Create line equation string:\n",
    "line_eq = 'y = ' + str(round(slope,2)) + 'x + ' + str(round(intercept,2))\n",
    "\n",
    "# Create plot:\n",
    "plt.scatter(x_values,y_values, marker='o', color='royalblue', s=[70], edgecolors='black')\n",
    "plt.plot(x_values,regress_values,'darkred', linewidth=2)\n",
    "\n",
    "# Incorporate the other graph properties:\n",
    "plt.title('bedrooms vs. price', fontsize=20)\n",
    "plt.ylabel('price (in millions)', fontsize=16, color='black')\n",
    "plt.xlabel('bedrooms', fontsize=16, color='black')\n",
    "plt.annotate(line_eq,(15,8.000000e+04), fontsize=18, color='darkred')\n",
    "#plt.grid(False)\n",
    "\n",
    "\n",
    "# Print r-squared value:\n",
    "print(f'The r-squared is: {rvalue}')\n",
    "\n",
    "# Save the figure:\n",
    "# plt.savefig('output_data/Bedrooms vs. Price.png')\n",
    "\n",
    "# Show plot:\n",
    "plt.show()"
   ]
  },
  {
   "cell_type": "code",
   "execution_count": null,
   "id": "687cc3fd",
   "metadata": {},
   "outputs": [],
   "source": [
    "# Build scatter plot for each data type:\n",
    "plt.figure(figsize=(9,6))\n",
    "x_values = house_data_df['bathrooms']\n",
    "y_values = house_data_df['price']\n",
    "\n",
    "# Perform a linear regression on wind speed vs. latitude:\n",
    "(slope, intercept, rvalue, pvalue, stderr) = linregress(x_values, y_values)\n",
    "\n",
    "# Get regression values:\n",
    "regress_values = x_values * slope + intercept\n",
    "\n",
    "# Create line equation string:\n",
    "line_eq = 'y = ' + str(round(slope,2)) + 'x + ' + str(round(intercept,2))\n",
    "\n",
    "# Create plot:\n",
    "plt.scatter(x_values,y_values, marker='o', color='royalblue', s=[70], edgecolors='black')\n",
    "plt.plot(x_values,regress_values,'darkred', linewidth=2)\n",
    "\n",
    "# Incorporate the other graph properties:\n",
    "plt.title('bathrooms vs. price', fontsize=20)\n",
    "plt.ylabel('price (in millions)', fontsize=16, color='black')\n",
    "plt.xlabel('bathrooms', fontsize=16, color='black')\n",
    "plt.annotate(line_eq,(2,7.000000e+06), fontsize=18, color='darkred')\n",
    "#plt.grid(False)\n",
    "\n",
    "\n",
    "# Print r-squared value:\n",
    "print(f'The r-squared is: {rvalue}')\n",
    "\n",
    "# Save the figure:\n",
    "# plt.savefig('output_data/Bathrooms vs. Price.png')\n",
    "\n",
    "# Show plot:\n",
    "plt.show()"
   ]
  },
  {
   "cell_type": "markdown",
   "id": "0889e1b9",
   "metadata": {},
   "source": [
    "# 2. What’s the correlation between sqft_living and pricing and do larger sqft_living greater than 6,000 sqft with a waterfront view cost more or less than those without a waterfront view?"
   ]
  },
  {
   "cell_type": "markdown",
   "id": "fadeb751",
   "metadata": {},
   "source": [
    "Scatter plot with linear regression and r-squared value (sqft_living vs. price)"
   ]
  },
  {
   "cell_type": "code",
   "execution_count": null,
   "id": "1b822a0c",
   "metadata": {},
   "outputs": [],
   "source": []
  },
  {
   "cell_type": "markdown",
   "id": "37677433",
   "metadata": {},
   "source": [
    "Dataframe for larger sqft_living greater than 6,000 sqft with waterfront view and without waterfront view price columns"
   ]
  },
  {
   "cell_type": "code",
   "execution_count": null,
   "id": "df3deaf9",
   "metadata": {},
   "outputs": [],
   "source": []
  },
  {
   "cell_type": "markdown",
   "id": "763e0cca",
   "metadata": {},
   "source": [
    "Scatter plots with linear regression and r-squared value (larger sqft_living greater than 6,000 sqft with waterfront view and without waterfront view vs. price)"
   ]
  },
  {
   "cell_type": "code",
   "execution_count": null,
   "id": "9ad1dc21",
   "metadata": {},
   "outputs": [],
   "source": []
  },
  {
   "cell_type": "markdown",
   "id": "531da404",
   "metadata": {},
   "source": [
    "# 3. Are house sale prices higher in higher income neighborhoods?"
   ]
  },
  {
   "cell_type": "markdown",
   "id": "3d1a8f84",
   "metadata": {},
   "source": [
    "Scatter plot with linear regression and r-squared value (zipcode vs. price) "
   ]
  },
  {
   "cell_type": "code",
   "execution_count": null,
   "id": "78e8acec",
   "metadata": {},
   "outputs": [],
   "source": []
  },
  {
   "cell_type": "markdown",
   "id": "06f18810",
   "metadata": {},
   "source": [
    "Dataframe for 10 most expensive houses by neighborhood zipcode include lat, lng, House ID, Price, and zipcode columns"
   ]
  },
  {
   "cell_type": "code",
   "execution_count": null,
   "id": "b621bfb5",
   "metadata": {},
   "outputs": [],
   "source": []
  },
  {
   "cell_type": "markdown",
   "id": "ccde8762",
   "metadata": {},
   "source": [
    "Plot markers for top 10 most expensive houses by neighborhood zipcode or lat and lng on a map with pins containing House ID, Price, and zipcode"
   ]
  },
  {
   "cell_type": "code",
   "execution_count": null,
   "id": "84e69a63",
   "metadata": {},
   "outputs": [],
   "source": []
  },
  {
   "cell_type": "markdown",
   "id": "1e086c57",
   "metadata": {},
   "source": [
    "# 4. Do houses with a waterfront view or without a waterfront view have more price outliers?"
   ]
  },
  {
   "cell_type": "markdown",
   "id": "43aec1d7",
   "metadata": {},
   "source": [
    "Waterfront vs. Non_waterfront house prices analysis using pie and bar chart "
   ]
  },
  {
   "cell_type": "code",
   "execution_count": null,
   "id": "7bf93ecb",
   "metadata": {},
   "outputs": [],
   "source": [
    "# Non_waterfront only\n",
    "non_wf=house_data_df.loc[house_data_df[\"waterfront\"]==0]\n",
    "non_wf\n",
    "non_wf.count()[\"id\"]\n"
   ]
  },
  {
   "cell_type": "code",
   "execution_count": null,
   "id": "bd5b3925",
   "metadata": {
    "scrolled": true
   },
   "outputs": [],
   "source": [
    "# waterfront properties only\n",
    "wf=house_data_df.loc[house_data_df[\"waterfront\"]==1]\n",
    "wf\n",
    "wf.count()[\"id\"]"
   ]
  },
  {
   "cell_type": "markdown",
   "id": "17f20a7a",
   "metadata": {},
   "source": [
    "Pie chart to show waterfront vs non-waterfront properties"
   ]
  },
  {
   "cell_type": "code",
   "execution_count": null,
   "id": "33843baf",
   "metadata": {},
   "outputs": [],
   "source": [
    "labels = [\"Waterfront\", \"Non-waterfront\"]\n",
    "\n",
    "# The values of each section of the pie chart - from waterfront and non waterfront properties count\n",
    "sizes = [163, 21450]\n",
    "\n",
    "# The colors of each section of the pie chart\n",
    "colors = [\"red\", \"lightblue\"]\n",
    "\n",
    "\n",
    "explode = (0.5, 0)\n",
    "\n",
    "plt.pie(sizes, explode=explode, labels=labels, colors=colors,\n",
    "        autopct=\"%1.1f%%\", shadow=True, startangle=150)\n",
    "plt.savefig('output_data/ waterfront vs nonwaterfront piechart.png')\n",
    "plt.show()"
   ]
  },
  {
   "cell_type": "code",
   "execution_count": null,
   "id": "94e0caad",
   "metadata": {
    "scrolled": true
   },
   "outputs": [],
   "source": [
    "bins = [0,1000,2000,3000,4000,5000,6000,7000]\n",
    "group_label=[\"<1000\", \"1000-2000\", \"2000-3000\", \"3000-4000\",\"4000-5000\",\"5000-6000\",\">6000\"]\n",
    "pd.cut(wf[\"sqft_living\"], bins, labels=group_label).head()"
   ]
  },
  {
   "cell_type": "code",
   "execution_count": null,
   "id": "c514d851",
   "metadata": {},
   "outputs": [],
   "source": [
    "wf[\"living_sqft_range\"]=pd.cut(wf[\"sqft_living\"], bins, labels=group_label)\n",
    "wfrange=wf.groupby([\"living_sqft_range\"])\n",
    "wfrange_df=wfrange['price','bedrooms','bathrooms'].median()\n",
    "print(wfrange_df)"
   ]
  },
  {
   "cell_type": "code",
   "execution_count": null,
   "id": "cf9bb125",
   "metadata": {},
   "outputs": [],
   "source": [
    "bins = [0,1000,2000,3000,4000,5000,6000,7000]\n",
    "group_label=[\"<1000\", \"1000-2000\", \"2000-3000\", \"3000-4000\",\"4000-5000\",\"5000-6000\",\">6000\"]\n",
    "pd.cut(non_wf[\"sqft_living\"], bins, labels=group_label).head()"
   ]
  },
  {
   "cell_type": "code",
   "execution_count": null,
   "id": "f46a0602",
   "metadata": {},
   "outputs": [],
   "source": [
    "non_wf[\"living_sqft_range\"]=pd.cut(non_wf[\"sqft_living\"], bins, labels=group_label)\n",
    "non_wfrange=non_wf.groupby([\"living_sqft_range\"])\n",
    "non_wfrange_df=non_wfrange['price','bedrooms','bathrooms'].median()\n",
    "print(non_wfrange_df)"
   ]
  },
  {
   "cell_type": "code",
   "execution_count": null,
   "id": "44786ac4",
   "metadata": {},
   "outputs": [],
   "source": [
    "wf_vs_non=pd.merge(wfrange_df,non_wfrange_df, how=\"left\", on = [\"living_sqft_range\"])\n",
    "\n",
    "wfnon_df = wf_vs_non.rename(columns={\"price_x\":\"price_wf\",\n",
    "                                    \"bedrooms_x\":\"bedrooms_wf\",\n",
    "                                    \"bathrooms_x\":\"bathrooms_wf\",\n",
    "                                    \"price_y\":\"price_nonwf\",\n",
    "                                    \"bedrooms_y\":\"bedrooms_nonwf\",\n",
    "                                    \"bathrooms_y\": \"bathrooms_nonwf\"})\n",
    "\n",
    "wfnon_df"
   ]
  },
  {
   "cell_type": "code",
   "execution_count": null,
   "id": "d62ef569",
   "metadata": {
    "scrolled": true
   },
   "outputs": [],
   "source": [
    "wfnon_df=wfnon_df.reset_index(level=0)"
   ]
  },
  {
   "cell_type": "code",
   "execution_count": null,
   "id": "c40e0a8a",
   "metadata": {},
   "outputs": [],
   "source": [
    "wfnon_df"
   ]
  },
  {
   "cell_type": "code",
   "execution_count": null,
   "id": "37956264",
   "metadata": {},
   "outputs": [],
   "source": [
    "pandas_bar=wfnon_df\n",
    "pandas_bar.plot(kind=\"bar\",x=\"living_sqft_range\", y=[\"price_wf\",\"price_nonwf\"],rot=45)\n",
    "\n",
    "plt.xlabel(\"Living Sqft Range\")\n",
    "plt.ylabel(\"Prices (Millions)\")\n",
    "plt.title(\"Waterfront vs. Non-Waterfront\")\n",
    "plt.savefig('output_data/ waterfront vs nonwf price barchart.png')\n",
    "plt.show()"
   ]
  },
  {
   "cell_type": "markdown",
   "id": "703a27d6",
   "metadata": {},
   "source": [
    "Scatter plot with linear regression and r-squared value (waterfront bedrooms vs. price) "
   ]
  },
  {
   "cell_type": "code",
   "execution_count": null,
   "id": "bb5fe622",
   "metadata": {},
   "outputs": [],
   "source": [
    "# Build scatter plot for each data type:\n",
    "plt.figure(figsize=(9,6))\n",
    "x_values = wf['bedrooms']\n",
    "y_values = wf['price']\n",
    "\n",
    "# Perform a linear regression \n",
    "(slope, intercept, rvalue, pvalue, stderr) = linregress(x_values, y_values)\n",
    "\n",
    "# Get regression values:\n",
    "regress_values = x_values * slope + intercept\n",
    "\n",
    "# Create line equation string:\n",
    "line_eq = 'y = ' + str(round(slope,2)) + 'x + ' + str(round(intercept,2))\n",
    "\n",
    "# Create plot:\n",
    "plt.scatter(x_values,y_values, marker='o', color='royalblue', s=[70], edgecolors='black')\n",
    "plt.plot(x_values,regress_values,'darkred', linewidth=2)\n",
    "\n",
    "# Incorporate the other graph properties:\n",
    "plt.title('Waterfront bedrooms vs. prices', fontsize=20)\n",
    "plt.ylabel('price (in millions)', fontsize=16, color='black')\n",
    "plt.xlabel('bedrooms', fontsize=16, color='black')\n",
    "plt.annotate(line_eq,(3,4000000), fontsize=18, color='darkred')\n",
    "#plt.grid(False)\n",
    "\n",
    "\n",
    "# Print r-squared value:\n",
    "print(f'The r-squared is: {rvalue}')\n",
    "\n",
    "# Save the figure:\n",
    "plt.savefig('output_data/Waterfront Bedrooms vs. Price.png')\n",
    "\n",
    "# Show plot:\n",
    "plt.show()"
   ]
  },
  {
   "cell_type": "code",
   "execution_count": null,
   "id": "0819b40b",
   "metadata": {},
   "outputs": [],
   "source": []
  },
  {
   "cell_type": "markdown",
   "id": "a3875732",
   "metadata": {},
   "source": [
    "Boxplot (waterfront & price)"
   ]
  },
  {
   "cell_type": "code",
   "execution_count": null,
   "id": "8c22117b",
   "metadata": {},
   "outputs": [],
   "source": [
    "view_df=wf[[\"price\"]]\n",
    "\n",
    "flierprops = dict(marker='o', markerfacecolor='r', markersize=8, markeredgecolor='black')\n",
    "\n",
    "view_df.boxplot(flierprops=flierprops)\n",
    "plt.ylabel(\"Price (in Millions)\")\n",
    "\n",
    "plt.xticks([1],['waterfront'])\n",
    "plt.ylim([0,6000000])\n",
    "plt.savefig('output_data/ Waterfront vs. Price boxplot.png')\n",
    "plt.show()"
   ]
  },
  {
   "cell_type": "markdown",
   "id": "e23b6af2",
   "metadata": {},
   "source": [
    "# 5. Do newly built homes cost more than older built homes and where/ which zipcodes are the majority of the newly built homes located at?"
   ]
  },
  {
   "cell_type": "markdown",
   "id": "d52ce7e8",
   "metadata": {},
   "source": [
    "Scatter plot with linear regression and r-squared value (yr_built vs. price) "
   ]
  },
  {
   "cell_type": "code",
   "execution_count": 12,
   "id": "f03e662d",
   "metadata": {},
   "outputs": [
    {
     "name": "stdout",
     "output_type": "stream",
     "text": [
      "The r-squared is: 0.05398182517966194\n"
     ]
    },
    {
     "data": {
      "image/png": "[encoded data removed]",
      "text/plain": [
       "<Figure size 648x432 with 1 Axes>"
      ]
     },
     "metadata": {
      "needs_background": "light"
     },
     "output_type": "display_data"
    }
   ],
   "source": [
    "# Build scatter plot for each data type:\n",
    "plt.figure(figsize=(9,6))\n",
    "x_values = house_data_df['yr_built']\n",
    "y_values = house_data_df['price']\n",
    "\n",
    "# Perform a linear regression on wind speed vs. latitude:\n",
    "(slope, intercept, rvalue, pvalue, stderr) = linregress(x_values, y_values)\n",
    "\n",
    "# Get regression values:\n",
    "regress_values = x_values * slope + intercept\n",
    "\n",
    "# Create line equation string:\n",
    "line_eq = 'y = ' + str(round(slope,2)) + 'x + ' + str(round(intercept,2))\n",
    "\n",
    "# Create plot:\n",
    "plt.scatter(x_values,y_values, marker='o', color='royalblue', s=[70], edgecolors='black')\n",
    "plt.plot(x_values,regress_values,'darkred', linewidth=2)\n",
    "\n",
    "# Incorporate the other graph properties:\n",
    "plt.title('year built vs. price', fontsize=20)\n",
    "plt.ylabel('price (in millions)', fontsize=16, color='black')\n",
    "plt.xlabel('year built', fontsize=16, color='black')\n",
    "plt.annotate(line_eq,(1900,5e6), fontsize=18, color='darkred')\n",
    "\n",
    "# Print r-squared value:\n",
    "print(f'The r-squared is: {rvalue}')\n",
    "\n",
    "# Save the figure:\n",
    "plt.savefig('output_data/yearbuiltvsprice.png')\n",
    "\n",
    "# Show plot:\n",
    "plt.show()"
   ]
  },
  {
   "cell_type": "markdown",
   "id": "5124fa64",
   "metadata": {},
   "source": [
    "For the graph above, it appears that there is not a strong correlation between year built and price. Folks buying homes seem to desire older homes in a similar distribution to newer ones and are willing to pay similar prices."
   ]
  },
  {
   "cell_type": "markdown",
   "id": "23c0e43b",
   "metadata": {},
   "source": [
    "Scatter plot with linear regression and r-squared value (yr_renovated vs. price) "
   ]
  },
  {
   "cell_type": "code",
   "execution_count": 22,
   "id": "8822aa20",
   "metadata": {},
   "outputs": [
    {
     "name": "stdout",
     "output_type": "stream",
     "text": [
      "The r-squared is: 0.12792638428182118\n"
     ]
    },
    {
     "data": {
      "image/png": "[encoded data removed]",
      "text/plain": [
       "<Figure size 648x432 with 1 Axes>"
      ]
     },
     "metadata": {
      "needs_background": "light"
     },
     "output_type": "display_data"
    }
   ],
   "source": [
    "renovated_df = kc_house_data_df[[\"id\", \"lat\", \"long\",\"zipcode\", \"price\", \"yr_renovated\"]]\n",
    "renovated_df = renovated_df[renovated_df[\"yr_renovated\"] > 0]\n",
    "\n",
    "# Build scatter plot for each data type:\n",
    "plt.figure(figsize=(9,6))\n",
    "x_values = renovated_df['yr_renovated']\n",
    "y_values = renovated_df['price']\n",
    "\n",
    "# Perform a linear regression on wind speed vs. latitude:\n",
    "(slope, intercept, rvalue, pvalue, stderr) = linregress(x_values, y_values)\n",
    "\n",
    "# Get regression values:\n",
    "regress_values = x_values * slope + intercept\n",
    "\n",
    "# Create line equation string:\n",
    "line_eq = 'y = ' + str(round(slope,2)) + 'x + ' + str(round(intercept,2))\n",
    "\n",
    "# Create plot:\n",
    "plt.scatter(x_values,y_values, marker='o', color='royalblue', s=[70], edgecolors='black')\n",
    "plt.plot(x_values,regress_values,'darkred', linewidth=2)\n",
    "\n",
    "# Incorporate the other graph properties:\n",
    "plt.title('year renovated vs. price', fontsize=20)\n",
    "plt.ylabel('price (in millions)', fontsize=16, color='black')\n",
    "plt.xlabel('year renovated', fontsize=16, color='black')\n",
    "plt.annotate(line_eq,(1930,5e6), fontsize=18, color='darkred')\n",
    "\n",
    "# Print r-squared value:\n",
    "print(f'The r-squared is: {rvalue}')\n",
    "\n",
    "# Save the figure:\n",
    "plt.savefig('output_data/yearrenovatedvsprice.png')\n",
    "\n",
    "# Show plot:\n",
    "plt.show()"
   ]
  },
  {
   "cell_type": "markdown",
   "id": "dfff510e",
   "metadata": {},
   "source": [
    "In the graph above we see that there is a stronger correlation between price and year renovated. It seems that folks buying homes do tend to pay more for homes that are renovated, regardless of the year originally built."
   ]
  },
  {
   "cell_type": "markdown",
   "id": "f94bc760",
   "metadata": {},
   "source": [
    "Dataframe for top 6 most newly built houses include lat, lng, House ID, Price, and yr_built columns"
   ]
  },
  {
   "cell_type": "code",
   "execution_count": 20,
   "id": "40b4833e",
   "metadata": {},
   "outputs": [
    {
     "data": {
      "text/html": [
       "<div>\n",
       "<style scoped>\n",
       "    .dataframe tbody tr th:only-of-type {\n",
       "        vertical-align: middle;\n",
       "    }\n",
       "\n",
       "    .dataframe tbody tr th {\n",
       "        vertical-align: top;\n",
       "    }\n",
       "\n",
       "    .dataframe thead th {\n",
       "        text-align: right;\n",
       "    }\n",
       "</style>\n",
       "<table border=\"1\" class=\"dataframe\">\n",
       "  <thead>\n",
       "    <tr style=\"text-align: right;\">\n",
       "      <th></th>\n",
       "      <th>id</th>\n",
       "      <th>lat</th>\n",
       "      <th>long</th>\n",
       "      <th>zipcode</th>\n",
       "      <th>price</th>\n",
       "      <th>yr_built</th>\n",
       "    </tr>\n",
       "  </thead>\n",
       "  <tbody>\n",
       "    <tr>\n",
       "      <th>21369</th>\n",
       "      <td>923059259</td>\n",
       "      <td>47.4917</td>\n",
       "      <td>-122.170</td>\n",
       "      <td>98056</td>\n",
       "      <td>455950.0</td>\n",
       "      <td>2015</td>\n",
       "    </tr>\n",
       "    <tr>\n",
       "      <th>1763</th>\n",
       "      <td>1832100030</td>\n",
       "      <td>47.5784</td>\n",
       "      <td>-122.226</td>\n",
       "      <td>98040</td>\n",
       "      <td>597326.0</td>\n",
       "      <td>2015</td>\n",
       "    </tr>\n",
       "    <tr>\n",
       "      <th>21262</th>\n",
       "      <td>5694500840</td>\n",
       "      <td>47.6611</td>\n",
       "      <td>-122.346</td>\n",
       "      <td>98103</td>\n",
       "      <td>559000.0</td>\n",
       "      <td>2015</td>\n",
       "    </tr>\n",
       "    <tr>\n",
       "      <th>14215</th>\n",
       "      <td>8156600210</td>\n",
       "      <td>47.6782</td>\n",
       "      <td>-122.299</td>\n",
       "      <td>98115</td>\n",
       "      <td>1290000.0</td>\n",
       "      <td>2015</td>\n",
       "    </tr>\n",
       "    <tr>\n",
       "      <th>20852</th>\n",
       "      <td>1257201420</td>\n",
       "      <td>47.6725</td>\n",
       "      <td>-122.330</td>\n",
       "      <td>98103</td>\n",
       "      <td>595000.0</td>\n",
       "      <td>2015</td>\n",
       "    </tr>\n",
       "    <tr>\n",
       "      <th>20963</th>\n",
       "      <td>6058600220</td>\n",
       "      <td>47.5951</td>\n",
       "      <td>-122.301</td>\n",
       "      <td>98144</td>\n",
       "      <td>230000.0</td>\n",
       "      <td>2015</td>\n",
       "    </tr>\n",
       "  </tbody>\n",
       "</table>\n",
       "</div>"
      ],
      "text/plain": [
       "               id      lat     long  zipcode      price  yr_built\n",
       "21369   923059259  47.4917 -122.170    98056   455950.0      2015\n",
       "1763   1832100030  47.5784 -122.226    98040   597326.0      2015\n",
       "21262  5694500840  47.6611 -122.346    98103   559000.0      2015\n",
       "14215  8156600210  47.6782 -122.299    98115  1290000.0      2015\n",
       "20852  1257201420  47.6725 -122.330    98103   595000.0      2015\n",
       "20963  6058600220  47.5951 -122.301    98144   230000.0      2015"
      ]
     },
     "execution_count": 20,
     "metadata": {},
     "output_type": "execute_result"
    }
   ],
   "source": [
    "top_six_new_df = house_data_df.sort_values(\"yr_built\", ascending=False)\n",
    "top_six_new_df = top_six_new_df[[\"id\", \"lat\", \"long\", \"zipcode\", \"price\", \"yr_built\"]]\n",
    "top_six_new_df = top_six_new_df.head(6)\n",
    "top_six_new_df"
   ]
  },
  {
   "cell_type": "markdown",
   "id": "66386b6c",
   "metadata": {},
   "source": [
    "Dataframe for top 6 recently renovated houses include lat, lng, House ID, Price, and yr_renovated columns"
   ]
  },
  {
   "cell_type": "code",
   "execution_count": 21,
   "id": "3111633b",
   "metadata": {},
   "outputs": [
    {
     "data": {
      "text/html": [
       "<div>\n",
       "<style scoped>\n",
       "    .dataframe tbody tr th:only-of-type {\n",
       "        vertical-align: middle;\n",
       "    }\n",
       "\n",
       "    .dataframe tbody tr th {\n",
       "        vertical-align: top;\n",
       "    }\n",
       "\n",
       "    .dataframe thead th {\n",
       "        text-align: right;\n",
       "    }\n",
       "</style>\n",
       "<table border=\"1\" class=\"dataframe\">\n",
       "  <thead>\n",
       "    <tr style=\"text-align: right;\">\n",
       "      <th></th>\n",
       "      <th>id</th>\n",
       "      <th>lat</th>\n",
       "      <th>long</th>\n",
       "      <th>zipcode</th>\n",
       "      <th>price</th>\n",
       "      <th>yr_renovated</th>\n",
       "    </tr>\n",
       "  </thead>\n",
       "  <tbody>\n",
       "    <tr>\n",
       "      <th>5683</th>\n",
       "      <td>2202500255</td>\n",
       "      <td>47.5731</td>\n",
       "      <td>-122.135</td>\n",
       "      <td>98006</td>\n",
       "      <td>335000.0</td>\n",
       "      <td>2015</td>\n",
       "    </tr>\n",
       "    <tr>\n",
       "      <th>19444</th>\n",
       "      <td>582000644</td>\n",
       "      <td>47.6515</td>\n",
       "      <td>-122.397</td>\n",
       "      <td>98199</td>\n",
       "      <td>872500.0</td>\n",
       "      <td>2015</td>\n",
       "    </tr>\n",
       "    <tr>\n",
       "      <th>14859</th>\n",
       "      <td>3585900665</td>\n",
       "      <td>47.7608</td>\n",
       "      <td>-122.378</td>\n",
       "      <td>98177</td>\n",
       "      <td>805000.0</td>\n",
       "      <td>2015</td>\n",
       "    </tr>\n",
       "    <tr>\n",
       "      <th>18575</th>\n",
       "      <td>8935100100</td>\n",
       "      <td>47.6763</td>\n",
       "      <td>-122.282</td>\n",
       "      <td>98115</td>\n",
       "      <td>476000.0</td>\n",
       "      <td>2015</td>\n",
       "    </tr>\n",
       "    <tr>\n",
       "      <th>7097</th>\n",
       "      <td>9141100005</td>\n",
       "      <td>47.7412</td>\n",
       "      <td>-122.355</td>\n",
       "      <td>98133</td>\n",
       "      <td>285000.0</td>\n",
       "      <td>2015</td>\n",
       "    </tr>\n",
       "    <tr>\n",
       "      <th>3156</th>\n",
       "      <td>6821100195</td>\n",
       "      <td>47.6563</td>\n",
       "      <td>-122.401</td>\n",
       "      <td>98199</td>\n",
       "      <td>830000.0</td>\n",
       "      <td>2015</td>\n",
       "    </tr>\n",
       "  </tbody>\n",
       "</table>\n",
       "</div>"
      ],
      "text/plain": [
       "               id      lat     long  zipcode     price  yr_renovated\n",
       "5683   2202500255  47.5731 -122.135    98006  335000.0          2015\n",
       "19444   582000644  47.6515 -122.397    98199  872500.0          2015\n",
       "14859  3585900665  47.7608 -122.378    98177  805000.0          2015\n",
       "18575  8935100100  47.6763 -122.282    98115  476000.0          2015\n",
       "7097   9141100005  47.7412 -122.355    98133  285000.0          2015\n",
       "3156   6821100195  47.6563 -122.401    98199  830000.0          2015"
      ]
     },
     "execution_count": 21,
     "metadata": {},
     "output_type": "execute_result"
    }
   ],
   "source": [
    "renovated_df = top_six_renovated.sort_values(\"yr_renovated\", ascending=False)\n",
    "top_six_renovated = top_six_renovated.head(6)\n",
    "top_six_renovated"
   ]
  },
  {
   "cell_type": "markdown",
   "id": "89ac2618",
   "metadata": {},
   "source": [
    "Plot markers for the top 6 most newly built houses using lat and lng on a map with pins containing House ID, Price, and yr_built"
   ]
  },
  {
   "cell_type": "code",
   "execution_count": null,
   "id": "7d0207a0",
   "metadata": {},
   "outputs": [],
   "source": []
  },
  {
   "cell_type": "markdown",
   "id": "e9f21812",
   "metadata": {},
   "source": [
    "Group data frame by zip code, show the zipcodes with the newest houses along with average price, and number of houses per zip code"
   ]
  },
  {
   "cell_type": "code",
   "execution_count": 11,
   "id": "b9e76acf",
   "metadata": {},
   "outputs": [
    {
     "data": {
      "text/html": [
       "<div>\n",
       "<style scoped>\n",
       "    .dataframe tbody tr th:only-of-type {\n",
       "        vertical-align: middle;\n",
       "    }\n",
       "\n",
       "    .dataframe tbody tr th {\n",
       "        vertical-align: top;\n",
       "    }\n",
       "\n",
       "    .dataframe thead th {\n",
       "        text-align: right;\n",
       "    }\n",
       "</style>\n",
       "<table border=\"1\" class=\"dataframe\">\n",
       "  <thead>\n",
       "    <tr style=\"text-align: right;\">\n",
       "      <th></th>\n",
       "      <th>id</th>\n",
       "      <th>yr_built</th>\n",
       "      <th>price</th>\n",
       "    </tr>\n",
       "    <tr>\n",
       "      <th>zipcode</th>\n",
       "      <th></th>\n",
       "      <th></th>\n",
       "      <th></th>\n",
       "    </tr>\n",
       "  </thead>\n",
       "  <tbody>\n",
       "    <tr>\n",
       "      <th>98199</th>\n",
       "      <td>317</td>\n",
       "      <td>2015</td>\n",
       "      <td>792187.873817</td>\n",
       "    </tr>\n",
       "    <tr>\n",
       "      <th>98028</th>\n",
       "      <td>283</td>\n",
       "      <td>2015</td>\n",
       "      <td>462488.869258</td>\n",
       "    </tr>\n",
       "    <tr>\n",
       "      <th>98072</th>\n",
       "      <td>273</td>\n",
       "      <td>2015</td>\n",
       "      <td>570073.520147</td>\n",
       "    </tr>\n",
       "    <tr>\n",
       "      <th>98065</th>\n",
       "      <td>310</td>\n",
       "      <td>2015</td>\n",
       "      <td>528003.138710</td>\n",
       "    </tr>\n",
       "    <tr>\n",
       "      <th>98103</th>\n",
       "      <td>602</td>\n",
       "      <td>2015</td>\n",
       "      <td>585048.779070</td>\n",
       "    </tr>\n",
       "  </tbody>\n",
       "</table>\n",
       "</div>"
      ],
      "text/plain": [
       "          id  yr_built          price\n",
       "zipcode                              \n",
       "98199    317      2015  792187.873817\n",
       "98028    283      2015  462488.869258\n",
       "98072    273      2015  570073.520147\n",
       "98065    310      2015  528003.138710\n",
       "98103    602      2015  585048.779070"
      ]
     },
     "execution_count": 11,
     "metadata": {},
     "output_type": "execute_result"
    }
   ],
   "source": [
    "zipcode_df = house_data_df[[\"id\", \"zipcode\", \"price\", \"yr_built\"]]\n",
    "zipcode_df = zipcode_df.groupby([\"zipcode\"])\n",
    "newest = zipcode_df[\"yr_built\"].max()\n",
    "price_mean = zipcode_df[\"price\"].mean()\n",
    "house_count = zipcode_df[\"id\"].count()\n",
    "zipcode_gb_df= pd.DataFrame({\"id\": house_count, \"yr_built\": newest, \"price\": price_mean})\n",
    "\n",
    "zipcode_gb_df = zipcode_gb_df.sort_values(\"yr_built\", ascending=False)\n",
    "zipcode_gb_df.head()"
   ]
  },
  {
   "cell_type": "code",
   "execution_count": null,
   "id": "7d993dee",
   "metadata": {},
   "outputs": [],
   "source": []
  }
 ],
 "metadata": {
  "kernelspec": {
   "display_name": "Python [conda env:PythonData38] *",
   "language": "python",
   "name": "conda-env-PythonData38-py"
  },
  "language_info": {
   "codemirror_mode": {
    "name": "ipython",
    "version": 3
   },
   "file_extension": ".py",
   "mimetype": "text/x-python",
   "name": "python",
   "nbconvert_exporter": "python",
   "pygments_lexer": "ipython3",
   "version": "3.8.12"
  }
 },
 "nbformat": 4,
 "nbformat_minor": 5
}
