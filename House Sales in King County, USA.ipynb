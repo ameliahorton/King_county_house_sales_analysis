{
 "cells": [
  {
   "cell_type": "markdown",
   "id": "baf63946",
   "metadata": {},
   "source": [
    "# House Sales in King County, USA\n",
    "----"
   ]
  },
  {
   "cell_type": "markdown",
   "id": "e180c3e7",
   "metadata": {},
   "source": [
    "This dataset contains house sale prices for King County, which includes Seattle. It includes homes sold between May 2014 and May 2015.\n",
    "\n",
    "**id** :a notation for a house\n",
    "\n",
    "**date**: Date house was sold\n",
    "\n",
    "**price**: Price is prediction target\n",
    "\n",
    "**bedrooms**: Number of Bedrooms/House\n",
    "\n",
    "**bathrooms**: Number of bathrooms/bedrooms\n",
    "\n",
    "**sqft_living**: square footage of the home\n",
    "\n",
    "**sqft_lot**: square footage of the lot\n",
    "\n",
    "**floors** :Total floors (levels) in house\n",
    "\n",
    "**waterfront** :House which has a view to a waterfront\n",
    "\n",
    "**view**: Has been viewed\n",
    "\n",
    "**condition** :How good the condition is Overall\n",
    "\n",
    "**grade**: overall grade given to the housing unit, based on King County grading system\n",
    "\n",
    "**sqft_above** :square footage of house apart from basement\n",
    "\n",
    "**sqft_basement**: square footage of the basement\n",
    "\n",
    "**yr_built** :Built Year\n",
    "\n",
    "**yr_renovated** :Year when house was renovated\n",
    "\n",
    "**zipcode**:zip code\n",
    "\n",
    "**lat**: Latitude coordinate\n",
    "\n",
    "**long**: Longitude coordinate\n",
    "\n",
    "**sqft_living15** :Living room area in 2015(implies-- some renovations) This might or might not have affected the lotsize area\n",
    "\n",
    "**sqft_lot15** :lotSize area in 2015(implies-- some renovations)"
   ]
  },
  {
   "cell_type": "code",
   "execution_count": null,
   "id": "956dd1cf",
   "metadata": {},
   "outputs": [],
   "source": [
    "# Dependencies and Setup\n",
    "import pandas as pd\n",
    "import matplotlib.pyplot as plt\n",
    "import numpy as np\n",
    "from scipy.stats import linregress\n",
    "import gmaps\n",
    "import os"
   ]
  },
  {
   "cell_type": "markdown",
   "id": "676fb051",
   "metadata": {},
   "source": [
    "# Importing Data\n",
    "\n",
    "- Load and read csv file"
   ]
  },
  {
   "cell_type": "code",
   "execution_count": null,
   "id": "6ce9af05",
   "metadata": {
    "scrolled": true
   },
   "outputs": [],
   "source": [
    "# File to Load:\n",
    "file_to_load='kc_house_data.csv' \n",
    "\n",
    "# Read kc_house_data csv file and store into data frame:\n",
    "kc_house_data_df=pd.read_csv(file_to_load)\n",
    "kc_house_data_df.head()"
   ]
  },
  {
   "cell_type": "markdown",
   "id": "b612a1c5",
   "metadata": {},
   "source": [
    "# Slicing Data\n",
    "- Only display in dataframe columns: 'id', 'price', 'bedrooms', 'bathrooms', 'sqft_living', 'waterfront', 'yr_built', 'zipcode', 'lat', 'long'"
   ]
  },
  {
   "cell_type": "code",
   "execution_count": null,
   "id": "e3ce560f",
   "metadata": {},
   "outputs": [],
   "source": [
    "# Columns to display\n",
    "house_data_df = kc_house_data_df[['id', 'price', 'bedrooms', 'bathrooms', 'sqft_living', \n",
    "                                  'waterfront', 'yr_built', 'zipcode', 'lat', 'long']]\n",
    "\n",
    "# Formatting\n",
    "#house_data_df.style.format({\"price\": \"${:,.2f}\", \"bathrooms\":\"{:.2f}\"})\n",
    "\n",
    "house_data_df.head()\n",
    "\n"
   ]
  },
  {
   "cell_type": "markdown",
   "id": "28562f78",
   "metadata": {},
   "source": [
    "# Statiscal Summary\n",
    "- Obtain statiscal summary of dataframe"
   ]
  },
  {
   "cell_type": "code",
   "execution_count": null,
   "id": "abfdc8fe",
   "metadata": {},
   "outputs": [],
   "source": [
    "house_data_df.describe()"
   ]
  },
  {
   "cell_type": "code",
   "execution_count": null,
   "id": "7075823a",
   "metadata": {
    "scrolled": true
   },
   "outputs": [],
   "source": [
    "house_data_df.dtypes"
   ]
  },
  {
   "cell_type": "markdown",
   "id": "086e2a65",
   "metadata": {},
   "source": [
    "# 1. What’s the average amount of bedrooms and bathrooms in a house and is the price higher when the house has more bedrooms or bathrooms?"
   ]
  },
  {
   "cell_type": "code",
   "execution_count": null,
   "id": "f6f91b56",
   "metadata": {},
   "outputs": [],
   "source": [
    "# Calculate average amount of bedrooms\n",
    "avg_bedroom = house_data_df['bedrooms'].mean()\n",
    "print(f\" The average amount of bedrooms in a house is {round(avg_bedroom,0)}\")\n",
    "\n",
    "\n",
    "# Calculate average amount of bathrooms\n",
    "avg_bathroom = house_data_df['bathrooms'].mean()\n",
    "print(f\" The average amount of bathrooms in a house is {round(avg_bathroom,2)}\")"
   ]
  },
  {
   "cell_type": "markdown",
   "id": "936e0e16",
   "metadata": {},
   "source": [
    "Scatter plots with linear regression and r-squared value (bedrooms vs. price and bathrooms vs. price) "
   ]
  },
  {
   "cell_type": "code",
   "execution_count": null,
   "id": "cbc5c2e3",
   "metadata": {
    "scrolled": true
   },
   "outputs": [],
   "source": [
    "# Build scatter plot for each data type:\n",
    "plt.figure(figsize=(9,6))\n",
    "x_values = house_data_df['bedrooms']\n",
    "y_values = house_data_df['price']\n",
    "\n",
    "# Perform a linear regression on wind speed vs. latitude:\n",
    "(slope, intercept, rvalue, pvalue, stderr) = linregress(x_values, y_values)\n",
    "\n",
    "# Get regression values:\n",
    "regress_values = x_values * slope + intercept\n",
    "\n",
    "# Create line equation string:\n",
    "line_eq = 'y = ' + str(round(slope,2)) + 'x + ' + str(round(intercept,2))\n",
    "\n",
    "# Create plot:\n",
    "plt.scatter(x_values,y_values, marker='o', color='royalblue', s=[70], edgecolors='black')\n",
    "plt.plot(x_values,regress_values,'darkred', linewidth=2)\n",
    "\n",
    "# Incorporate the other graph properties:\n",
    "plt.title('bedrooms vs. price', fontsize=20)\n",
    "plt.ylabel('price', fontsize=16, color='black')\n",
    "plt.xlabel('bedrooms', fontsize=16, color='black')\n",
    "plt.annotate(line_eq,(15,8.000000e+04), fontsize=18, color='darkred')\n",
    "plt.ticklabel_format(style='plain')\n",
    "#plt.grid(False)\n",
    "    \n",
    "# Format the labels on y-axis with dollar sign\n",
    "current_values = plt.gca().get_yticks()\n",
    "plt.gca().set_yticklabels(['${:,.0f}'.format(x) for x in current_values])\n",
    "\n",
    "\n",
    "# Print r-squared value:\n",
    "print(f'The r-squared is: {rvalue}')\n",
    "\n",
    "# Save the figure:\n",
    "# plt.savefig('output_data/Bedrooms vs. Price.png')\n",
    "\n",
    "# Show plot:\n",
    "plt.show()"
   ]
  },
  {
   "cell_type": "code",
   "execution_count": null,
   "id": "6aedc16c",
   "metadata": {
    "scrolled": true
   },
   "outputs": [],
   "source": [
    "# Amount of Bedrooms Histogram\n",
    "house_data_df[\"bedrooms\"].hist(bins=25)\n",
    "plt.ylabel('count', fontsize=12, color='black')\n",
    "plt.xlabel('bedrooms', fontsize=12, color='black')\n",
    "plt.title(\"Amount of Bedrooms\")\n",
    "\n",
    "# Save the figure:\n",
    "plt.savefig('output_data/Amount of Bedrooms Histogram.png')\n",
    "\n",
    "plt.show()"
   ]
  },
  {
   "cell_type": "code",
   "execution_count": null,
   "id": "d727f8f6",
   "metadata": {
    "scrolled": false
   },
   "outputs": [],
   "source": [
    "# house_data_df with only price and bedrooms columns\n",
    "house_data_df[[\"price\", \"bedrooms\"]]\n",
    "\n",
    "# Find the average price by amount of bedrooms\n",
    "bedroom_mean = house_data_df.groupby('bedrooms').mean()[\"price\"]\n",
    "#bedroom_mean\n",
    "\n",
    "# Change series to dataframe\n",
    "bedroom_df = bedroom_mean.to_frame(name='price')\n",
    "\n",
    "# Formatting\n",
    "#bedroom_df.style.format({\"price\": \"${:,.2f}\"})\n",
    "\n",
    "bedroom_df"
   ]
  },
  {
   "cell_type": "code",
   "execution_count": null,
   "id": "f3e5aa8d",
   "metadata": {},
   "outputs": [],
   "source": [
    "# Average Price by Bedrooms Bar Graph\n",
    "bedroom_df.plot.bar(rot=360)\n",
    "plt.gcf().axes[0].yaxis.get_major_formatter().set_scientific(False)\n",
    "#plt.xlim([-0.5, 10.5])\n",
    "plt.ylabel('average price', fontsize=12, color='black')\n",
    "plt.xlabel('bedrooms', fontsize=12, color='black')\n",
    "plt.title(\"Average Price by Bedrooms\")\n",
    "plt.grid()\n",
    "\n",
    "# Format the labels on y-axis to currency\n",
    "current_values = plt.gca().get_yticks()\n",
    "plt.gca().set_yticklabels(['${:,.0f}'.format(x) for x in current_values])\n",
    "\n",
    "# Remove legend\n",
    "plt.gca().get_legend().remove()\n",
    "\n",
    "# Save the figure:\n",
    "plt.savefig('output_data/Average Price by Bedrooms Bar Graph.png')\n",
    "\n",
    "plt.show()"
   ]
  },
  {
   "cell_type": "code",
   "execution_count": null,
   "id": "687cc3fd",
   "metadata": {
    "scrolled": true
   },
   "outputs": [],
   "source": [
    "# Build scatter plot for each data type:\n",
    "plt.figure(figsize=(9,6))\n",
    "x_values = house_data_df['bathrooms']\n",
    "y_values = house_data_df['price']\n",
    "\n",
    "# Perform a linear regression on wind speed vs. latitude:\n",
    "(slope, intercept, rvalue, pvalue, stderr) = linregress(x_values, y_values)\n",
    "\n",
    "# Get regression values:\n",
    "regress_values = x_values * slope + intercept\n",
    "\n",
    "# Create line equation string:\n",
    "line_eq = 'y = ' + str(round(slope,2)) + 'x + ' + str(round(intercept,2))\n",
    "\n",
    "# Create plot:\n",
    "plt.scatter(x_values,y_values, marker='o', color='royalblue', s=[70], edgecolors='black')\n",
    "plt.plot(x_values,regress_values,'darkred', linewidth=2)\n",
    "\n",
    "# Incorporate the other graph properties:\n",
    "plt.title('bathrooms vs. price', fontsize=20)\n",
    "plt.ylabel('price', fontsize=16, color='black')\n",
    "plt.xlabel('bathrooms', fontsize=16, color='black')\n",
    "plt.annotate(line_eq,(2,7.000000e+06), fontsize=18, color='darkred')\n",
    "#plt.grid(False)\n",
    "\n",
    "# Format the labels on y-axis with dollar sign\n",
    "current_values = plt.gca().get_yticks()\n",
    "plt.gca().set_yticklabels(['${:,.0f}'.format(x) for x in current_values])\n",
    "\n",
    "# Print r-squared value:\n",
    "print(f'The r-squared is: {rvalue}')\n",
    "\n",
    "# Save the figure:\n",
    "# plt.savefig('output_data/Bathrooms vs. Price.png')\n",
    "\n",
    "# Show plot:\n",
    "plt.show()"
   ]
  },
  {
   "cell_type": "code",
   "execution_count": null,
   "id": "942ceb98",
   "metadata": {},
   "outputs": [],
   "source": [
    "# Amount of Bathrooms Histogram\n",
    "house_data_df[\"bathrooms\"].hist(bins=25)\n",
    "plt.ylabel('count', fontsize=12, color='black')\n",
    "plt.xlabel('bathrooms', fontsize=12, color='black')\n",
    "plt.title(\"Amount of Bathrooms\")\n",
    "\n",
    "# Save the figure:\n",
    "plt.savefig('output_data/Amount of Bathrooms Histogram.png')\n",
    "\n",
    "plt.show()\n"
   ]
  },
  {
   "cell_type": "code",
   "execution_count": null,
   "id": "c4cb209a",
   "metadata": {},
   "outputs": [],
   "source": [
    "# house_data_df with only price and bathrooms columns\n",
    "house_data_df[[\"price\", \"bathrooms\"]]\n",
    "\n",
    "# Find the average price by amount of bathrooms\n",
    "bathroom_mean = house_data_df.groupby('bathrooms').mean()[\"price\"]\n",
    "#bathroom_mean\n",
    "\n",
    "# Change series to dataframe\n",
    "bathroom_df = bathroom_mean.to_frame(name='price')\n",
    "\n",
    "# Formatting\n",
    "#bathroom_df.style.format({\"price\": \"${:,.2f}\"})\n",
    "\n",
    "bathroom_df"
   ]
  },
  {
   "cell_type": "code",
   "execution_count": null,
   "id": "70e5c013",
   "metadata": {},
   "outputs": [],
   "source": [
    "# Average Price by Bathrooms Bar Graph\n",
    "bathroom_df.plot.bar(rot=90)\n",
    "plt.gcf().axes[0].yaxis.get_major_formatter().set_scientific(False)\n",
    "\n",
    "plt.ylabel('average price', fontsize=12, color='black')\n",
    "plt.xlabel('bathrooms', fontsize=12, color='black')\n",
    "plt.title(\"Average Price by Bathrooms\")\n",
    "plt.grid()\n",
    "\n",
    "# Format the labels on y-axis to currency\n",
    "current_values = plt.gca().get_yticks()\n",
    "plt.gca().set_yticklabels(['${:,.0f}'.format(x) for x in current_values])\n",
    "\n",
    "# Remove legend\n",
    "plt.gca().get_legend().remove()\n",
    "\n",
    "# Save the figure:\n",
    "plt.savefig('output_data/Average Price by Bathrooms Bar Graph.png')\n",
    "\n",
    "plt.show()"
   ]
  },
  {
   "cell_type": "markdown",
   "id": "0889e1b9",
   "metadata": {},
   "source": [
    "# 2. What’s the correlation between sqft_living and pricing and do larger sqft_living greater than 6,000 sqft with a waterfront view cost more or less than those without a waterfront view?"
   ]
  },
  {
   "cell_type": "markdown",
   "id": "fadeb751",
   "metadata": {},
   "source": [
    "Scatter plot with linear regression and r-squared value (sqft_living vs. price)"
   ]
  },
  {
   "cell_type": "code",
   "execution_count": null,
   "id": "1b822a0c",
   "metadata": {},
   "outputs": [],
   "source": []
  },
  {
   "cell_type": "markdown",
   "id": "37677433",
   "metadata": {},
   "source": [
    "Dataframe for larger sqft_living greater than 6,000 sqft with waterfront view and without waterfront view price columns"
   ]
  },
  {
   "cell_type": "code",
   "execution_count": null,
   "id": "df3deaf9",
   "metadata": {},
   "outputs": [],
   "source": []
  },
  {
   "cell_type": "markdown",
   "id": "763e0cca",
   "metadata": {},
   "source": [
    "Scatter plots with linear regression and r-squared value (larger sqft_living greater than 6,000 sqft with waterfront view and without waterfront view vs. price)"
   ]
  },
  {
   "cell_type": "code",
   "execution_count": null,
   "id": "9ad1dc21",
   "metadata": {},
   "outputs": [],
   "source": []
  },
  {
   "cell_type": "markdown",
   "id": "531da404",
   "metadata": {},
   "source": [
    "# 3. Are house sale prices higher in higher income neighborhoods?"
   ]
  },
  {
   "cell_type": "markdown",
   "id": "3d1a8f84",
   "metadata": {},
   "source": [
    "Scatter plot with linear regression and r-squared value (zipcode vs. price) "
   ]
  },
  {
   "cell_type": "code",
   "execution_count": null,
   "id": "78e8acec",
   "metadata": {},
   "outputs": [],
   "source": []
  },
  {
   "cell_type": "markdown",
   "id": "06f18810",
   "metadata": {},
   "source": [
    "Dataframe for 10 most expensive houses by neighborhood zipcode include lat, lng, House ID, Price, and zipcode columns"
   ]
  },
  {
   "cell_type": "code",
   "execution_count": null,
   "id": "b621bfb5",
   "metadata": {},
   "outputs": [],
   "source": []
  },
  {
   "cell_type": "markdown",
   "id": "ccde8762",
   "metadata": {},
   "source": [
    "Plot markers for top 10 most expensive houses by neighborhood zipcode or lat and lng on a map with pins containing House ID, Price, and zipcode"
   ]
  },
  {
   "cell_type": "code",
   "execution_count": null,
   "id": "84e69a63",
   "metadata": {},
   "outputs": [],
   "source": []
  },
  {
   "cell_type": "markdown",
   "id": "1e086c57",
   "metadata": {},
   "source": [
    "# 4. Do houses with a waterfront view or without a waterfront view have more price outliers?"
   ]
  },
  {
   "cell_type": "markdown",
   "id": "43aec1d7",
   "metadata": {},
   "source": [
    "Waterfront vs. Non_waterfront house prices analysis using pie and bar chart "
   ]
  },
  {
   "cell_type": "code",
   "execution_count": null,
   "id": "7bf93ecb",
   "metadata": {},
   "outputs": [],
   "source": [
    "# Non_waterfront only\n",
    "non_wf=house_data_df.loc[house_data_df[\"waterfront\"]==0]\n",
    "non_wf\n",
    "non_wf.count()[\"id\"]\n"
   ]
  },
  {
   "cell_type": "code",
   "execution_count": null,
   "id": "bd5b3925",
   "metadata": {
    "scrolled": true
   },
   "outputs": [],
   "source": [
    "# waterfront properties only\n",
    "wf=house_data_df.loc[house_data_df[\"waterfront\"]==1]\n",
    "wf\n",
    "wf.count()[\"id\"]"
   ]
  },
  {
   "cell_type": "markdown",
   "id": "17f20a7a",
   "metadata": {},
   "source": [
    "Pie chart to show waterfront vs non-waterfront properties"
   ]
  },
  {
   "cell_type": "code",
   "execution_count": null,
   "id": "33843baf",
   "metadata": {},
   "outputs": [],
   "source": [
    "labels = [\"Waterfront\", \"Non-waterfront\"]\n",
    "\n",
    "# The values of each section of the pie chart - from waterfront and non waterfront properties count\n",
    "sizes = [163, 21450]\n",
    "\n",
    "# The colors of each section of the pie chart\n",
    "colors = [\"red\", \"lightblue\"]\n",
    "\n",
    "\n",
    "explode = (0.5, 0)\n",
    "\n",
    "plt.pie(sizes, explode=explode, labels=labels, colors=colors,\n",
    "        autopct=\"%1.1f%%\", shadow=True, startangle=150)\n",
    "plt.savefig('output_data/ waterfront vs nonwaterfront piechart.png')\n",
    "plt.show()"
   ]
  },
  {
   "cell_type": "code",
   "execution_count": null,
   "id": "94e0caad",
   "metadata": {
    "scrolled": true
   },
   "outputs": [],
   "source": [
    "bins = [0,1000,2000,3000,4000,5000,6000,7000]\n",
    "group_label=[\"<1000\", \"1000-2000\", \"2000-3000\", \"3000-4000\",\"4000-5000\",\"5000-6000\",\">6000\"]\n",
    "pd.cut(wf[\"sqft_living\"], bins, labels=group_label).head()"
   ]
  },
  {
   "cell_type": "code",
   "execution_count": null,
   "id": "c514d851",
   "metadata": {},
   "outputs": [],
   "source": [
    "wf[\"living_sqft_range\"]=pd.cut(wf[\"sqft_living\"], bins, labels=group_label)\n",
    "wfrange=wf.groupby([\"living_sqft_range\"])\n",
    "wfrange_df=wfrange['price','bedrooms','bathrooms'].median()\n",
    "print(wfrange_df)"
   ]
  },
  {
   "cell_type": "code",
   "execution_count": null,
   "id": "cf9bb125",
   "metadata": {},
   "outputs": [],
   "source": [
    "bins = [0,1000,2000,3000,4000,5000,6000,7000]\n",
    "group_label=[\"<1000\", \"1000-2000\", \"2000-3000\", \"3000-4000\",\"4000-5000\",\"5000-6000\",\">6000\"]\n",
    "pd.cut(non_wf[\"sqft_living\"], bins, labels=group_label).head()"
   ]
  },
  {
   "cell_type": "code",
   "execution_count": null,
   "id": "f46a0602",
   "metadata": {},
   "outputs": [],
   "source": [
    "non_wf[\"living_sqft_range\"]=pd.cut(non_wf[\"sqft_living\"], bins, labels=group_label)\n",
    "non_wfrange=non_wf.groupby([\"living_sqft_range\"])\n",
    "non_wfrange_df=non_wfrange['price','bedrooms','bathrooms'].median()\n",
    "print(non_wfrange_df)"
   ]
  },
  {
   "cell_type": "code",
   "execution_count": null,
   "id": "44786ac4",
   "metadata": {},
   "outputs": [],
   "source": [
    "wf_vs_non=pd.merge(wfrange_df,non_wfrange_df, how=\"left\", on = [\"living_sqft_range\"])\n",
    "\n",
    "wfnon_df = wf_vs_non.rename(columns={\"price_x\":\"price_wf\",\n",
    "                                    \"bedrooms_x\":\"bedrooms_wf\",\n",
    "                                    \"bathrooms_x\":\"bathrooms_wf\",\n",
    "                                    \"price_y\":\"price_nonwf\",\n",
    "                                    \"bedrooms_y\":\"bedrooms_nonwf\",\n",
    "                                    \"bathrooms_y\": \"bathrooms_nonwf\"})\n",
    "\n",
    "wfnon_df"
   ]
  },
  {
   "cell_type": "code",
   "execution_count": null,
   "id": "d62ef569",
   "metadata": {
    "scrolled": true
   },
   "outputs": [],
   "source": [
    "wfnon_df=wfnon_df.reset_index(level=0)"
   ]
  },
  {
   "cell_type": "code",
   "execution_count": null,
   "id": "c40e0a8a",
   "metadata": {},
   "outputs": [],
   "source": [
    "wfnon_df"
   ]
  },
  {
   "cell_type": "code",
   "execution_count": null,
   "id": "37956264",
   "metadata": {},
   "outputs": [],
   "source": [
    "pandas_bar=wfnon_df\n",
    "pandas_bar.plot(kind=\"bar\",x=\"living_sqft_range\", y=[\"price_wf\",\"price_nonwf\"],rot=45)\n",
    "\n",
    "plt.xlabel(\"Living Sqft Range\")\n",
    "plt.ylabel(\"Prices (Millions)\")\n",
    "plt.title(\"Waterfront vs. Non-Waterfront\")\n",
    "plt.savefig('output_data/ waterfront vs nonwf price barchart.png')\n",
    "plt.show()"
   ]
  },
  {
   "cell_type": "markdown",
   "id": "703a27d6",
   "metadata": {},
   "source": [
    "Scatter plot with linear regression and r-squared value (waterfront bedrooms vs. price) "
   ]
  },
  {
   "cell_type": "code",
   "execution_count": null,
   "id": "bb5fe622",
   "metadata": {},
   "outputs": [],
   "source": [
    "# Build scatter plot for each data type:\n",
    "plt.figure(figsize=(9,6))\n",
    "x_values = wf['bedrooms']\n",
    "y_values = wf['price']\n",
    "\n",
    "# Perform a linear regression \n",
    "(slope, intercept, rvalue, pvalue, stderr) = linregress(x_values, y_values)\n",
    "\n",
    "# Get regression values:\n",
    "regress_values = x_values * slope + intercept\n",
    "\n",
    "# Create line equation string:\n",
    "line_eq = 'y = ' + str(round(slope,2)) + 'x + ' + str(round(intercept,2))\n",
    "\n",
    "# Create plot:\n",
    "plt.scatter(x_values,y_values, marker='o', color='royalblue', s=[70], edgecolors='black')\n",
    "plt.plot(x_values,regress_values,'darkred', linewidth=2)\n",
    "\n",
    "# Incorporate the other graph properties:\n",
    "plt.title('Waterfront bedrooms vs. prices', fontsize=20)\n",
    "plt.ylabel('price (in millions)', fontsize=16, color='black')\n",
    "plt.xlabel('bedrooms', fontsize=16, color='black')\n",
    "plt.annotate(line_eq,(3,4000000), fontsize=18, color='darkred')\n",
    "#plt.grid(False)\n",
    "\n",
    "\n",
    "# Print r-squared value:\n",
    "print(f'The r-squared is: {rvalue}')\n",
    "\n",
    "# Save the figure:\n",
    "plt.savefig('output_data/Waterfront Bedrooms vs. Price.png')\n",
    "\n",
    "# Show plot:\n",
    "plt.show()"
   ]
  },
  {
   "cell_type": "code",
   "execution_count": null,
   "id": "0819b40b",
   "metadata": {},
   "outputs": [],
   "source": []
  },
  {
   "cell_type": "markdown",
   "id": "a3875732",
   "metadata": {},
   "source": [
    "Boxplot (waterfront & price)"
   ]
  },
  {
   "cell_type": "code",
   "execution_count": null,
   "id": "8c22117b",
   "metadata": {},
   "outputs": [],
   "source": [
    "view_df=wf[[\"price\"]]\n",
    "\n",
    "flierprops = dict(marker='o', markerfacecolor='r', markersize=8, markeredgecolor='black')\n",
    "\n",
    "view_df.boxplot(flierprops=flierprops)\n",
    "plt.ylabel(\"Price (in Millions)\")\n",
    "\n",
    "plt.xticks([1],['waterfront'])\n",
    "plt.ylim([0,6000000])\n",
    "plt.savefig('output_data/ Waterfront vs. Price boxplot.png')\n",
    "plt.show()"
   ]
  },
  {
   "cell_type": "markdown",
   "id": "e23b6af2",
   "metadata": {},
   "source": [
    "# 5. Do newly built homes cost more than older built homes and where/ which zipcodes are the majority of the newly built homes located at?"
   ]
  },
  {
   "cell_type": "markdown",
   "id": "d52ce7e8",
   "metadata": {},
   "source": [
    "Scatter plot with linear regression and r-squared value (yr_built vs. price) "
   ]
  },
  {
   "cell_type": "code",
   "execution_count": null,
   "id": "f03e662d",
   "metadata": {},
   "outputs": [],
   "source": []
  },
  {
   "cell_type": "markdown",
   "id": "f94bc760",
   "metadata": {},
   "source": [
    "Dataframe for top 6 most newly built houses include lat, lng, House ID, Price, and yr_built columns"
   ]
  },
  {
   "cell_type": "code",
   "execution_count": null,
   "id": "40b4833e",
   "metadata": {},
   "outputs": [],
   "source": []
  },
  {
   "cell_type": "markdown",
   "id": "d4a26b2d",
   "metadata": {},
   "source": [
    "Plot markers for the top 6 most newly built houses using lat and lng on a map with pins containing House ID, Price, and yr_built"
   ]
  },
  {
   "cell_type": "code",
   "execution_count": null,
   "id": "10828cc6",
   "metadata": {},
   "outputs": [],
   "source": []
  }
 ],
 "metadata": {
  "kernelspec": {
   "display_name": "Python [conda env:PythonData38] *",
   "language": "python",
   "name": "conda-env-PythonData38-py"
  },
  "language_info": {
   "codemirror_mode": {
    "name": "ipython",
    "version": 3
   },
   "file_extension": ".py",
   "mimetype": "text/x-python",
   "name": "python",
   "nbconvert_exporter": "python",
   "pygments_lexer": "ipython3",
   "version": "3.8.12"
  }
 },
 "nbformat": 4,
 "nbformat_minor": 5
}
