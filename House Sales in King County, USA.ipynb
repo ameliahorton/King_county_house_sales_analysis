{
 "cells": [
  {
   "cell_type": "markdown",
   "id": "baf63946",
   "metadata": {},
   "source": [
    "# House Sales in King County, USA\n",
    "----"
   ]
  },
  {
   "cell_type": "markdown",
   "id": "e180c3e7",
   "metadata": {},
   "source": [
    "This dataset contains house sale prices for King County, which includes Seattle. It includes homes sold between May 2014 and May 2015.\n",
    "\n",
    "**id** :a notation for a house\n",
    "\n",
    "**date**: Date house was sold\n",
    "\n",
    "**price**: Price is prediction target\n",
    "\n",
    "**bedrooms**: Number of Bedrooms/House\n",
    "\n",
    "**bathrooms**: Number of bathrooms/bedrooms\n",
    "\n",
    "**sqft_living**: square footage of the home\n",
    "\n",
    "**sqft_lot**: square footage of the lot\n",
    "\n",
    "**floors** :Total floors (levels) in house\n",
    "\n",
    "**waterfront** :House which has a view to a waterfront\n",
    "\n",
    "**view**: Has been viewed\n",
    "\n",
    "**condition** :How good the condition is Overall\n",
    "\n",
    "**grade**: overall grade given to the housing unit, based on King County grading system\n",
    "\n",
    "**sqft_above** :square footage of house apart from basement\n",
    "\n",
    "**sqft_basement**: square footage of the basement\n",
    "\n",
    "**yr_built** :Built Year\n",
    "\n",
    "**yr_renovated** :Year when house was renovated\n",
    "\n",
    "**zipcode**:zip code\n",
    "\n",
    "**lat**: Latitude coordinate\n",
    "\n",
    "**long**: Longitude coordinate\n",
    "\n",
    "**sqft_living15** :Living room area in 2015(implies-- some renovations) This might or might not have affected the lotsize area\n",
    "\n",
    "**sqft_lot15** :lotSize area in 2015(implies-- some renovations)"
   ]
  },
  {
   "cell_type": "code",
   "execution_count": 1,
   "id": "956dd1cf",
   "metadata": {},
   "outputs": [],
   "source": [
    "# Dependencies and Setup\n",
    "import pandas as pd\n",
    "import matplotlib.pyplot as plt\n",
    "import numpy as np\n",
    "from scipy.stats import linregress\n",
    "import gmaps\n",
    "import os"
   ]
  },
  {
   "cell_type": "markdown",
   "id": "676fb051",
   "metadata": {},
   "source": [
    "# Importing Data\n",
    "\n",
    "- Load and read csv file"
   ]
  },
  {
   "cell_type": "code",
   "execution_count": 2,
   "id": "6ce9af05",
   "metadata": {
    "scrolled": true
   },
   "outputs": [
    {
     "data": {
      "text/html": [
       "<div>\n",
       "<style scoped>\n",
       "    .dataframe tbody tr th:only-of-type {\n",
       "        vertical-align: middle;\n",
       "    }\n",
       "\n",
       "    .dataframe tbody tr th {\n",
       "        vertical-align: top;\n",
       "    }\n",
       "\n",
       "    .dataframe thead th {\n",
       "        text-align: right;\n",
       "    }\n",
       "</style>\n",
       "<table border=\"1\" class=\"dataframe\">\n",
       "  <thead>\n",
       "    <tr style=\"text-align: right;\">\n",
       "      <th></th>\n",
       "      <th>id</th>\n",
       "      <th>date</th>\n",
       "      <th>price</th>\n",
       "      <th>bedrooms</th>\n",
       "      <th>bathrooms</th>\n",
       "      <th>sqft_living</th>\n",
       "      <th>sqft_lot</th>\n",
       "      <th>floors</th>\n",
       "      <th>waterfront</th>\n",
       "      <th>view</th>\n",
       "      <th>...</th>\n",
       "      <th>grade</th>\n",
       "      <th>sqft_above</th>\n",
       "      <th>sqft_basement</th>\n",
       "      <th>yr_built</th>\n",
       "      <th>yr_renovated</th>\n",
       "      <th>zipcode</th>\n",
       "      <th>lat</th>\n",
       "      <th>long</th>\n",
       "      <th>sqft_living15</th>\n",
       "      <th>sqft_lot15</th>\n",
       "    </tr>\n",
       "  </thead>\n",
       "  <tbody>\n",
       "    <tr>\n",
       "      <th>0</th>\n",
       "      <td>7129300520</td>\n",
       "      <td>20141013T000000</td>\n",
       "      <td>221900.0</td>\n",
       "      <td>3</td>\n",
       "      <td>1.00</td>\n",
       "      <td>1180</td>\n",
       "      <td>5650</td>\n",
       "      <td>1.0</td>\n",
       "      <td>0</td>\n",
       "      <td>0</td>\n",
       "      <td>...</td>\n",
       "      <td>7</td>\n",
       "      <td>1180</td>\n",
       "      <td>0</td>\n",
       "      <td>1955</td>\n",
       "      <td>0</td>\n",
       "      <td>98178</td>\n",
       "      <td>47.5112</td>\n",
       "      <td>-122.257</td>\n",
       "      <td>1340</td>\n",
       "      <td>5650</td>\n",
       "    </tr>\n",
       "    <tr>\n",
       "      <th>1</th>\n",
       "      <td>6414100192</td>\n",
       "      <td>20141209T000000</td>\n",
       "      <td>538000.0</td>\n",
       "      <td>3</td>\n",
       "      <td>2.25</td>\n",
       "      <td>2570</td>\n",
       "      <td>7242</td>\n",
       "      <td>2.0</td>\n",
       "      <td>0</td>\n",
       "      <td>0</td>\n",
       "      <td>...</td>\n",
       "      <td>7</td>\n",
       "      <td>2170</td>\n",
       "      <td>400</td>\n",
       "      <td>1951</td>\n",
       "      <td>1991</td>\n",
       "      <td>98125</td>\n",
       "      <td>47.7210</td>\n",
       "      <td>-122.319</td>\n",
       "      <td>1690</td>\n",
       "      <td>7639</td>\n",
       "    </tr>\n",
       "    <tr>\n",
       "      <th>2</th>\n",
       "      <td>5631500400</td>\n",
       "      <td>20150225T000000</td>\n",
       "      <td>180000.0</td>\n",
       "      <td>2</td>\n",
       "      <td>1.00</td>\n",
       "      <td>770</td>\n",
       "      <td>10000</td>\n",
       "      <td>1.0</td>\n",
       "      <td>0</td>\n",
       "      <td>0</td>\n",
       "      <td>...</td>\n",
       "      <td>6</td>\n",
       "      <td>770</td>\n",
       "      <td>0</td>\n",
       "      <td>1933</td>\n",
       "      <td>0</td>\n",
       "      <td>98028</td>\n",
       "      <td>47.7379</td>\n",
       "      <td>-122.233</td>\n",
       "      <td>2720</td>\n",
       "      <td>8062</td>\n",
       "    </tr>\n",
       "    <tr>\n",
       "      <th>3</th>\n",
       "      <td>2487200875</td>\n",
       "      <td>20141209T000000</td>\n",
       "      <td>604000.0</td>\n",
       "      <td>4</td>\n",
       "      <td>3.00</td>\n",
       "      <td>1960</td>\n",
       "      <td>5000</td>\n",
       "      <td>1.0</td>\n",
       "      <td>0</td>\n",
       "      <td>0</td>\n",
       "      <td>...</td>\n",
       "      <td>7</td>\n",
       "      <td>1050</td>\n",
       "      <td>910</td>\n",
       "      <td>1965</td>\n",
       "      <td>0</td>\n",
       "      <td>98136</td>\n",
       "      <td>47.5208</td>\n",
       "      <td>-122.393</td>\n",
       "      <td>1360</td>\n",
       "      <td>5000</td>\n",
       "    </tr>\n",
       "    <tr>\n",
       "      <th>4</th>\n",
       "      <td>1954400510</td>\n",
       "      <td>20150218T000000</td>\n",
       "      <td>510000.0</td>\n",
       "      <td>3</td>\n",
       "      <td>2.00</td>\n",
       "      <td>1680</td>\n",
       "      <td>8080</td>\n",
       "      <td>1.0</td>\n",
       "      <td>0</td>\n",
       "      <td>0</td>\n",
       "      <td>...</td>\n",
       "      <td>8</td>\n",
       "      <td>1680</td>\n",
       "      <td>0</td>\n",
       "      <td>1987</td>\n",
       "      <td>0</td>\n",
       "      <td>98074</td>\n",
       "      <td>47.6168</td>\n",
       "      <td>-122.045</td>\n",
       "      <td>1800</td>\n",
       "      <td>7503</td>\n",
       "    </tr>\n",
       "  </tbody>\n",
       "</table>\n",
       "<p>5 rows × 21 columns</p>\n",
       "</div>"
      ],
      "text/plain": [
       "           id             date     price  bedrooms  bathrooms  sqft_living  \\\n",
       "0  7129300520  20141013T000000  221900.0         3       1.00         1180   \n",
       "1  6414100192  20141209T000000  538000.0         3       2.25         2570   \n",
       "2  5631500400  20150225T000000  180000.0         2       1.00          770   \n",
       "3  2487200875  20141209T000000  604000.0         4       3.00         1960   \n",
       "4  1954400510  20150218T000000  510000.0         3       2.00         1680   \n",
       "\n",
       "   sqft_lot  floors  waterfront  view  ...  grade  sqft_above  sqft_basement  \\\n",
       "0      5650     1.0           0     0  ...      7        1180              0   \n",
       "1      7242     2.0           0     0  ...      7        2170            400   \n",
       "2     10000     1.0           0     0  ...      6         770              0   \n",
       "3      5000     1.0           0     0  ...      7        1050            910   \n",
       "4      8080     1.0           0     0  ...      8        1680              0   \n",
       "\n",
       "   yr_built  yr_renovated  zipcode      lat     long  sqft_living15  \\\n",
       "0      1955             0    98178  47.5112 -122.257           1340   \n",
       "1      1951          1991    98125  47.7210 -122.319           1690   \n",
       "2      1933             0    98028  47.7379 -122.233           2720   \n",
       "3      1965             0    98136  47.5208 -122.393           1360   \n",
       "4      1987             0    98074  47.6168 -122.045           1800   \n",
       "\n",
       "   sqft_lot15  \n",
       "0        5650  \n",
       "1        7639  \n",
       "2        8062  \n",
       "3        5000  \n",
       "4        7503  \n",
       "\n",
       "[5 rows x 21 columns]"
      ]
     },
     "execution_count": 2,
     "metadata": {},
     "output_type": "execute_result"
    }
   ],
   "source": [
    "# File to Load:\n",
    "file_to_load='kc_house_data.csv' \n",
    "\n",
    "# Read kc_house_data csv file and store into data frame:\n",
    "kc_house_data_df=pd.read_csv(file_to_load)\n",
    "kc_house_data_df.head()"
   ]
  },
  {
   "cell_type": "markdown",
   "id": "b612a1c5",
   "metadata": {},
   "source": [
    "# Slicing Data\n",
    "- Only display in dataframe columns: 'id', 'price', 'bedrooms', 'bathrooms', 'sqft_living', 'waterfront', 'yr_built', 'zipcode', 'lat', 'long'"
   ]
  },
  {
   "cell_type": "code",
   "execution_count": 3,
   "id": "e3ce560f",
   "metadata": {},
   "outputs": [
    {
     "data": {
      "text/html": [
       "<div>\n",
       "<style scoped>\n",
       "    .dataframe tbody tr th:only-of-type {\n",
       "        vertical-align: middle;\n",
       "    }\n",
       "\n",
       "    .dataframe tbody tr th {\n",
       "        vertical-align: top;\n",
       "    }\n",
       "\n",
       "    .dataframe thead th {\n",
       "        text-align: right;\n",
       "    }\n",
       "</style>\n",
       "<table border=\"1\" class=\"dataframe\">\n",
       "  <thead>\n",
       "    <tr style=\"text-align: right;\">\n",
       "      <th></th>\n",
       "      <th>id</th>\n",
       "      <th>price</th>\n",
       "      <th>bedrooms</th>\n",
       "      <th>bathrooms</th>\n",
       "      <th>sqft_living</th>\n",
       "      <th>waterfront</th>\n",
       "      <th>yr_built</th>\n",
       "      <th>zipcode</th>\n",
       "      <th>lat</th>\n",
       "      <th>long</th>\n",
       "    </tr>\n",
       "  </thead>\n",
       "  <tbody>\n",
       "    <tr>\n",
       "      <th>0</th>\n",
       "      <td>7129300520</td>\n",
       "      <td>221900.0</td>\n",
       "      <td>3</td>\n",
       "      <td>1.00</td>\n",
       "      <td>1180</td>\n",
       "      <td>0</td>\n",
       "      <td>1955</td>\n",
       "      <td>98178</td>\n",
       "      <td>47.5112</td>\n",
       "      <td>-122.257</td>\n",
       "    </tr>\n",
       "    <tr>\n",
       "      <th>1</th>\n",
       "      <td>6414100192</td>\n",
       "      <td>538000.0</td>\n",
       "      <td>3</td>\n",
       "      <td>2.25</td>\n",
       "      <td>2570</td>\n",
       "      <td>0</td>\n",
       "      <td>1951</td>\n",
       "      <td>98125</td>\n",
       "      <td>47.7210</td>\n",
       "      <td>-122.319</td>\n",
       "    </tr>\n",
       "    <tr>\n",
       "      <th>2</th>\n",
       "      <td>5631500400</td>\n",
       "      <td>180000.0</td>\n",
       "      <td>2</td>\n",
       "      <td>1.00</td>\n",
       "      <td>770</td>\n",
       "      <td>0</td>\n",
       "      <td>1933</td>\n",
       "      <td>98028</td>\n",
       "      <td>47.7379</td>\n",
       "      <td>-122.233</td>\n",
       "    </tr>\n",
       "    <tr>\n",
       "      <th>3</th>\n",
       "      <td>2487200875</td>\n",
       "      <td>604000.0</td>\n",
       "      <td>4</td>\n",
       "      <td>3.00</td>\n",
       "      <td>1960</td>\n",
       "      <td>0</td>\n",
       "      <td>1965</td>\n",
       "      <td>98136</td>\n",
       "      <td>47.5208</td>\n",
       "      <td>-122.393</td>\n",
       "    </tr>\n",
       "    <tr>\n",
       "      <th>4</th>\n",
       "      <td>1954400510</td>\n",
       "      <td>510000.0</td>\n",
       "      <td>3</td>\n",
       "      <td>2.00</td>\n",
       "      <td>1680</td>\n",
       "      <td>0</td>\n",
       "      <td>1987</td>\n",
       "      <td>98074</td>\n",
       "      <td>47.6168</td>\n",
       "      <td>-122.045</td>\n",
       "    </tr>\n",
       "  </tbody>\n",
       "</table>\n",
       "</div>"
      ],
      "text/plain": [
       "           id     price  bedrooms  bathrooms  sqft_living  waterfront  \\\n",
       "0  7129300520  221900.0         3       1.00         1180           0   \n",
       "1  6414100192  538000.0         3       2.25         2570           0   \n",
       "2  5631500400  180000.0         2       1.00          770           0   \n",
       "3  2487200875  604000.0         4       3.00         1960           0   \n",
       "4  1954400510  510000.0         3       2.00         1680           0   \n",
       "\n",
       "   yr_built  zipcode      lat     long  \n",
       "0      1955    98178  47.5112 -122.257  \n",
       "1      1951    98125  47.7210 -122.319  \n",
       "2      1933    98028  47.7379 -122.233  \n",
       "3      1965    98136  47.5208 -122.393  \n",
       "4      1987    98074  47.6168 -122.045  "
      ]
     },
     "execution_count": 3,
     "metadata": {},
     "output_type": "execute_result"
    }
   ],
   "source": [
    "# Columns to display\n",
    "house_data_df = kc_house_data_df[['id', 'price', 'bedrooms', 'bathrooms', 'sqft_living', \n",
    "                                  'waterfront', 'yr_built', 'zipcode', 'lat', 'long']]\n",
    "\n",
    "# Formatting\n",
    "#house_data_df.style.format({\"price\": \"${:,.2f}\", \"bathrooms\":\"{:.2f}\"})\n",
    "\n",
    "house_data_df.head()\n",
    "\n"
   ]
  },
  {
   "cell_type": "markdown",
   "id": "28562f78",
   "metadata": {},
   "source": [
    "# Statiscal Summary\n",
    "- Obtain statiscal summary of dataframe"
   ]
  },
  {
   "cell_type": "code",
   "execution_count": null,
   "id": "abfdc8fe",
   "metadata": {},
   "outputs": [],
   "source": [
    "house_data_df.describe()"
   ]
  },
  {
   "cell_type": "code",
   "execution_count": null,
   "id": "7075823a",
   "metadata": {
    "scrolled": true
   },
   "outputs": [],
   "source": [
    "house_data_df.dtypes"
   ]
  },
  {
   "cell_type": "markdown",
   "id": "086e2a65",
   "metadata": {},
   "source": [
    "# 1. What’s the average amount of bedrooms and bathrooms in a house and is the price higher when the house has more bedrooms or bathrooms?"
   ]
  },
  {
   "cell_type": "code",
   "execution_count": null,
   "id": "f6f91b56",
   "metadata": {},
   "outputs": [],
   "source": [
    "# Calculate average amount of bedrooms\n",
    "avg_bedroom = house_data_df['bedrooms'].mean()\n",
    "print(f\" The average amount of bedrooms in a house is {round(avg_bedroom,0)}\")\n",
    "\n",
    "\n",
    "# Calculate average amount of bathrooms\n",
    "avg_bathroom = house_data_df['bathrooms'].mean()\n",
    "print(f\" The average amount of bathrooms in a house is {round(avg_bathroom,2)}\")"
   ]
  },
  {
   "cell_type": "markdown",
   "id": "936e0e16",
   "metadata": {},
   "source": [
    "Scatter plots with linear regression and r-squared value (bedrooms vs. price and bathrooms vs. price) "
   ]
  },
  {
   "cell_type": "code",
   "execution_count": null,
   "id": "cbc5c2e3",
   "metadata": {
    "scrolled": true
   },
   "outputs": [],
   "source": [
    "# Build scatter plot for each data type:\n",
    "plt.figure(figsize=(9,6))\n",
    "x_values = house_data_df['bedrooms']\n",
    "y_values = house_data_df['price']\n",
    "\n",
    "# Perform a linear regression on wind speed vs. latitude:\n",
    "(slope, intercept, rvalue, pvalue, stderr) = linregress(x_values, y_values)\n",
    "\n",
    "# Get regression values:\n",
    "regress_values = x_values * slope + intercept\n",
    "\n",
    "# Create line equation string:\n",
    "line_eq = 'y = ' + str(round(slope,2)) + 'x + ' + str(round(intercept,2))\n",
    "\n",
    "# Create plot:\n",
    "plt.scatter(x_values,y_values, marker='o', color='royalblue', s=[70], edgecolors='black')\n",
    "plt.plot(x_values,regress_values,'darkred', linewidth=2)\n",
    "\n",
    "# Incorporate the other graph properties:\n",
    "plt.title('bedrooms vs. price', fontsize=20)\n",
    "plt.ylabel('price', fontsize=16, color='black')\n",
    "plt.xlabel('bedrooms', fontsize=16, color='black')\n",
    "plt.annotate(line_eq,(15,8.000000e+04), fontsize=18, color='darkred')\n",
    "plt.ticklabel_format(style='plain')\n",
    "#plt.grid(False)\n",
    "    \n",
    "# Format the labels on y-axis with dollar sign\n",
    "current_values = plt.gca().get_yticks()\n",
    "plt.gca().set_yticklabels(['${:,.0f}'.format(x) for x in current_values])\n",
    "\n",
    "\n",
    "# Print r-squared value:\n",
    "print(f'The r-squared is: {rvalue}')\n",
    "\n",
    "# Save the figure:\n",
    "# plt.savefig('output_data/Bedrooms vs. Price.png')\n",
    "\n",
    "# Show plot:\n",
    "plt.show()"
   ]
  },
  {
   "cell_type": "code",
   "execution_count": null,
   "id": "6aedc16c",
   "metadata": {
    "scrolled": true
   },
   "outputs": [],
   "source": [
    "# Amount of Bedrooms Histogram\n",
    "house_data_df[\"bedrooms\"].hist(bins=25)\n",
    "plt.ylabel('count', fontsize=12, color='black')\n",
    "plt.xlabel('bedrooms', fontsize=12, color='black')\n",
    "plt.title(\"Amount of Bedrooms\")\n",
    "\n",
    "# Save the figure:\n",
    "plt.savefig('output_data/Amount of Bedrooms Histogram.png')\n",
    "\n",
    "plt.show()"
   ]
  },
  {
   "cell_type": "code",
   "execution_count": null,
   "id": "d727f8f6",
   "metadata": {
    "scrolled": false
   },
   "outputs": [],
   "source": [
    "# house_data_df with only price and bedrooms columns\n",
    "house_data_df[[\"price\", \"bedrooms\"]]\n",
    "\n",
    "# Find the average price by amount of bedrooms\n",
    "bedroom_mean = house_data_df.groupby('bedrooms').mean()[\"price\"]\n",
    "#bedroom_mean\n",
    "\n",
    "# Change series to dataframe\n",
    "bedroom_df = bedroom_mean.to_frame(name='price')\n",
    "\n",
    "# Formatting\n",
    "#bedroom_df.style.format({\"price\": \"${:,.2f}\"})\n",
    "\n",
    "bedroom_df"
   ]
  },
  {
   "cell_type": "code",
   "execution_count": null,
   "id": "f3e5aa8d",
   "metadata": {},
   "outputs": [],
   "source": [
    "# Average Price by Bedrooms Bar Graph\n",
    "bedroom_df.plot.bar(rot=360)\n",
    "plt.gcf().axes[0].yaxis.get_major_formatter().set_scientific(False)\n",
    "#plt.xlim([-0.5, 10.5])\n",
    "plt.ylabel('average price', fontsize=12, color='black')\n",
    "plt.xlabel('bedrooms', fontsize=12, color='black')\n",
    "plt.title(\"Average Price by Bedrooms\")\n",
    "plt.grid()\n",
    "\n",
    "# Format the labels on y-axis to currency\n",
    "current_values = plt.gca().get_yticks()\n",
    "plt.gca().set_yticklabels(['${:,.0f}'.format(x) for x in current_values])\n",
    "\n",
    "# Remove legend\n",
    "plt.gca().get_legend().remove()\n",
    "\n",
    "# Save the figure:\n",
    "plt.savefig('output_data/Average Price by Bedrooms Bar Graph.png')\n",
    "\n",
    "plt.show()"
   ]
  },
  {
   "cell_type": "code",
   "execution_count": null,
   "id": "687cc3fd",
   "metadata": {
    "scrolled": true
   },
   "outputs": [],
   "source": [
    "# Build scatter plot for each data type:\n",
    "plt.figure(figsize=(9,6))\n",
    "x_values = house_data_df['bathrooms']\n",
    "y_values = house_data_df['price']\n",
    "\n",
    "# Perform a linear regression on wind speed vs. latitude:\n",
    "(slope, intercept, rvalue, pvalue, stderr) = linregress(x_values, y_values)\n",
    "\n",
    "# Get regression values:\n",
    "regress_values = x_values * slope + intercept\n",
    "\n",
    "# Create line equation string:\n",
    "line_eq = 'y = ' + str(round(slope,2)) + 'x + ' + str(round(intercept,2))\n",
    "\n",
    "# Create plot:\n",
    "plt.scatter(x_values,y_values, marker='o', color='royalblue', s=[70], edgecolors='black')\n",
    "plt.plot(x_values,regress_values,'darkred', linewidth=2)\n",
    "\n",
    "# Incorporate the other graph properties:\n",
    "plt.title('bathrooms vs. price', fontsize=20)\n",
    "plt.ylabel('price', fontsize=16, color='black')\n",
    "plt.xlabel('bathrooms', fontsize=16, color='black')\n",
    "plt.annotate(line_eq,(2,7.000000e+06), fontsize=18, color='darkred')\n",
    "#plt.grid(False)\n",
    "\n",
    "# Format the labels on y-axis with dollar sign\n",
    "current_values = plt.gca().get_yticks()\n",
    "plt.gca().set_yticklabels(['${:,.0f}'.format(x) for x in current_values])\n",
    "\n",
    "# Print r-squared value:\n",
    "print(f'The r-squared is: {rvalue}')\n",
    "\n",
    "# Save the figure:\n",
    "# plt.savefig('output_data/Bathrooms vs. Price.png')\n",
    "\n",
    "# Show plot:\n",
    "plt.show()"
   ]
  },
  {
   "cell_type": "code",
   "execution_count": null,
   "id": "942ceb98",
   "metadata": {},
   "outputs": [],
   "source": [
    "# Amount of Bathrooms Histogram\n",
    "house_data_df[\"bathrooms\"].hist(bins=25)\n",
    "plt.ylabel('count', fontsize=12, color='black')\n",
    "plt.xlabel('bathrooms', fontsize=12, color='black')\n",
    "plt.title(\"Amount of Bathrooms\")\n",
    "\n",
    "# Save the figure:\n",
    "plt.savefig('output_data/Amount of Bathrooms Histogram.png')\n",
    "\n",
    "plt.show()\n"
   ]
  },
  {
   "cell_type": "code",
   "execution_count": null,
   "id": "c4cb209a",
   "metadata": {},
   "outputs": [],
   "source": [
    "# house_data_df with only price and bathrooms columns\n",
    "house_data_df[[\"price\", \"bathrooms\"]]\n",
    "\n",
    "# Find the average price by amount of bathrooms\n",
    "bathroom_mean = house_data_df.groupby('bathrooms').mean()[\"price\"]\n",
    "#bathroom_mean\n",
    "\n",
    "# Change series to dataframe\n",
    "bathroom_df = bathroom_mean.to_frame(name='price')\n",
    "\n",
    "# Formatting\n",
    "#bathroom_df.style.format({\"price\": \"${:,.2f}\"})\n",
    "\n",
    "bathroom_df"
   ]
  },
  {
   "cell_type": "code",
   "execution_count": null,
   "id": "70e5c013",
   "metadata": {},
   "outputs": [],
   "source": [
    "# Average Price by Bathrooms Bar Graph\n",
    "bathroom_df.plot.bar(rot=90)\n",
    "plt.gcf().axes[0].yaxis.get_major_formatter().set_scientific(False)\n",
    "\n",
    "plt.ylabel('average price', fontsize=12, color='black')\n",
    "plt.xlabel('bathrooms', fontsize=12, color='black')\n",
    "plt.title(\"Average Price by Bathrooms\")\n",
    "plt.grid()\n",
    "\n",
    "# Format the labels on y-axis to currency\n",
    "current_values = plt.gca().get_yticks()\n",
    "plt.gca().set_yticklabels(['${:,.0f}'.format(x) for x in current_values])\n",
    "\n",
    "# Remove legend\n",
    "plt.gca().get_legend().remove()\n",
    "\n",
    "# Save the figure:\n",
    "plt.savefig('output_data/Average Price by Bathrooms Bar Graph.png')\n",
    "\n",
    "plt.show()"
   ]
  },
  {
   "cell_type": "markdown",
   "id": "0889e1b9",
   "metadata": {},
   "source": [
    "# 2. What’s the correlation between sqft_living and pricing and do larger sqft_living greater than 6,000 sqft with a waterfront view cost more or less than those without a waterfront view?"
   ]
  },
  {
   "cell_type": "markdown",
   "id": "fadeb751",
   "metadata": {},
   "source": [
    "Scatter plot with linear regression and r-squared value (sqft_living vs. price)"
   ]
  },
  {
   "cell_type": "code",
   "execution_count": null,
   "id": "1b822a0c",
   "metadata": {},
   "outputs": [],
   "source": []
  },
  {
   "cell_type": "markdown",
   "id": "37677433",
   "metadata": {},
   "source": [
    "Dataframe for larger sqft_living greater than 6,000 sqft with waterfront view and without waterfront view price columns"
   ]
  },
  {
   "cell_type": "code",
   "execution_count": null,
   "id": "df3deaf9",
   "metadata": {},
   "outputs": [],
   "source": []
  },
  {
   "cell_type": "markdown",
   "id": "763e0cca",
   "metadata": {},
   "source": [
    "Scatter plots with linear regression and r-squared value (larger sqft_living greater than 6,000 sqft with waterfront view and without waterfront view vs. price)"
   ]
  },
  {
   "cell_type": "code",
   "execution_count": null,
   "id": "9ad1dc21",
   "metadata": {},
   "outputs": [],
   "source": []
  },
  {
   "cell_type": "markdown",
   "id": "531da404",
   "metadata": {},
   "source": [
    "# 3. Are house sale prices higher in higher income neighborhoods?"
   ]
  },
  {
   "cell_type": "markdown",
   "id": "3d1a8f84",
   "metadata": {},
   "source": [
    "Scatter plot with linear regression and r-squared value (zipcode vs. price) "
   ]
  },
  {
   "cell_type": "code",
   "execution_count": null,
   "id": "78e8acec",
   "metadata": {},
   "outputs": [],
   "source": []
  },
  {
   "cell_type": "markdown",
   "id": "06f18810",
   "metadata": {},
   "source": [
    "Dataframe for 10 most expensive houses by neighborhood zipcode include lat, lng, House ID, Price, and zipcode columns"
   ]
  },
  {
   "cell_type": "code",
   "execution_count": null,
   "id": "b621bfb5",
   "metadata": {},
   "outputs": [],
   "source": []
  },
  {
   "cell_type": "markdown",
   "id": "ccde8762",
   "metadata": {},
   "source": [
    "Plot markers for top 10 most expensive houses by neighborhood zipcode or lat and lng on a map with pins containing House ID, Price, and zipcode"
   ]
  },
  {
   "cell_type": "code",
   "execution_count": null,
   "id": "84e69a63",
   "metadata": {},
   "outputs": [],
   "source": []
  },
  {
   "cell_type": "markdown",
   "id": "1e086c57",
   "metadata": {},
   "source": [
    "# 4. Do houses with a waterfront view or without a waterfront view have more price outliers?"
   ]
  },
  {
   "cell_type": "markdown",
   "id": "43aec1d7",
   "metadata": {},
   "source": [
    "Waterfront vs. Non_waterfront house prices analysis using pie and bar chart "
   ]
  },
  {
   "cell_type": "code",
   "execution_count": null,
   "id": "7bf93ecb",
   "metadata": {},
   "outputs": [],
   "source": [
    "# Non_waterfront only\n",
    "non_wf=house_data_df.loc[house_data_df[\"waterfront\"]==0]\n",
    "non_wf.count()[\"id\"]"
   ]
  },
  {
   "cell_type": "code",
   "execution_count": null,
   "id": "bd5b3925",
   "metadata": {
    "scrolled": true
   },
   "outputs": [],
   "source": [
    "# waterfront properties only\n",
    "wf=house_data_df.loc[house_data_df[\"waterfront\"]==1]\n",
    "wf.count()[\"id\"]"
   ]
  },
  {
   "cell_type": "markdown",
   "id": "17f20a7a",
   "metadata": {},
   "source": [
    "Pie chart to show waterfront vs non-waterfront properties"
   ]
  },
  {
   "cell_type": "code",
   "execution_count": null,
   "id": "33843baf",
   "metadata": {},
   "outputs": [],
   "source": [
    "labels = [\"Waterfront\", \"Non-waterfront\"]\n",
    "\n",
    "# The values of each section of the pie chart - from waterfront and non waterfront properties count\n",
    "sizes = [163, 21450]\n",
    "\n",
    "# The colors of each section of the pie chart\n",
    "colors = [\"red\", \"lightblue\"]\n",
    "\n",
    "explode = (0.5, 0)\n",
    "\n",
    "plt.pie(sizes, explode=explode, labels=labels, colors=colors,\n",
    "        autopct=\"%1.1f%%\", shadow=True, startangle=150)\n",
    "plt.savefig('output_data/ waterfront vs nonwaterfront piechart.png')\n",
    "plt.show()"
   ]
  },
  {
   "cell_type": "code",
   "execution_count": null,
   "id": "94e0caad",
   "metadata": {
    "scrolled": true
   },
   "outputs": [],
   "source": [
    "bins = [0,1000,2000,3000,4000,5000,6000,7000]\n",
    "group_label=[\"<1000\", \"1000-2000\", \"2000-3000\", \"3000-4000\",\"4000-5000\",\"5000-6000\",\">6000\"]\n",
    "pd.cut(wf[\"sqft_living\"], bins, labels=group_label).head()"
   ]
  },
  {
   "cell_type": "code",
   "execution_count": null,
   "id": "c514d851",
   "metadata": {},
   "outputs": [],
   "source": [
    "wf[\"living_sqft_range\"]=pd.cut(wf[\"sqft_living\"], bins, labels=group_label)\n",
    "wfrange=wf.groupby([\"living_sqft_range\"])\n",
    "wfrange_df=wfrange['price','bedrooms','bathrooms'].median()\n",
    "print(wfrange_df)"
   ]
  },
  {
   "cell_type": "code",
   "execution_count": null,
   "id": "cf9bb125",
   "metadata": {},
   "outputs": [],
   "source": [
    "bins = [0,1000,2000,3000,4000,5000,6000,7000]\n",
    "group_label=[\"<1000\", \"1000-2000\", \"2000-3000\", \"3000-4000\",\"4000-5000\",\"5000-6000\",\">6000\"]\n",
    "pd.cut(non_wf[\"sqft_living\"], bins, labels=group_label).head()"
   ]
  },
  {
   "cell_type": "code",
   "execution_count": null,
   "id": "f46a0602",
   "metadata": {},
   "outputs": [],
   "source": [
    "non_wf[\"living_sqft_range\"]=pd.cut(non_wf[\"sqft_living\"], bins, labels=group_label)\n",
    "non_wfrange=non_wf.groupby([\"living_sqft_range\"])\n",
    "non_wfrange_df=non_wfrange['price','bedrooms','bathrooms'].median()\n",
    "print(non_wfrange_df)"
   ]
  },
  {
   "cell_type": "code",
   "execution_count": null,
   "id": "44786ac4",
   "metadata": {},
   "outputs": [],
   "source": [
    "wf_vs_non=pd.merge(wfrange_df,non_wfrange_df, how=\"left\", on = [\"living_sqft_range\"])\n",
    "\n",
    "wfnon_df = wf_vs_non.rename(columns={\"price_x\":\"price_wf\",\n",
    "                                    \"bedrooms_x\":\"bedrooms_wf\",\n",
    "                                    \"bathrooms_x\":\"bathrooms_wf\",\n",
    "                                    \"price_y\":\"price_nonwf\",\n",
    "                                    \"bedrooms_y\":\"bedrooms_nonwf\",\n",
    "                                    \"bathrooms_y\": \"bathrooms_nonwf\"})\n",
    "\n",
    "wfnon_df"
   ]
  },
  {
   "cell_type": "code",
   "execution_count": null,
   "id": "d62ef569",
   "metadata": {
    "scrolled": true
   },
   "outputs": [],
   "source": [
    "wfnon_df=wfnon_df.reset_index(level=0)"
   ]
  },
  {
   "cell_type": "code",
   "execution_count": null,
   "id": "c40e0a8a",
   "metadata": {},
   "outputs": [],
   "source": [
    "wfnon_df"
   ]
  },
  {
   "cell_type": "code",
   "execution_count": null,
   "id": "37956264",
   "metadata": {},
   "outputs": [],
   "source": [
    "pandas_bar=wfnon_df\n",
    "pandas_bar.plot(kind=\"bar\",x=\"living_sqft_range\", y=[\"price_wf\",\"price_nonwf\"],rot=45)\n",
    "\n",
    "plt.xlabel(\"Living Sqft Range\")\n",
    "plt.ylabel(\"Prices (Millions)\")\n",
    "plt.title(\"Waterfront vs. Non-Waterfront\")\n",
    "plt.savefig('output_data/ waterfront vs nonwf price barchart.png')\n",
    "plt.show()"
   ]
  },
  {
   "cell_type": "markdown",
   "id": "703a27d6",
   "metadata": {},
   "source": [
    "Scatter plot with linear regression and r-squared value (waterfront bedrooms vs. price) "
   ]
  },
  {
   "cell_type": "code",
   "execution_count": null,
   "id": "bb5fe622",
   "metadata": {},
   "outputs": [],
   "source": [
    "# Build scatter plot for each data type:\n",
    "plt.figure(figsize=(9,6))\n",
    "x_values = wf['bedrooms']\n",
    "y_values = wf['price']\n",
    "\n",
    "x = non_wf[\"bedrooms\"]\n",
    "y = non_wf[\"price\"]\n",
    "\n",
    "# Perform a linear regression \n",
    "# waterfront\n",
    "(slope, intercept, rvalue, pvalue, stderr) = linregress(x_values, y_values)\n",
    "# non-waterfront\n",
    "(slope1, intercept1, rvalue1, pvalue1, stderr1) = linregress(x, y)\n",
    "# Get regression values:\n",
    "regress_values = x_values * slope + intercept\n",
    "regress_values1 = x * slope1 + intercept1\n",
    "\n",
    "# Create line equation string:\n",
    "line_eq = 'y = ' + str(round(slope,2)) + 'x + ' + str(round(intercept,2))\n",
    "\n",
    "\n",
    "# Create plot:\n",
    "# waterfront\n",
    "plt.scatter(x_values,y_values, marker='o', color='red', s=[70], edgecolors='black')\n",
    "plt.plot(x_values,regress_values,'red', linewidth=2)\n",
    "# non-waterfront\n",
    "plt.scatter(x,y, marker='o', color='royalblue', s=[70], edgecolors='black')\n",
    "plt.plot(x,regress_values1,'royalblue', linewidth=2)\n",
    "\n",
    "# Incorporate the other graph properties:\n",
    "plt.title('Bedrooms vs. Prices', fontsize=20)\n",
    "plt.ylabel('price (in millions)', fontsize=16, color='black')\n",
    "plt.ylim([0,5000000])\n",
    "plt.xlim([0,10])\n",
    "plt.xlabel('bedrooms', fontsize=16, color='black')\n",
    "plt.annotate(line_eq,(3,4000000), fontsize=18, color='red')\n",
    "#plt.grid(False)\n",
    "\n",
    "\n",
    "# Print r-squared value:\n",
    "print(f'The r-squared is: {rvalue}')\n",
    "\n",
    "# Save the figure:\n",
    "plt.savefig('output_data/Waterfront Bedrooms vs. Prices.png')\n",
    "\n",
    "# Show plot:\n",
    "plt.show()"
   ]
  },
  {
   "cell_type": "code",
   "execution_count": null,
   "id": "0819b40b",
   "metadata": {},
   "outputs": [],
   "source": []
  },
  {
   "cell_type": "markdown",
   "id": "a3875732",
   "metadata": {},
   "source": [
    "Boxplot (waterfront & price)"
   ]
  },
  {
   "cell_type": "code",
   "execution_count": null,
   "id": "8c22117b",
   "metadata": {},
   "outputs": [],
   "source": [
    "def color_boxplot(data, color, pos=[0], ax=None):\n",
    "    ax = ax or plt.gca()\n",
    "    bp = ax.boxplot(data, patch_artist=True,  showmeans=True, positions=pos)\n",
    "    for item in ['boxes', 'whiskers', 'fliers', 'medians', 'caps']:\n",
    "        plt.setp(bp[item], color=color)\n",
    "        \n",
    "view_df=wf[[\"price\"]]\n",
    "nonview_df=non_wf[[\"price\"]]\n",
    "\n",
    "data1 = view_df\n",
    "data2 = nonview_df\n",
    "fig, ax = plt.subplots()\n",
    "bp1 = color_boxplot(data1, 'red', [1])\n",
    "bp2 = color_boxplot(data2, 'royalblue', [2])\n",
    "ax.autoscale()\n",
    "ax.set(xticks=[1,2], xticklabels=[\"wafterfront\",\"non-waterfront\"])\n",
    "plt.ylabel(\"Price (in Millions)\")\n",
    "plt.ylim([0,5000000])\n",
    "plt.savefig('output_data/ Waterfront(Non-waterfront) vs. Price boxplot.png')\n",
    "plt.show()"
   ]
  },
  {
   "cell_type": "markdown",
   "id": "e23b6af2",
   "metadata": {},
   "source": [
    "# 5. Do newly built homes cost more than older built homes and where/ which zipcodes are the majority of the newly built homes located at?"
   ]
  },
  {
   "cell_type": "markdown",
   "id": "d52ce7e8",
   "metadata": {},
   "source": [
    "### Scatter plot with linear regression and r-squared value (year built vs. price) "
   ]
  },
  {
   "cell_type": "code",
   "execution_count": null,
   "id": "f03e662d",
   "metadata": {},
   "outputs": [],
   "source": [
    "# Build scatter plot for each data type:\n",
    "plt.figure(figsize=(9,6))\n",
    "x_values = house_data_df['yr_built']\n",
    "y_values = house_data_df['price']\n",
    "\n",
    "# Perform a linear regression on wind speed vs. latitude:\n",
    "(slope, intercept, rvalue, pvalue, stderr) = linregress(x_values, y_values)\n",
    "\n",
    "# Get regression values:\n",
    "regress_values = x_values * slope + intercept\n",
    "\n",
    "# Create line equation string:\n",
    "line_eq = 'y = ' + str(round(slope,2)) + 'x + ' + str(round(intercept,2))\n",
    "\n",
    "# Create plot:\n",
    "plt.scatter(x_values,y_values, marker='o', color='royalblue', s=[70], edgecolors='black')\n",
    "plt.plot(x_values,regress_values,'darkred', linewidth=2)\n",
    "\n",
    "# Incorporate the other graph properties:\n",
    "plt.title('Year Built vs. Price', fontsize=20)\n",
    "plt.ylabel('Price (in millions)', fontsize=16, color='black')\n",
    "plt.xlabel('Year Built', fontsize=16, color='black')\n",
    "plt.annotate(line_eq,(1900,5e6), fontsize=18, color='darkred')\n",
    "\n",
    "# Print r-squared value:\n",
    "print(f'The r-squared is: {rvalue}')\n",
    "\n",
    "# Save the figure:\n",
    "plt.savefig('output_data/yearbuiltvsprice.png')\n",
    "\n",
    "# Show plot:\n",
    "plt.show()"
   ]
  },
  {
   "cell_type": "markdown",
   "id": "5124fa64",
   "metadata": {},
   "source": [
    "For the graph above, it appears that there is not a strong correlation between year built and price. Folks buying homes seem to desire older homes in a similar distribution to newer ones and are willing to pay similar prices."
   ]
  },
  {
   "cell_type": "markdown",
   "id": "23c0e43b",
   "metadata": {},
   "source": [
    "### Scatter plot with linear regression and r-squared value (year renovated vs. price) "
   ]
  },
  {
   "cell_type": "code",
   "execution_count": null,
   "id": "8822aa20",
   "metadata": {},
   "outputs": [],
   "source": [
    "#new Data Frame with year renovated column instead of year built\n",
    "renovated_df = kc_house_data_df[[\"id\", \"lat\", \"long\",\"zipcode\", \"price\", \"yr_renovated\"]]\n",
    "renovated_df = renovated_df[renovated_df[\"yr_renovated\"] > 0]\n",
    "\n",
    "# Build scatter plot for each data type:\n",
    "plt.figure(figsize=(9,6))\n",
    "x_values = renovated_df['yr_renovated']\n",
    "y_values = renovated_df['price']\n",
    "\n",
    "# Perform a linear regression on wind speed vs. latitude:\n",
    "(slope, intercept, rvalue, pvalue, stderr) = linregress(x_values, y_values)\n",
    "\n",
    "# Get regression values:\n",
    "regress_values = x_values * slope + intercept\n",
    "\n",
    "# Create line equation string:\n",
    "line_eq = 'y = ' + str(round(slope,2)) + 'x + ' + str(round(intercept,2))\n",
    "\n",
    "# Create plot:\n",
    "plt.scatter(x_values,y_values, marker='o', color='royalblue', s=[70], edgecolors='black')\n",
    "plt.plot(x_values,regress_values,'darkred', linewidth=2)\n",
    "\n",
    "# Incorporate the other graph properties:\n",
    "plt.title('Year Renovated vs. Price', fontsize=20)\n",
    "plt.ylabel('Price (in millions)', fontsize=16, color='black')\n",
    "plt.xlabel('Year Renovated', fontsize=16, color='black')\n",
    "plt.annotate(line_eq,(1935,5e6), fontsize=18, color='darkred')\n",
    "\n",
    "# Print r-squared value:\n",
    "print(f'The r-squared is: {rvalue}')\n",
    "\n",
    "# Save the figure:\n",
    "plt.savefig('output_data/yearrenovatedvsprice.png')\n",
    "\n",
    "# Show plot:\n",
    "plt.show()"
   ]
  },
  {
   "cell_type": "markdown",
   "id": "dfff510e",
   "metadata": {},
   "source": [
    "In the graph above we see that there is a stronger correlation between price and year renovated. It seems that folks buying homes do tend to pay more for homes that are renovated, regardless of the year originally built."
   ]
  },
  {
   "cell_type": "markdown",
   "id": "f94bc760",
   "metadata": {},
   "source": [
    "### Dataframe for top 6 most newly built houses include lat, lng, House ID, Price, and yr_built columns"
   ]
  },
  {
   "cell_type": "code",
   "execution_count": null,
   "id": "40b4833e",
   "metadata": {},
   "outputs": [],
   "source": [
    "#sort by most recent year built\n",
    "top_six_new_df = house_data_df.sort_values(\"yr_built\", ascending=False)\n",
    "\n",
    "#narrow data frame\n",
    "top_six_new_df = top_six_new_df[[\"id\", \"lat\", \"long\", \"zipcode\", \"price\", \"yr_built\"]]\n",
    "\n",
    "#show top 6 results\n",
    "top_six_new_df = top_six_new_df.head(6)\n",
    "top_six_new_df"
   ]
  },
  {
   "cell_type": "markdown",
   "id": "66386b6c",
   "metadata": {},
   "source": [
    "### Dataframe for top 6 recently renovated houses include lat, lng, House ID, Price, and yr_renovated columns"
   ]
  },
  {
   "cell_type": "code",
   "execution_count": null,
   "id": "3111633b",
   "metadata": {},
   "outputs": [],
   "source": [
    "#sort by most recent year\n",
    "top_six_renovated = renovated_df.sort_values(\"yr_renovated\", ascending=False)\n",
    "\n",
    "#show top 6 results\n",
    "top_six_renovated = top_six_renovated.head(6)\n",
    "top_six_renovated"
   ]
  },
  {
   "cell_type": "code",
   "execution_count": null,
   "id": "41d91a26",
   "metadata": {},
   "outputs": [],
   "source": [
    "#number of homes\n",
    "len(house_data_df[\"id\"])\n",
    "#number of renovated homes\n",
    "len(renovated_df[\"id\"])\n",
    "\n",
    "#percentage of renovated homes\n",
    "percent_renovated = round((len(renovated_df[\"id\"]) / len(house_data_df[\"id\"]))*100, 2)\n",
    "percent_renovated"
   ]
  },
  {
   "cell_type": "markdown",
   "id": "89ac2618",
   "metadata": {},
   "source": [
    "### Plot markers for the top 6 most newly built houses using lat and lng on a map with pins containing House ID, Price, and yr_built"
   ]
  },
  {
   "cell_type": "code",
   "execution_count": null,
   "id": "7d0207a0",
   "metadata": {},
   "outputs": [],
   "source": [
    "# import API key\n",
    "from api_keys import g_key\n",
    "\n",
    "# configure gmaps\n",
    "gmaps.configure(api_key=g_key)\n",
    "\n",
    "# using the template add the markers to the map\n",
    "info_box_template = \"\"\"\n",
    "<dl>\n",
    "<dt>House ID</dt><dd>{id}</dd>\n",
    "<dt>Price</dt><dd>{price}</dd>\n",
    "<dt>Year Built</dt><dd>{yr_built}</dd>\n",
    "</dl>\n",
    "\"\"\"\n",
    "# Store the DataFrame Row\n",
    "# NOTE: be sure to update with your DataFrame name\n",
    "top_six_info = [info_box_template.format(**row) for index, row in top_six_new_df.iterrows()]\n",
    "locations = top_six_new_df[[\"lat\", \"long\"]]\n",
    "\n",
    "figure_layout = {\n",
    "    'width': '400px',\n",
    "    'height': '300px',\n",
    "    'border': '1px solid black',\n",
    "    'padding': '1px',\n",
    "    'margin': '0 auto 0 auto'\n",
    "}\n",
    "\n",
    "# add marker layer ontop of heat map\n",
    "fig = gmaps.figure(layout=figure_layout)\n",
    "\n",
    "# assign the marker layer to locations\n",
    "markers = gmaps.marker_layer(locations,info_box_content=top_six_info)\n",
    "\n",
    "# add the layer to the map\n",
    "fig.add_layer(markers)\n",
    "fig"
   ]
  },
  {
   "cell_type": "markdown",
   "id": "e9f21812",
   "metadata": {},
   "source": [
    "### Group data frame by zip code, show the zipcodes with the newest houses along with average price, and number of houses per zip code"
   ]
  },
  {
   "cell_type": "code",
   "execution_count": null,
   "id": "b9e76acf",
   "metadata": {},
   "outputs": [],
   "source": [
    "#narrow data frame\n",
    "zipcode_df = house_data_df[[\"id\", \"zipcode\", \"price\", \"yr_built\"]]\n",
    "\n",
    "#group by zipcode\n",
    "zipcode_df = zipcode_df.groupby([\"zipcode\"])\n",
    "\n",
    "# define variables to display most recent year, average price, number of houses for each zip\n",
    "newest = zipcode_df[\"yr_built\"].max()\n",
    "price_mean = zipcode_df[\"price\"].mean()\n",
    "house_count = zipcode_df[\"id\"].count()\n",
    "zipcode_gb_df= pd.DataFrame({\"id\": house_count, \"yr_built\": newest, \"price\": price_mean})\n",
    "\n",
    "# sort by year built\n",
    "zipcode_gb_df = zipcode_gb_df.sort_values(\"yr_built\", ascending=False)\n",
    "zipcode_gb_df.head()"
   ]
  },
  {
   "cell_type": "markdown",
   "id": "59a6a67d",
   "metadata": {},
   "source": [
    "## Accessibility analysis: What can we conclude from this data set and where are there gaps?"
   ]
  },
  {
   "cell_type": "code",
   "execution_count": null,
   "id": "e91b9332",
   "metadata": {},
   "outputs": [],
   "source": [
    "#narrow data frame\n",
    "floors_df = kc_house_data_df[['id', 'price', 'floors', 'yr_built', 'zipcode', 'lat', 'long']]\n",
    "floors_df.head()"
   ]
  },
  {
   "cell_type": "code",
   "execution_count": null,
   "id": "73ab5428",
   "metadata": {},
   "outputs": [],
   "source": [
    "#data frame for one floor homes\n",
    "floors_one_df = floors_df[floors_df[\"floors\"] == 1]\n",
    "floors_one_df.head()"
   ]
  },
  {
   "cell_type": "code",
   "execution_count": null,
   "id": "7624dfd3",
   "metadata": {},
   "outputs": [],
   "source": [
    "#number of total homes\n",
    "len(floors_df[\"id\"])\n",
    "#number of homes with one floor\n",
    "len(floors_one_df[\"id\"])\n",
    "\n",
    "#percentage of homes with one floor from data set\n",
    "percent_one_floor = round((len(floors_one_df[\"id\"]) / len(floors_df[\"id\"]))*100, 2)\n",
    "\n",
    "print(f'{percent_one_floor}% of homes in this data set have only one floor')"
   ]
  },
  {
   "cell_type": "markdown",
   "id": "e18c6db5",
   "metadata": {},
   "source": [
    "Conclusion: A gap in this data set is the lack of visibility on accessible housing for folks with disabilities. The only column in this data set that may indicate some level of accessible residences are the number of ranch/one level homes. This cateogry is helpful, but does not confirm other standards such as wide doorways, number of standing showers instead of bathtubs, lower countertops etc. Though the 2010 ADA Standards for Accessible Design are required for most new public buildings, the rule does not apply to most residential buildings, so we cannot say for sure that homes built after a certain year are more accessible than older homes. A potential improvement for this data set would be to assign each house id with an accessibility rating similar to condition or grade."
   ]
  },
  {
   "cell_type": "code",
   "execution_count": null,
   "id": "511d8fc0",
   "metadata": {},
   "outputs": [],
   "source": []
  }
 ],
 "metadata": {
  "kernelspec": {
   "display_name": "Python [conda env:PythonData38] *",
   "language": "python",
   "name": "conda-env-PythonData38-py"
  },
  "language_info": {
   "codemirror_mode": {
    "name": "ipython",
    "version": 3
   },
   "file_extension": ".py",
   "mimetype": "text/x-python",
   "name": "python",
   "nbconvert_exporter": "python",
   "pygments_lexer": "ipython3",
   "version": "3.8.12"
  }
 },
 "nbformat": 4,
 "nbformat_minor": 5
}
